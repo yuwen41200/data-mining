{
 "cells": [
  {
   "cell_type": "markdown",
   "metadata": {},
   "source": [
    "Preparing `taipower` dataset:  \n",
    "+ electricity consumption in northern Taiwan\n",
    "+ 273 days (2016/10/01–2017/06/30)\n",
    "+ select 10 hours for each day (9:00–18:00)\n",
    "+ p.s. round DATETIME towards its nearest hour (e.g. 2017/10/16 14:37:52 -> 2017/10/16 15:00:00)"
   ]
  },
  {
   "cell_type": "markdown",
   "metadata": {},
   "source": [
    "```sql\n",
    "SELECT\n",
    "  DATE_FORMAT(\n",
    "    DATE_ADD(Power.updateTime, INTERVAL 30 MINUTE),\n",
    "    '%Y-%m-%d %H:00:00'\n",
    "  ) AS time,\n",
    "  Power.northUsage\n",
    "FROM Power\n",
    "WHERE (DATE(Power.updateTime) BETWEEN '2016-10-01' AND '2017-06-30')\n",
    "  AND (TIME(Power.updateTime) BETWEEN '08:30:00' AND '18:29:59')\n",
    "```"
   ]
  },
  {
   "cell_type": "code",
   "execution_count": 1,
   "metadata": {},
   "outputs": [
    {
     "data": {
      "text/plain": [
       "273"
      ]
     },
     "execution_count": 1,
     "metadata": {},
     "output_type": "execute_result"
    }
   ],
   "source": [
    "from datetime import date, timedelta\n",
    "start = date(2016, 10, 1)\n",
    "end = date(2017, 6, 30)\n",
    "delta = end - start\n",
    "hours = ['09', '10', '11', '12', '13', '14', '15', '16', '17', '18']\n",
    "delta.days + 1"
   ]
  },
  {
   "cell_type": "code",
   "execution_count": 2,
   "metadata": {},
   "outputs": [],
   "source": [
    "taipower_dict = {}\n",
    "for i in range(delta.days + 1):\n",
    "    for j in hours:\n",
    "        key = str(start + timedelta(days=i)) + ' ' + j + ':00:00'\n",
    "        taipower_dict[key] = -1"
   ]
  },
  {
   "cell_type": "code",
   "execution_count": 3,
   "metadata": {},
   "outputs": [
    {
     "name": "stdout",
     "output_type": "stream",
     "text": [
      "DUPLICATE 2017-05-20 13:00:00\n"
     ]
    }
   ],
   "source": [
    "with open('taipower.csv') as file:\n",
    "    for line in file:\n",
    "        fields = line.split(',')\n",
    "        key = fields[0]\n",
    "        if key in taipower_dict:\n",
    "            if taipower_dict[key] != -1:\n",
    "                print('DUPLICATE', key)\n",
    "            else:\n",
    "                taipower_dict[key] = float(fields[1])\n",
    "        else:\n",
    "            print('ERROR')"
   ]
  },
  {
   "cell_type": "code",
   "execution_count": 4,
   "metadata": {},
   "outputs": [
    {
     "data": {
      "text/plain": [
       "867"
      ]
     },
     "execution_count": 4,
     "metadata": {},
     "output_type": "execute_result"
    }
   ],
   "source": [
    "missing = [key for key in taipower_dict if taipower_dict[key] == -1]\n",
    "len(missing)"
   ]
  },
  {
   "cell_type": "code",
   "execution_count": 5,
   "metadata": {},
   "outputs": [],
   "source": [
    "taipower = []\n",
    "for i in range(delta.days + 1):\n",
    "    record = []\n",
    "    for j in hours:\n",
    "        key = str(start + timedelta(days=i)) + ' ' + j + ':00:00'\n",
    "        record.append(taipower_dict[key])\n",
    "    taipower.append(record)"
   ]
  },
  {
   "cell_type": "markdown",
   "metadata": {},
   "source": [
    "Use [scikit-learn](http://scikit-learn.org/) to impute missing values using the mean of columns."
   ]
  },
  {
   "cell_type": "code",
   "execution_count": 7,
   "metadata": {},
   "outputs": [],
   "source": [
    "from sklearn.preprocessing import Imputer\n",
    "taipower = Imputer(missing_values=-1).fit_transform(taipower)"
   ]
  },
  {
   "cell_type": "code",
   "execution_count": 9,
   "metadata": {},
   "outputs": [
    {
     "data": {
      "text/plain": [
       "273"
      ]
     },
     "execution_count": 9,
     "metadata": {},
     "output_type": "execute_result"
    }
   ],
   "source": [
    "len(taipower)"
   ]
  },
  {
   "cell_type": "markdown",
   "metadata": {},
   "source": [
    "Preparing `temperature` dataset:  \n",
    "+ temperature in Banqiao, Taiwan\n",
    "+ 273 days (2016/10/01–2017/06/30)\n",
    "+ select 10 hours for each day (9:00–18:00)\n",
    "+ p.s. round DATETIME towards its nearest hour (e.g. 2017/10/16 14:37:52 -> 2017/10/16 15:00:00)"
   ]
  },
  {
   "cell_type": "markdown",
   "metadata": {},
   "source": [
    "```sql\n",
    "SELECT\n",
    "  DATE_FORMAT(\n",
    "    DATE_ADD(逐時觀測.時間, INTERVAL 30 MINUTE),\n",
    "    '%Y-%m-%d %H:00:00'\n",
    "  ) AS time,\n",
    "  逐時觀測.溫度\n",
    "FROM 逐時觀測\n",
    "WHERE (DATE(逐時觀測.時間) BETWEEN '2016-10-01' AND '2017-06-30')\n",
    "  AND (TIME(逐時觀測.時間) BETWEEN '08:30:00' AND '18:29:59')\n",
    "  AND (逐時觀測.測站 = 'BANQIAO,板橋')\n",
    "```"
   ]
  },
  {
   "cell_type": "code",
   "execution_count": null,
   "metadata": {},
   "outputs": [],
   "source": []
  }
 ],
 "metadata": {
  "kernelspec": {
   "display_name": "Python 3",
   "language": "python",
   "name": "python3"
  },
  "language_info": {
   "codemirror_mode": {
    "name": "ipython",
    "version": 3
   },
   "file_extension": ".py",
   "mimetype": "text/x-python",
   "name": "python",
   "nbconvert_exporter": "python",
   "pygments_lexer": "ipython3",
   "version": "3.6.3"
  }
 },
 "nbformat": 4,
 "nbformat_minor": 2
}
