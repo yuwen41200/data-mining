{
 "cells": [
  {
   "cell_type": "markdown",
   "metadata": {},
   "source": [
    "Preparing `taipower` dataset:  \n",
    "+ electricity consumption in northern Taiwan\n",
    "+ 273 days (2016/10/01–2017/06/30)\n",
    "+ select 10 hours for each day (9:00–18:00)\n",
    "+ p.s. round DATETIME towards its nearest hour (e.g. 2017/10/16 14:37:52 -> 2017/10/16 15:00:00)"
   ]
  },
  {
   "cell_type": "markdown",
   "metadata": {},
   "source": [
    "```sql\n",
    "SELECT\n",
    "  DATE_FORMAT(\n",
    "    DATE_ADD(Power.updateTime, INTERVAL 30 MINUTE),\n",
    "    '%Y-%m-%d %H:00:00'\n",
    "  ) AS time,\n",
    "  Power.northUsage\n",
    "FROM Power\n",
    "WHERE (DATE(Power.updateTime) BETWEEN '2016-10-01' AND '2017-06-30')\n",
    "  AND (TIME(Power.updateTime) BETWEEN '08:30:00' AND '18:29:59')\n",
    "```"
   ]
  },
  {
   "cell_type": "code",
   "execution_count": 1,
   "metadata": {},
   "outputs": [
    {
     "data": {
      "text/plain": [
       "273"
      ]
     },
     "execution_count": 1,
     "metadata": {},
     "output_type": "execute_result"
    }
   ],
   "source": [
    "from datetime import date, timedelta\n",
    "start = date(2016, 10, 1)\n",
    "end = date(2017, 6, 30)\n",
    "delta = end - start\n",
    "hours = ['09', '10', '11', '12', '13', '14', '15', '16', '17', '18']\n",
    "delta.days + 1"
   ]
  },
  {
   "cell_type": "code",
   "execution_count": 2,
   "metadata": {},
   "outputs": [],
   "source": [
    "taipower_dict = {}\n",
    "for i in range(delta.days + 1):\n",
    "    for j in hours:\n",
    "        key = str(start + timedelta(days=i)) + ' ' + j + ':00:00'\n",
    "        taipower_dict[key] = -1"
   ]
  },
  {
   "cell_type": "code",
   "execution_count": 3,
   "metadata": {},
   "outputs": [
    {
     "name": "stdout",
     "output_type": "stream",
     "text": [
      "DUPLICATE 2017-05-20 13:00:00\n"
     ]
    }
   ],
   "source": [
    "with open('taipower.csv') as file:\n",
    "    for line in file:\n",
    "        fields = line.split(',')\n",
    "        key = fields[0]\n",
    "        if key in taipower_dict:\n",
    "            if taipower_dict[key] != -1:\n",
    "                print('DUPLICATE', key)\n",
    "            else:\n",
    "                taipower_dict[key] = float(fields[1])\n",
    "        else:\n",
    "            print('ERROR')"
   ]
  },
  {
   "cell_type": "code",
   "execution_count": 4,
   "metadata": {},
   "outputs": [
    {
     "data": {
      "text/plain": [
       "867"
      ]
     },
     "execution_count": 4,
     "metadata": {},
     "output_type": "execute_result"
    }
   ],
   "source": [
    "missing = [key for key in taipower_dict if taipower_dict[key] == -1]\n",
    "len(missing)"
   ]
  },
  {
   "cell_type": "code",
   "execution_count": 5,
   "metadata": {},
   "outputs": [],
   "source": [
    "taipower = []\n",
    "for i in range(delta.days + 1):\n",
    "    record = []\n",
    "    for j in hours:\n",
    "        key = str(start + timedelta(days=i)) + ' ' + j + ':00:00'\n",
    "        record.append(taipower_dict[key])\n",
    "    taipower.append(record)"
   ]
  },
  {
   "cell_type": "markdown",
   "metadata": {},
   "source": [
    "Use [scikit-learn](http://scikit-learn.org/) to impute missing values using the mean of columns."
   ]
  },
  {
   "cell_type": "code",
   "execution_count": 6,
   "metadata": {},
   "outputs": [],
   "source": [
    "from sklearn.preprocessing import Imputer\n",
    "taipower = Imputer(missing_values=-1).fit_transform(taipower)"
   ]
  },
  {
   "cell_type": "code",
   "execution_count": 7,
   "metadata": {},
   "outputs": [
    {
     "data": {
      "text/plain": [
       "273"
      ]
     },
     "execution_count": 7,
     "metadata": {},
     "output_type": "execute_result"
    }
   ],
   "source": [
    "len(taipower)"
   ]
  },
  {
   "cell_type": "markdown",
   "metadata": {},
   "source": [
    "Preparing `temperature` dataset:  \n",
    "+ temperature in Banqiao, Taiwan\n",
    "+ 273 days (2016/10/01–2017/06/30)\n",
    "+ select 10 hours for each day (9:00–18:00)\n",
    "+ p.s. round DATETIME towards its nearest hour (e.g. 2017/10/16 14:37:52 -> 2017/10/16 15:00:00)"
   ]
  },
  {
   "cell_type": "markdown",
   "metadata": {},
   "source": [
    "```sql\n",
    "SELECT\n",
    "  DATE_FORMAT(\n",
    "    DATE_ADD(逐時觀測.時間, INTERVAL 30 MINUTE),\n",
    "    '%Y-%m-%d %H:00:00'\n",
    "  ) AS time,\n",
    "  逐時觀測.溫度\n",
    "FROM 逐時觀測\n",
    "WHERE (DATE(逐時觀測.時間) BETWEEN '2016-10-01' AND '2017-06-30')\n",
    "  AND (TIME(逐時觀測.時間) BETWEEN '08:30:00' AND '18:29:59')\n",
    "  AND (逐時觀測.測站 = 'BANQIAO,板橋')\n",
    "```"
   ]
  },
  {
   "cell_type": "code",
   "execution_count": 8,
   "metadata": {},
   "outputs": [],
   "source": [
    "temperature_dict = {}\n",
    "for i in range(delta.days + 1):\n",
    "    for j in hours:\n",
    "        key = str(start + timedelta(days=i)) + ' ' + j + ':00:00'\n",
    "        temperature_dict[key] = -1"
   ]
  },
  {
   "cell_type": "code",
   "execution_count": 9,
   "metadata": {},
   "outputs": [],
   "source": [
    "with open('temperature.csv') as file:\n",
    "    for line in file:\n",
    "        fields = line.split(',')\n",
    "        key = fields[0]\n",
    "        if key in temperature_dict:\n",
    "            if temperature_dict[key] != -1:\n",
    "                print('DUPLICATE', key)\n",
    "            else:\n",
    "                temperature_dict[key] = float(fields[1])\n",
    "        else:\n",
    "            print('ERROR')"
   ]
  },
  {
   "cell_type": "code",
   "execution_count": 10,
   "metadata": {},
   "outputs": [
    {
     "data": {
      "text/plain": [
       "0"
      ]
     },
     "execution_count": 10,
     "metadata": {},
     "output_type": "execute_result"
    }
   ],
   "source": [
    "missing = [key for key in temperature_dict if temperature_dict[key] == -1]\n",
    "len(missing)"
   ]
  },
  {
   "cell_type": "code",
   "execution_count": 11,
   "metadata": {},
   "outputs": [],
   "source": [
    "temperature = []\n",
    "for i in range(delta.days + 1):\n",
    "    record = []\n",
    "    for j in hours:\n",
    "        key = str(start + timedelta(days=i)) + ' ' + j + ':00:00'\n",
    "        record.append(temperature_dict[key])\n",
    "    temperature.append(record)"
   ]
  },
  {
   "cell_type": "code",
   "execution_count": 12,
   "metadata": {},
   "outputs": [],
   "source": [
    "import numpy as np\n",
    "temperature = np.array(temperature)"
   ]
  },
  {
   "cell_type": "code",
   "execution_count": 13,
   "metadata": {},
   "outputs": [
    {
     "data": {
      "text/plain": [
       "273"
      ]
     },
     "execution_count": 13,
     "metadata": {},
     "output_type": "execute_result"
    }
   ],
   "source": [
    "len(temperature)"
   ]
  },
  {
   "cell_type": "code",
   "execution_count": 14,
   "metadata": {},
   "outputs": [],
   "source": [
    "# From Material Design Color Palette\n",
    "colors = [\n",
    "    '#F44336', '#673AB7', '#03A9F4', '#4CAF50', '#FFEB3B',\n",
    "    '#009688', '#9E9E9E', '#795548', '#CDDC39', '#FF5722',\n",
    "    '#E91E63', '#2196F3', '#3F51B5', '#00BCD4', '#8BC34A',\n",
    "    '#FFC107', '#607D8B', '#9C27B0', '#FF9800', '#000000',\n",
    "]"
   ]
  },
  {
   "cell_type": "markdown",
   "metadata": {},
   "source": [
    "Use `Agglomerative Clustering`, a kind of hierarchical clustering algorithm, from [scikit-learn](http://scikit-learn.org/).  \n",
    "將資料集分成 3 群，其餘參數使用預設值。"
   ]
  },
  {
   "cell_type": "code",
   "execution_count": 15,
   "metadata": {},
   "outputs": [],
   "source": [
    "from sklearn.cluster import AgglomerativeClustering\n",
    "labels = AgglomerativeClustering(n_clusters=3).fit_predict(taipower)"
   ]
  },
  {
   "cell_type": "code",
   "execution_count": 16,
   "metadata": {
    "scrolled": false
   },
   "outputs": [
    {
     "data": {
      "text/html": [
       "<table><tr><td></td><td>1</td><td>2</td><td>3</td><td>4</td><td>5</td><td>6</td><td>7</td><td>8</td><td>9</td><td>10</td><td>11</td><td>12</td><td>13</td><td>14</td><td>15</td><td>16</td><td>17</td><td>18</td><td>19</td><td>20</td><td>21</td><td>22</td><td>23</td><td>24</td><td>25</td><td>26</td><td>27</td><td>28</td><td>29</td><td>30</td><td>31</td></tr><tr><td>10</td><td style=\"background-color: #F44336;\">　　</td><td style=\"background-color: #F44336;\">　　</td><td style=\"background-color: #F44336;\">　　</td><td style=\"background-color: #673AB7;\">　　</td><td style=\"background-color: #673AB7;\">　　</td><td style=\"background-color: #673AB7;\">　　</td><td style=\"background-color: #673AB7;\">　　</td><td style=\"background-color: #F44336;\">　　</td><td style=\"background-color: #03A9F4;\">　　</td><td style=\"background-color: #03A9F4;\">　　</td><td style=\"background-color: #F44336;\">　　</td><td style=\"background-color: #F44336;\">　　</td><td style=\"background-color: #F44336;\">　　</td><td style=\"background-color: #F44336;\">　　</td><td style=\"background-color: #F44336;\">　　</td><td style=\"background-color: #F44336;\">　　</td><td style=\"background-color: #673AB7;\">　　</td><td style=\"background-color: #673AB7;\">　　</td><td style=\"background-color: #673AB7;\">　　</td><td style=\"background-color: #673AB7;\">　　</td><td style=\"background-color: #673AB7;\">　　</td><td style=\"background-color: #F44336;\">　　</td><td style=\"background-color: #F44336;\">　　</td><td style=\"background-color: #673AB7;\">　　</td><td style=\"background-color: #673AB7;\">　　</td><td style=\"background-color: #673AB7;\">　　</td><td style=\"background-color: #673AB7;\">　　</td><td style=\"background-color: #673AB7;\">　　</td><td style=\"background-color: #F44336;\">　　</td><td style=\"background-color: #03A9F4;\">　　</td><td style=\"background-color: #F44336;\">　　</td></tr><tr><td>11</td><td style=\"background-color: #F44336;\">　　</td><td style=\"background-color: #F44336;\">　　</td><td style=\"background-color: #F44336;\">　　</td><td style=\"background-color: #F44336;\">　　</td><td style=\"background-color: #03A9F4;\">　　</td><td style=\"background-color: #03A9F4;\">　　</td><td style=\"background-color: #F44336;\">　　</td><td style=\"background-color: #F44336;\">　　</td><td style=\"background-color: #F44336;\">　　</td><td style=\"background-color: #F44336;\">　　</td><td style=\"background-color: #F44336;\">　　</td><td style=\"background-color: #03A9F4;\">　　</td><td style=\"background-color: #03A9F4;\">　　</td><td style=\"background-color: #F44336;\">　　</td><td style=\"background-color: #F44336;\">　　</td><td style=\"background-color: #F44336;\">　　</td><td style=\"background-color: #F44336;\">　　</td><td style=\"background-color: #F44336;\">　　</td><td style=\"background-color: #F44336;\">　　</td><td style=\"background-color: #03A9F4;\">　　</td><td style=\"background-color: #F44336;\">　　</td><td style=\"background-color: #F44336;\">　　</td><td style=\"background-color: #F44336;\">　　</td><td style=\"background-color: #F44336;\">　　</td><td style=\"background-color: #F44336;\">　　</td><td style=\"background-color: #03A9F4;\">　　</td><td style=\"background-color: #03A9F4;\">　　</td><td style=\"background-color: #F44336;\">　　</td><td style=\"background-color: #F44336;\">　　</td><td style=\"background-color: #F44336;\">　　</td><td style=\"background-color: #FFFFFF;\">　　</td></tr><tr><td>12</td><td style=\"background-color: #F44336;\">　　</td><td style=\"background-color: #F44336;\">　　</td><td style=\"background-color: #03A9F4;\">　　</td><td style=\"background-color: #03A9F4;\">　　</td><td style=\"background-color: #F44336;\">　　</td><td style=\"background-color: #F44336;\">　　</td><td style=\"background-color: #F44336;\">　　</td><td style=\"background-color: #F44336;\">　　</td><td style=\"background-color: #F44336;\">　　</td><td style=\"background-color: #03A9F4;\">　　</td><td style=\"background-color: #03A9F4;\">　　</td><td style=\"background-color: #F44336;\">　　</td><td style=\"background-color: #F44336;\">　　</td><td style=\"background-color: #F44336;\">　　</td><td style=\"background-color: #F44336;\">　　</td><td style=\"background-color: #F44336;\">　　</td><td style=\"background-color: #03A9F4;\">　　</td><td style=\"background-color: #03A9F4;\">　　</td><td style=\"background-color: #F44336;\">　　</td><td style=\"background-color: #F44336;\">　　</td><td style=\"background-color: #F44336;\">　　</td><td style=\"background-color: #F44336;\">　　</td><td style=\"background-color: #F44336;\">　　</td><td style=\"background-color: #03A9F4;\">　　</td><td style=\"background-color: #03A9F4;\">　　</td><td style=\"background-color: #F44336;\">　　</td><td style=\"background-color: #F44336;\">　　</td><td style=\"background-color: #F44336;\">　　</td><td style=\"background-color: #F44336;\">　　</td><td style=\"background-color: #F44336;\">　　</td><td style=\"background-color: #03A9F4;\">　　</td></tr><tr><td>1</td><td style=\"background-color: #03A9F4;\">　　</td><td style=\"background-color: #03A9F4;\">　　</td><td style=\"background-color: #F44336;\">　　</td><td style=\"background-color: #F44336;\">　　</td><td style=\"background-color: #F44336;\">　　</td><td style=\"background-color: #F44336;\">　　</td><td style=\"background-color: #03A9F4;\">　　</td><td style=\"background-color: #03A9F4;\">　　</td><td style=\"background-color: #F44336;\">　　</td><td style=\"background-color: #F44336;\">　　</td><td style=\"background-color: #F44336;\">　　</td><td style=\"background-color: #F44336;\">　　</td><td style=\"background-color: #F44336;\">　　</td><td style=\"background-color: #F44336;\">　　</td><td style=\"background-color: #03A9F4;\">　　</td><td style=\"background-color: #F44336;\">　　</td><td style=\"background-color: #F44336;\">　　</td><td style=\"background-color: #F44336;\">　　</td><td style=\"background-color: #F44336;\">　　</td><td style=\"background-color: #F44336;\">　　</td><td style=\"background-color: #03A9F4;\">　　</td><td style=\"background-color: #03A9F4;\">　　</td><td style=\"background-color: #F44336;\">　　</td><td style=\"background-color: #F44336;\">　　</td><td style=\"background-color: #F44336;\">　　</td><td style=\"background-color: #F44336;\">　　</td><td style=\"background-color: #F44336;\">　　</td><td style=\"background-color: #F44336;\">　　</td><td style=\"background-color: #F44336;\">　　</td><td style=\"background-color: #F44336;\">　　</td><td style=\"background-color: #F44336;\">　　</td></tr><tr><td>2</td><td style=\"background-color: #F44336;\">　　</td><td style=\"background-color: #F44336;\">　　</td><td style=\"background-color: #F44336;\">　　</td><td style=\"background-color: #F44336;\">　　</td><td style=\"background-color: #F44336;\">　　</td><td style=\"background-color: #F44336;\">　　</td><td style=\"background-color: #F44336;\">　　</td><td style=\"background-color: #F44336;\">　　</td><td style=\"background-color: #F44336;\">　　</td><td style=\"background-color: #F44336;\">　　</td><td style=\"background-color: #F44336;\">　　</td><td style=\"background-color: #F44336;\">　　</td><td style=\"background-color: #F44336;\">　　</td><td style=\"background-color: #F44336;\">　　</td><td style=\"background-color: #F44336;\">　　</td><td style=\"background-color: #F44336;\">　　</td><td style=\"background-color: #F44336;\">　　</td><td style=\"background-color: #F44336;\">　　</td><td style=\"background-color: #F44336;\">　　</td><td style=\"background-color: #F44336;\">　　</td><td style=\"background-color: #F44336;\">　　</td><td style=\"background-color: #F44336;\">　　</td><td style=\"background-color: #F44336;\">　　</td><td style=\"background-color: #F44336;\">　　</td><td style=\"background-color: #F44336;\">　　</td><td style=\"background-color: #F44336;\">　　</td><td style=\"background-color: #F44336;\">　　</td><td style=\"background-color: #F44336;\">　　</td><td style=\"background-color: #FFFFFF;\">　　</td><td style=\"background-color: #FFFFFF;\">　　</td><td style=\"background-color: #FFFFFF;\">　　</td></tr><tr><td>3</td><td style=\"background-color: #F44336;\">　　</td><td style=\"background-color: #F44336;\">　　</td><td style=\"background-color: #F44336;\">　　</td><td style=\"background-color: #F44336;\">　　</td><td style=\"background-color: #F44336;\">　　</td><td style=\"background-color: #F44336;\">　　</td><td style=\"background-color: #F44336;\">　　</td><td style=\"background-color: #F44336;\">　　</td><td style=\"background-color: #F44336;\">　　</td><td style=\"background-color: #F44336;\">　　</td><td style=\"background-color: #F44336;\">　　</td><td style=\"background-color: #F44336;\">　　</td><td style=\"background-color: #F44336;\">　　</td><td style=\"background-color: #F44336;\">　　</td><td style=\"background-color: #F44336;\">　　</td><td style=\"background-color: #F44336;\">　　</td><td style=\"background-color: #F44336;\">　　</td><td style=\"background-color: #F44336;\">　　</td><td style=\"background-color: #F44336;\">　　</td><td style=\"background-color: #F44336;\">　　</td><td style=\"background-color: #F44336;\">　　</td><td style=\"background-color: #F44336;\">　　</td><td style=\"background-color: #F44336;\">　　</td><td style=\"background-color: #F44336;\">　　</td><td style=\"background-color: #F44336;\">　　</td><td style=\"background-color: #F44336;\">　　</td><td style=\"background-color: #F44336;\">　　</td><td style=\"background-color: #F44336;\">　　</td><td style=\"background-color: #F44336;\">　　</td><td style=\"background-color: #F44336;\">　　</td><td style=\"background-color: #F44336;\">　　</td></tr><tr><td>4</td><td style=\"background-color: #F44336;\">　　</td><td style=\"background-color: #F44336;\">　　</td><td style=\"background-color: #F44336;\">　　</td><td style=\"background-color: #F44336;\">　　</td><td style=\"background-color: #F44336;\">　　</td><td style=\"background-color: #F44336;\">　　</td><td style=\"background-color: #F44336;\">　　</td><td style=\"background-color: #F44336;\">　　</td><td style=\"background-color: #F44336;\">　　</td><td style=\"background-color: #F44336;\">　　</td><td style=\"background-color: #F44336;\">　　</td><td style=\"background-color: #F44336;\">　　</td><td style=\"background-color: #F44336;\">　　</td><td style=\"background-color: #F44336;\">　　</td><td style=\"background-color: #F44336;\">　　</td><td style=\"background-color: #F44336;\">　　</td><td style=\"background-color: #F44336;\">　　</td><td style=\"background-color: #F44336;\">　　</td><td style=\"background-color: #F44336;\">　　</td><td style=\"background-color: #F44336;\">　　</td><td style=\"background-color: #F44336;\">　　</td><td style=\"background-color: #03A9F4;\">　　</td><td style=\"background-color: #03A9F4;\">　　</td><td style=\"background-color: #F44336;\">　　</td><td style=\"background-color: #F44336;\">　　</td><td style=\"background-color: #F44336;\">　　</td><td style=\"background-color: #F44336;\">　　</td><td style=\"background-color: #F44336;\">　　</td><td style=\"background-color: #03A9F4;\">　　</td><td style=\"background-color: #03A9F4;\">　　</td><td style=\"background-color: #FFFFFF;\">　　</td></tr><tr><td>5</td><td style=\"background-color: #03A9F4;\">　　</td><td style=\"background-color: #F44336;\">　　</td><td style=\"background-color: #F44336;\">　　</td><td style=\"background-color: #673AB7;\">　　</td><td style=\"background-color: #673AB7;\">　　</td><td style=\"background-color: #F44336;\">　　</td><td style=\"background-color: #03A9F4;\">　　</td><td style=\"background-color: #673AB7;\">　　</td><td style=\"background-color: #F44336;\">　　</td><td style=\"background-color: #673AB7;\">　　</td><td style=\"background-color: #673AB7;\">　　</td><td style=\"background-color: #673AB7;\">　　</td><td style=\"background-color: #F44336;\">　　</td><td style=\"background-color: #03A9F4;\">　　</td><td style=\"background-color: #673AB7;\">　　</td><td style=\"background-color: #F44336;\">　　</td><td style=\"background-color: #F44336;\">　　</td><td style=\"background-color: #F44336;\">　　</td><td style=\"background-color: #F44336;\">　　</td><td style=\"background-color: #F44336;\">　　</td><td style=\"background-color: #03A9F4;\">　　</td><td style=\"background-color: #673AB7;\">　　</td><td style=\"background-color: #673AB7;\">　　</td><td style=\"background-color: #673AB7;\">　　</td><td style=\"background-color: #F44336;\">　　</td><td style=\"background-color: #F44336;\">　　</td><td style=\"background-color: #03A9F4;\">　　</td><td style=\"background-color: #03A9F4;\">　　</td><td style=\"background-color: #03A9F4;\">　　</td><td style=\"background-color: #03A9F4;\">　　</td><td style=\"background-color: #673AB7;\">　　</td></tr><tr><td>6</td><td style=\"background-color: #673AB7;\">　　</td><td style=\"background-color: #673AB7;\">　　</td><td style=\"background-color: #F44336;\">　　</td><td style=\"background-color: #F44336;\">　　</td><td style=\"background-color: #673AB7;\">　　</td><td style=\"background-color: #673AB7;\">　　</td><td style=\"background-color: #673AB7;\">　　</td><td style=\"background-color: #673AB7;\">　　</td><td style=\"background-color: #673AB7;\">　　</td><td style=\"background-color: #F44336;\">　　</td><td style=\"background-color: #F44336;\">　　</td><td style=\"background-color: #673AB7;\">　　</td><td style=\"background-color: #673AB7;\">　　</td><td style=\"background-color: #673AB7;\">　　</td><td style=\"background-color: #F44336;\">　　</td><td style=\"background-color: #F44336;\">　　</td><td style=\"background-color: #F44336;\">　　</td><td style=\"background-color: #03A9F4;\">　　</td><td style=\"background-color: #673AB7;\">　　</td><td style=\"background-color: #673AB7;\">　　</td><td style=\"background-color: #673AB7;\">　　</td><td style=\"background-color: #673AB7;\">　　</td><td style=\"background-color: #673AB7;\">　　</td><td style=\"background-color: #F44336;\">　　</td><td style=\"background-color: #F44336;\">　　</td><td style=\"background-color: #673AB7;\">　　</td><td style=\"background-color: #673AB7;\">　　</td><td style=\"background-color: #673AB7;\">　　</td><td style=\"background-color: #673AB7;\">　　</td><td style=\"background-color: #673AB7;\">　　</td><td style=\"background-color: #FFFFFF;\">　　</td></tr></table>"
      ],
      "text/plain": [
       "<IPython.core.display.HTML object>"
      ]
     },
     "metadata": {},
     "output_type": "display_data"
    }
   ],
   "source": [
    "from IPython.display import HTML, display\n",
    "html = '<table><tr><td></td>'\n",
    "for i in range(1, 32):\n",
    "    html += '<td>' + str(i) + '</td>'\n",
    "html += '</tr>'\n",
    "cells = ['<td>10</td>']\n",
    "for i in range(delta.days + 1):\n",
    "    d = start + timedelta(days=i)\n",
    "    if d.day == 1:\n",
    "        if len(cells) == 32:\n",
    "            html += '<tr>' + ''.join(cells) + '</tr>'\n",
    "            cells[:] = ['<td>' + str(d.month) + '</td>']\n",
    "        elif len(cells) == 31:\n",
    "            cells.append('<td style=\"background-color: #FFFFFF;\">　　</td>')\n",
    "            html += '<tr>' + ''.join(cells) + '</tr>'\n",
    "            cells[:] = ['<td>' + str(d.month) + '</td>']\n",
    "        elif len(cells) == 29:\n",
    "            cells.append('<td style=\"background-color: #FFFFFF;\">　　</td>')\n",
    "            cells.append('<td style=\"background-color: #FFFFFF;\">　　</td>')\n",
    "            cells.append('<td style=\"background-color: #FFFFFF;\">　　</td>')\n",
    "            html += '<tr>' + ''.join(cells) + '</tr>'\n",
    "            cells[:] = ['<td>' + str(d.month) + '</td>']\n",
    "        elif d != start:\n",
    "            print('ERROR', d, len(cells))\n",
    "    s = '<td style=\"background-color: ' + colors[labels[i]] + ';\">　　</td>'\n",
    "    cells.append(s)\n",
    "cells.append('<td style=\"background-color: #FFFFFF;\">　　</td>')\n",
    "html += '<tr>' + ''.join(cells) + '</tr></table>'\n",
    "display(HTML(html))"
   ]
  },
  {
   "cell_type": "markdown",
   "metadata": {},
   "source": [
    "用電量的分群結果。此圖呈現了每個日子分別被分到哪一群。  \n",
    "圖中不同顏色表示不同群，每一列（橫的）表示一個月份，每一行（直的）表示一天。"
   ]
  },
  {
   "cell_type": "code",
   "execution_count": 17,
   "metadata": {},
   "outputs": [],
   "source": [
    "from sklearn.cluster import AgglomerativeClustering\n",
    "labels = AgglomerativeClustering(n_clusters=3).fit_predict(temperature)"
   ]
  },
  {
   "cell_type": "code",
   "execution_count": 18,
   "metadata": {},
   "outputs": [
    {
     "data": {
      "text/html": [
       "<table><tr><td></td><td>1</td><td>2</td><td>3</td><td>4</td><td>5</td><td>6</td><td>7</td><td>8</td><td>9</td><td>10</td><td>11</td><td>12</td><td>13</td><td>14</td><td>15</td><td>16</td><td>17</td><td>18</td><td>19</td><td>20</td><td>21</td><td>22</td><td>23</td><td>24</td><td>25</td><td>26</td><td>27</td><td>28</td><td>29</td><td>30</td><td>31</td></tr><tr><td>10</td><td style=\"background-color: #673AB7;\">　　</td><td style=\"background-color: #673AB7;\">　　</td><td style=\"background-color: #673AB7;\">　　</td><td style=\"background-color: #673AB7;\">　　</td><td style=\"background-color: #673AB7;\">　　</td><td style=\"background-color: #673AB7;\">　　</td><td style=\"background-color: #673AB7;\">　　</td><td style=\"background-color: #673AB7;\">　　</td><td style=\"background-color: #03A9F4;\">　　</td><td style=\"background-color: #03A9F4;\">　　</td><td style=\"background-color: #673AB7;\">　　</td><td style=\"background-color: #03A9F4;\">　　</td><td style=\"background-color: #03A9F4;\">　　</td><td style=\"background-color: #03A9F4;\">　　</td><td style=\"background-color: #673AB7;\">　　</td><td style=\"background-color: #673AB7;\">　　</td><td style=\"background-color: #673AB7;\">　　</td><td style=\"background-color: #673AB7;\">　　</td><td style=\"background-color: #673AB7;\">　　</td><td style=\"background-color: #673AB7;\">　　</td><td style=\"background-color: #673AB7;\">　　</td><td style=\"background-color: #673AB7;\">　　</td><td style=\"background-color: #673AB7;\">　　</td><td style=\"background-color: #673AB7;\">　　</td><td style=\"background-color: #673AB7;\">　　</td><td style=\"background-color: #673AB7;\">　　</td><td style=\"background-color: #673AB7;\">　　</td><td style=\"background-color: #673AB7;\">　　</td><td style=\"background-color: #03A9F4;\">　　</td><td style=\"background-color: #03A9F4;\">　　</td><td style=\"background-color: #03A9F4;\">　　</td></tr><tr><td>11</td><td style=\"background-color: #03A9F4;\">　　</td><td style=\"background-color: #F44336;\">　　</td><td style=\"background-color: #F44336;\">　　</td><td style=\"background-color: #03A9F4;\">　　</td><td style=\"background-color: #673AB7;\">　　</td><td style=\"background-color: #673AB7;\">　　</td><td style=\"background-color: #673AB7;\">　　</td><td style=\"background-color: #03A9F4;\">　　</td><td style=\"background-color: #F44336;\">　　</td><td style=\"background-color: #F44336;\">　　</td><td style=\"background-color: #03A9F4;\">　　</td><td style=\"background-color: #673AB7;\">　　</td><td style=\"background-color: #673AB7;\">　　</td><td style=\"background-color: #673AB7;\">　　</td><td style=\"background-color: #03A9F4;\">　　</td><td style=\"background-color: #673AB7;\">　　</td><td style=\"background-color: #673AB7;\">　　</td><td style=\"background-color: #673AB7;\">　　</td><td style=\"background-color: #673AB7;\">　　</td><td style=\"background-color: #673AB7;\">　　</td><td style=\"background-color: #03A9F4;\">　　</td><td style=\"background-color: #03A9F4;\">　　</td><td style=\"background-color: #F44336;\">　　</td><td style=\"background-color: #F44336;\">　　</td><td style=\"background-color: #03A9F4;\">　　</td><td style=\"background-color: #03A9F4;\">　　</td><td style=\"background-color: #F44336;\">　　</td><td style=\"background-color: #F44336;\">　　</td><td style=\"background-color: #03A9F4;\">　　</td><td style=\"background-color: #03A9F4;\">　　</td><td style=\"background-color: #FFFFFF;\">　　</td></tr><tr><td>12</td><td style=\"background-color: #F44336;\">　　</td><td style=\"background-color: #F44336;\">　　</td><td style=\"background-color: #03A9F4;\">　　</td><td style=\"background-color: #03A9F4;\">　　</td><td style=\"background-color: #03A9F4;\">　　</td><td style=\"background-color: #F44336;\">　　</td><td style=\"background-color: #F44336;\">　　</td><td style=\"background-color: #F44336;\">　　</td><td style=\"background-color: #F44336;\">　　</td><td style=\"background-color: #03A9F4;\">　　</td><td style=\"background-color: #F44336;\">　　</td><td style=\"background-color: #03A9F4;\">　　</td><td style=\"background-color: #03A9F4;\">　　</td><td style=\"background-color: #F44336;\">　　</td><td style=\"background-color: #F44336;\">　　</td><td style=\"background-color: #F44336;\">　　</td><td style=\"background-color: #F44336;\">　　</td><td style=\"background-color: #03A9F4;\">　　</td><td style=\"background-color: #03A9F4;\">　　</td><td style=\"background-color: #673AB7;\">　　</td><td style=\"background-color: #673AB7;\">　　</td><td style=\"background-color: #F44336;\">　　</td><td style=\"background-color: #F44336;\">　　</td><td style=\"background-color: #F44336;\">　　</td><td style=\"background-color: #03A9F4;\">　　</td><td style=\"background-color: #03A9F4;\">　　</td><td style=\"background-color: #F44336;\">　　</td><td style=\"background-color: #F44336;\">　　</td><td style=\"background-color: #F44336;\">　　</td><td style=\"background-color: #F44336;\">　　</td><td style=\"background-color: #03A9F4;\">　　</td></tr><tr><td>1</td><td style=\"background-color: #03A9F4;\">　　</td><td style=\"background-color: #03A9F4;\">　　</td><td style=\"background-color: #F44336;\">　　</td><td style=\"background-color: #03A9F4;\">　　</td><td style=\"background-color: #03A9F4;\">　　</td><td style=\"background-color: #03A9F4;\">　　</td><td style=\"background-color: #03A9F4;\">　　</td><td style=\"background-color: #F44336;\">　　</td><td style=\"background-color: #F44336;\">　　</td><td style=\"background-color: #F44336;\">　　</td><td style=\"background-color: #F44336;\">　　</td><td style=\"background-color: #F44336;\">　　</td><td style=\"background-color: #F44336;\">　　</td><td style=\"background-color: #F44336;\">　　</td><td style=\"background-color: #F44336;\">　　</td><td style=\"background-color: #F44336;\">　　</td><td style=\"background-color: #03A9F4;\">　　</td><td style=\"background-color: #F44336;\">　　</td><td style=\"background-color: #F44336;\">　　</td><td style=\"background-color: #F44336;\">　　</td><td style=\"background-color: #F44336;\">　　</td><td style=\"background-color: #F44336;\">　　</td><td style=\"background-color: #F44336;\">　　</td><td style=\"background-color: #F44336;\">　　</td><td style=\"background-color: #F44336;\">　　</td><td style=\"background-color: #F44336;\">　　</td><td style=\"background-color: #F44336;\">　　</td><td style=\"background-color: #03A9F4;\">　　</td><td style=\"background-color: #03A9F4;\">　　</td><td style=\"background-color: #F44336;\">　　</td><td style=\"background-color: #F44336;\">　　</td></tr><tr><td>2</td><td style=\"background-color: #F44336;\">　　</td><td style=\"background-color: #F44336;\">　　</td><td style=\"background-color: #03A9F4;\">　　</td><td style=\"background-color: #03A9F4;\">　　</td><td style=\"background-color: #F44336;\">　　</td><td style=\"background-color: #F44336;\">　　</td><td style=\"background-color: #F44336;\">　　</td><td style=\"background-color: #F44336;\">　　</td><td style=\"background-color: #F44336;\">　　</td><td style=\"background-color: #F44336;\">　　</td><td style=\"background-color: #F44336;\">　　</td><td style=\"background-color: #F44336;\">　　</td><td style=\"background-color: #F44336;\">　　</td><td style=\"background-color: #F44336;\">　　</td><td style=\"background-color: #03A9F4;\">　　</td><td style=\"background-color: #03A9F4;\">　　</td><td style=\"background-color: #03A9F4;\">　　</td><td style=\"background-color: #F44336;\">　　</td><td style=\"background-color: #03A9F4;\">　　</td><td style=\"background-color: #F44336;\">　　</td><td style=\"background-color: #F44336;\">　　</td><td style=\"background-color: #F44336;\">　　</td><td style=\"background-color: #F44336;\">　　</td><td style=\"background-color: #F44336;\">　　</td><td style=\"background-color: #F44336;\">　　</td><td style=\"background-color: #F44336;\">　　</td><td style=\"background-color: #F44336;\">　　</td><td style=\"background-color: #F44336;\">　　</td><td style=\"background-color: #FFFFFF;\">　　</td><td style=\"background-color: #FFFFFF;\">　　</td><td style=\"background-color: #FFFFFF;\">　　</td></tr><tr><td>3</td><td style=\"background-color: #F44336;\">　　</td><td style=\"background-color: #F44336;\">　　</td><td style=\"background-color: #F44336;\">　　</td><td style=\"background-color: #F44336;\">　　</td><td style=\"background-color: #03A9F4;\">　　</td><td style=\"background-color: #F44336;\">　　</td><td style=\"background-color: #F44336;\">　　</td><td style=\"background-color: #F44336;\">　　</td><td style=\"background-color: #F44336;\">　　</td><td style=\"background-color: #F44336;\">　　</td><td style=\"background-color: #03A9F4;\">　　</td><td style=\"background-color: #03A9F4;\">　　</td><td style=\"background-color: #F44336;\">　　</td><td style=\"background-color: #F44336;\">　　</td><td style=\"background-color: #F44336;\">　　</td><td style=\"background-color: #F44336;\">　　</td><td style=\"background-color: #F44336;\">　　</td><td style=\"background-color: #03A9F4;\">　　</td><td style=\"background-color: #F44336;\">　　</td><td style=\"background-color: #03A9F4;\">　　</td><td style=\"background-color: #F44336;\">　　</td><td style=\"background-color: #03A9F4;\">　　</td><td style=\"background-color: #F44336;\">　　</td><td style=\"background-color: #03A9F4;\">　　</td><td style=\"background-color: #F44336;\">　　</td><td style=\"background-color: #F44336;\">　　</td><td style=\"background-color: #03A9F4;\">　　</td><td style=\"background-color: #03A9F4;\">　　</td><td style=\"background-color: #03A9F4;\">　　</td><td style=\"background-color: #03A9F4;\">　　</td><td style=\"background-color: #03A9F4;\">　　</td></tr><tr><td>4</td><td style=\"background-color: #F44336;\">　　</td><td style=\"background-color: #F44336;\">　　</td><td style=\"background-color: #03A9F4;\">　　</td><td style=\"background-color: #03A9F4;\">　　</td><td style=\"background-color: #673AB7;\">　　</td><td style=\"background-color: #03A9F4;\">　　</td><td style=\"background-color: #673AB7;\">　　</td><td style=\"background-color: #673AB7;\">　　</td><td style=\"background-color: #673AB7;\">　　</td><td style=\"background-color: #673AB7;\">　　</td><td style=\"background-color: #F44336;\">　　</td><td style=\"background-color: #F44336;\">　　</td><td style=\"background-color: #F44336;\">　　</td><td style=\"background-color: #03A9F4;\">　　</td><td style=\"background-color: #673AB7;\">　　</td><td style=\"background-color: #673AB7;\">　　</td><td style=\"background-color: #673AB7;\">　　</td><td style=\"background-color: #673AB7;\">　　</td><td style=\"background-color: #673AB7;\">　　</td><td style=\"background-color: #673AB7;\">　　</td><td style=\"background-color: #673AB7;\">　　</td><td style=\"background-color: #F44336;\">　　</td><td style=\"background-color: #F44336;\">　　</td><td style=\"background-color: #03A9F4;\">　　</td><td style=\"background-color: #673AB7;\">　　</td><td style=\"background-color: #673AB7;\">　　</td><td style=\"background-color: #F44336;\">　　</td><td style=\"background-color: #03A9F4;\">　　</td><td style=\"background-color: #03A9F4;\">　　</td><td style=\"background-color: #673AB7;\">　　</td><td style=\"background-color: #FFFFFF;\">　　</td></tr><tr><td>5</td><td style=\"background-color: #673AB7;\">　　</td><td style=\"background-color: #673AB7;\">　　</td><td style=\"background-color: #673AB7;\">　　</td><td style=\"background-color: #673AB7;\">　　</td><td style=\"background-color: #673AB7;\">　　</td><td style=\"background-color: #03A9F4;\">　　</td><td style=\"background-color: #03A9F4;\">　　</td><td style=\"background-color: #673AB7;\">　　</td><td style=\"background-color: #673AB7;\">　　</td><td style=\"background-color: #673AB7;\">　　</td><td style=\"background-color: #673AB7;\">　　</td><td style=\"background-color: #673AB7;\">　　</td><td style=\"background-color: #03A9F4;\">　　</td><td style=\"background-color: #673AB7;\">　　</td><td style=\"background-color: #673AB7;\">　　</td><td style=\"background-color: #F44336;\">　　</td><td style=\"background-color: #03A9F4;\">　　</td><td style=\"background-color: #673AB7;\">　　</td><td style=\"background-color: #03A9F4;\">　　</td><td style=\"background-color: #673AB7;\">　　</td><td style=\"background-color: #673AB7;\">　　</td><td style=\"background-color: #673AB7;\">　　</td><td style=\"background-color: #673AB7;\">　　</td><td style=\"background-color: #673AB7;\">　　</td><td style=\"background-color: #03A9F4;\">　　</td><td style=\"background-color: #03A9F4;\">　　</td><td style=\"background-color: #03A9F4;\">　　</td><td style=\"background-color: #03A9F4;\">　　</td><td style=\"background-color: #673AB7;\">　　</td><td style=\"background-color: #673AB7;\">　　</td><td style=\"background-color: #673AB7;\">　　</td></tr><tr><td>6</td><td style=\"background-color: #673AB7;\">　　</td><td style=\"background-color: #673AB7;\">　　</td><td style=\"background-color: #03A9F4;\">　　</td><td style=\"background-color: #673AB7;\">　　</td><td style=\"background-color: #673AB7;\">　　</td><td style=\"background-color: #673AB7;\">　　</td><td style=\"background-color: #673AB7;\">　　</td><td style=\"background-color: #673AB7;\">　　</td><td style=\"background-color: #673AB7;\">　　</td><td style=\"background-color: #673AB7;\">　　</td><td style=\"background-color: #673AB7;\">　　</td><td style=\"background-color: #673AB7;\">　　</td><td style=\"background-color: #673AB7;\">　　</td><td style=\"background-color: #03A9F4;\">　　</td><td style=\"background-color: #03A9F4;\">　　</td><td style=\"background-color: #03A9F4;\">　　</td><td style=\"background-color: #03A9F4;\">　　</td><td style=\"background-color: #03A9F4;\">　　</td><td style=\"background-color: #673AB7;\">　　</td><td style=\"background-color: #673AB7;\">　　</td><td style=\"background-color: #673AB7;\">　　</td><td style=\"background-color: #673AB7;\">　　</td><td style=\"background-color: #673AB7;\">　　</td><td style=\"background-color: #673AB7;\">　　</td><td style=\"background-color: #673AB7;\">　　</td><td style=\"background-color: #673AB7;\">　　</td><td style=\"background-color: #673AB7;\">　　</td><td style=\"background-color: #673AB7;\">　　</td><td style=\"background-color: #673AB7;\">　　</td><td style=\"background-color: #673AB7;\">　　</td><td style=\"background-color: #FFFFFF;\">　　</td></tr></table>"
      ],
      "text/plain": [
       "<IPython.core.display.HTML object>"
      ]
     },
     "metadata": {},
     "output_type": "display_data"
    }
   ],
   "source": [
    "from IPython.display import HTML, display\n",
    "html = '<table><tr><td></td>'\n",
    "for i in range(1, 32):\n",
    "    html += '<td>' + str(i) + '</td>'\n",
    "html += '</tr>'\n",
    "cells = ['<td>10</td>']\n",
    "for i in range(delta.days + 1):\n",
    "    d = start + timedelta(days=i)\n",
    "    if d.day == 1:\n",
    "        if len(cells) == 32:\n",
    "            html += '<tr>' + ''.join(cells) + '</tr>'\n",
    "            cells[:] = ['<td>' + str(d.month) + '</td>']\n",
    "        elif len(cells) == 31:\n",
    "            cells.append('<td style=\"background-color: #FFFFFF;\">　　</td>')\n",
    "            html += '<tr>' + ''.join(cells) + '</tr>'\n",
    "            cells[:] = ['<td>' + str(d.month) + '</td>']\n",
    "        elif len(cells) == 29:\n",
    "            cells.append('<td style=\"background-color: #FFFFFF;\">　　</td>')\n",
    "            cells.append('<td style=\"background-color: #FFFFFF;\">　　</td>')\n",
    "            cells.append('<td style=\"background-color: #FFFFFF;\">　　</td>')\n",
    "            html += '<tr>' + ''.join(cells) + '</tr>'\n",
    "            cells[:] = ['<td>' + str(d.month) + '</td>']\n",
    "        elif d != start:\n",
    "            print('ERROR', d, len(cells))\n",
    "    s = '<td style=\"background-color: ' + colors[labels[i]] + ';\">　　</td>'\n",
    "    cells.append(s)\n",
    "cells.append('<td style=\"background-color: #FFFFFF;\">　　</td>')\n",
    "html += '<tr>' + ''.join(cells) + '</tr></table>'\n",
    "display(HTML(html))"
   ]
  },
  {
   "cell_type": "markdown",
   "metadata": {},
   "source": [
    "溫度的分群結果。此圖呈現了每個日子分別被分到哪一群。  \n",
    "圖中不同顏色表示不同群，每一列（橫的）表示一個月份，每一行（直的）表示一天。"
   ]
  },
  {
   "cell_type": "markdown",
   "metadata": {},
   "source": [
    "解釋解釋解釋解釋解釋解釋。"
   ]
  },
  {
   "cell_type": "markdown",
   "metadata": {},
   "source": [
    "Use `DBSCAN`, a kind of density-based clustering algorithm, from [scikit-learn](http://scikit-learn.org/).  \n",
    "不需指定群的數目，為了讓稠密的判定更寬鬆，嘗試提高 eps，其餘參數使用預設值。"
   ]
  },
  {
   "cell_type": "code",
   "execution_count": 19,
   "metadata": {},
   "outputs": [],
   "source": [
    "from sklearn.cluster import DBSCAN\n",
    "labels = DBSCAN(eps=50, min_samples=5).fit_predict(taipower)"
   ]
  },
  {
   "cell_type": "code",
   "execution_count": 20,
   "metadata": {
    "scrolled": false
   },
   "outputs": [
    {
     "data": {
      "text/html": [
       "<table><tr><td></td><td>1</td><td>2</td><td>3</td><td>4</td><td>5</td><td>6</td><td>7</td><td>8</td><td>9</td><td>10</td><td>11</td><td>12</td><td>13</td><td>14</td><td>15</td><td>16</td><td>17</td><td>18</td><td>19</td><td>20</td><td>21</td><td>22</td><td>23</td><td>24</td><td>25</td><td>26</td><td>27</td><td>28</td><td>29</td><td>30</td><td>31</td></tr><tr><td>10</td><td style=\"background-color: #000000;\">　　</td><td style=\"background-color: #000000;\">　　</td><td style=\"background-color: #000000;\">　　</td><td style=\"background-color: #000000;\">　　</td><td style=\"background-color: #03A9F4;\">　　</td><td style=\"background-color: #000000;\">　　</td><td style=\"background-color: #000000;\">　　</td><td style=\"background-color: #000000;\">　　</td><td style=\"background-color: #F44336;\">　　</td><td style=\"background-color: #000000;\">　　</td><td style=\"background-color: #000000;\">　　</td><td style=\"background-color: #673AB7;\">　　</td><td style=\"background-color: #673AB7;\">　　</td><td style=\"background-color: #673AB7;\">　　</td><td style=\"background-color: #000000;\">　　</td><td style=\"background-color: #000000;\">　　</td><td style=\"background-color: #795548;\">　　</td><td style=\"background-color: #03A9F4;\">　　</td><td style=\"background-color: #03A9F4;\">　　</td><td style=\"background-color: #03A9F4;\">　　</td><td style=\"background-color: #000000;\">　　</td><td style=\"background-color: #000000;\">　　</td><td style=\"background-color: #000000;\">　　</td><td style=\"background-color: #000000;\">　　</td><td style=\"background-color: #000000;\">　　</td><td style=\"background-color: #000000;\">　　</td><td style=\"background-color: #03A9F4;\">　　</td><td style=\"background-color: #03A9F4;\">　　</td><td style=\"background-color: #000000;\">　　</td><td style=\"background-color: #9E9E9E;\">　　</td><td style=\"background-color: #000000;\">　　</td></tr><tr><td>11</td><td style=\"background-color: #4CAF50;\">　　</td><td style=\"background-color: #4CAF50;\">　　</td><td style=\"background-color: #4CAF50;\">　　</td><td style=\"background-color: #4CAF50;\">　　</td><td style=\"background-color: #000000;\">　　</td><td style=\"background-color: #000000;\">　　</td><td style=\"background-color: #FFEB3B;\">　　</td><td style=\"background-color: #000000;\">　　</td><td style=\"background-color: #4CAF50;\">　　</td><td style=\"background-color: #000000;\">　　</td><td style=\"background-color: #4CAF50;\">　　</td><td style=\"background-color: #009688;\">　　</td><td style=\"background-color: #000000;\">　　</td><td style=\"background-color: #FFEB3B;\">　　</td><td style=\"background-color: #673AB7;\">　　</td><td style=\"background-color: #FFEB3B;\">　　</td><td style=\"background-color: #673AB7;\">　　</td><td style=\"background-color: #FFEB3B;\">　　</td><td style=\"background-color: #000000;\">　　</td><td style=\"background-color: #F44336;\">　　</td><td style=\"background-color: #000000;\">　　</td><td style=\"background-color: #FFEB3B;\">　　</td><td style=\"background-color: #4CAF50;\">　　</td><td style=\"background-color: #4CAF50;\">　　</td><td style=\"background-color: #4CAF50;\">　　</td><td style=\"background-color: #000000;\">　　</td><td style=\"background-color: #9E9E9E;\">　　</td><td style=\"background-color: #4CAF50;\">　　</td><td style=\"background-color: #4CAF50;\">　　</td><td style=\"background-color: #4CAF50;\">　　</td><td style=\"background-color: #FFFFFF;\">　　</td></tr><tr><td>12</td><td style=\"background-color: #4CAF50;\">　　</td><td style=\"background-color: #4CAF50;\">　　</td><td style=\"background-color: #F44336;\">　　</td><td style=\"background-color: #9E9E9E;\">　　</td><td style=\"background-color: #4CAF50;\">　　</td><td style=\"background-color: #4CAF50;\">　　</td><td style=\"background-color: #4CAF50;\">　　</td><td style=\"background-color: #4CAF50;\">　　</td><td style=\"background-color: #4CAF50;\">　　</td><td style=\"background-color: #F44336;\">　　</td><td style=\"background-color: #9E9E9E;\">　　</td><td style=\"background-color: #4CAF50;\">　　</td><td style=\"background-color: #4CAF50;\">　　</td><td style=\"background-color: #4CAF50;\">　　</td><td style=\"background-color: #4CAF50;\">　　</td><td style=\"background-color: #4CAF50;\">　　</td><td style=\"background-color: #F44336;\">　　</td><td style=\"background-color: #9E9E9E;\">　　</td><td style=\"background-color: #4CAF50;\">　　</td><td style=\"background-color: #4CAF50;\">　　</td><td style=\"background-color: #FFEB3B;\">　　</td><td style=\"background-color: #4CAF50;\">　　</td><td style=\"background-color: #4CAF50;\">　　</td><td style=\"background-color: #000000;\">　　</td><td style=\"background-color: #9E9E9E;\">　　</td><td style=\"background-color: #000000;\">　　</td><td style=\"background-color: #4CAF50;\">　　</td><td style=\"background-color: #4CAF50;\">　　</td><td style=\"background-color: #4CAF50;\">　　</td><td style=\"background-color: #000000;\">　　</td><td style=\"background-color: #9E9E9E;\">　　</td></tr><tr><td>1</td><td style=\"background-color: #000000;\">　　</td><td style=\"background-color: #9E9E9E;\">　　</td><td style=\"background-color: #4CAF50;\">　　</td><td style=\"background-color: #4CAF50;\">　　</td><td style=\"background-color: #4CAF50;\">　　</td><td style=\"background-color: #4CAF50;\">　　</td><td style=\"background-color: #000000;\">　　</td><td style=\"background-color: #9E9E9E;\">　　</td><td style=\"background-color: #4CAF50;\">　　</td><td style=\"background-color: #4CAF50;\">　　</td><td style=\"background-color: #4CAF50;\">　　</td><td style=\"background-color: #4CAF50;\">　　</td><td style=\"background-color: #4CAF50;\">　　</td><td style=\"background-color: #000000;\">　　</td><td style=\"background-color: #9E9E9E;\">　　</td><td style=\"background-color: #4CAF50;\">　　</td><td style=\"background-color: #000000;\">　　</td><td style=\"background-color: #4CAF50;\">　　</td><td style=\"background-color: #4CAF50;\">　　</td><td style=\"background-color: #4CAF50;\">　　</td><td style=\"background-color: #F44336;\">　　</td><td style=\"background-color: #9E9E9E;\">　　</td><td style=\"background-color: #4CAF50;\">　　</td><td style=\"background-color: #4CAF50;\">　　</td><td style=\"background-color: #4CAF50;\">　　</td><td style=\"background-color: #4CAF50;\">　　</td><td style=\"background-color: #4CAF50;\">　　</td><td style=\"background-color: #4CAF50;\">　　</td><td style=\"background-color: #4CAF50;\">　　</td><td style=\"background-color: #4CAF50;\">　　</td><td style=\"background-color: #4CAF50;\">　　</td></tr><tr><td>2</td><td style=\"background-color: #4CAF50;\">　　</td><td style=\"background-color: #4CAF50;\">　　</td><td style=\"background-color: #4CAF50;\">　　</td><td style=\"background-color: #4CAF50;\">　　</td><td style=\"background-color: #4CAF50;\">　　</td><td style=\"background-color: #4CAF50;\">　　</td><td style=\"background-color: #4CAF50;\">　　</td><td style=\"background-color: #4CAF50;\">　　</td><td style=\"background-color: #4CAF50;\">　　</td><td style=\"background-color: #4CAF50;\">　　</td><td style=\"background-color: #4CAF50;\">　　</td><td style=\"background-color: #4CAF50;\">　　</td><td style=\"background-color: #4CAF50;\">　　</td><td style=\"background-color: #4CAF50;\">　　</td><td style=\"background-color: #4CAF50;\">　　</td><td style=\"background-color: #4CAF50;\">　　</td><td style=\"background-color: #4CAF50;\">　　</td><td style=\"background-color: #4CAF50;\">　　</td><td style=\"background-color: #4CAF50;\">　　</td><td style=\"background-color: #4CAF50;\">　　</td><td style=\"background-color: #4CAF50;\">　　</td><td style=\"background-color: #4CAF50;\">　　</td><td style=\"background-color: #4CAF50;\">　　</td><td style=\"background-color: #4CAF50;\">　　</td><td style=\"background-color: #4CAF50;\">　　</td><td style=\"background-color: #4CAF50;\">　　</td><td style=\"background-color: #4CAF50;\">　　</td><td style=\"background-color: #4CAF50;\">　　</td><td style=\"background-color: #FFFFFF;\">　　</td><td style=\"background-color: #FFFFFF;\">　　</td><td style=\"background-color: #FFFFFF;\">　　</td></tr><tr><td>3</td><td style=\"background-color: #4CAF50;\">　　</td><td style=\"background-color: #4CAF50;\">　　</td><td style=\"background-color: #4CAF50;\">　　</td><td style=\"background-color: #4CAF50;\">　　</td><td style=\"background-color: #4CAF50;\">　　</td><td style=\"background-color: #4CAF50;\">　　</td><td style=\"background-color: #4CAF50;\">　　</td><td style=\"background-color: #4CAF50;\">　　</td><td style=\"background-color: #4CAF50;\">　　</td><td style=\"background-color: #4CAF50;\">　　</td><td style=\"background-color: #4CAF50;\">　　</td><td style=\"background-color: #4CAF50;\">　　</td><td style=\"background-color: #4CAF50;\">　　</td><td style=\"background-color: #4CAF50;\">　　</td><td style=\"background-color: #4CAF50;\">　　</td><td style=\"background-color: #4CAF50;\">　　</td><td style=\"background-color: #4CAF50;\">　　</td><td style=\"background-color: #4CAF50;\">　　</td><td style=\"background-color: #4CAF50;\">　　</td><td style=\"background-color: #4CAF50;\">　　</td><td style=\"background-color: #4CAF50;\">　　</td><td style=\"background-color: #4CAF50;\">　　</td><td style=\"background-color: #4CAF50;\">　　</td><td style=\"background-color: #4CAF50;\">　　</td><td style=\"background-color: #4CAF50;\">　　</td><td style=\"background-color: #4CAF50;\">　　</td><td style=\"background-color: #4CAF50;\">　　</td><td style=\"background-color: #4CAF50;\">　　</td><td style=\"background-color: #4CAF50;\">　　</td><td style=\"background-color: #4CAF50;\">　　</td><td style=\"background-color: #4CAF50;\">　　</td></tr><tr><td>4</td><td style=\"background-color: #4CAF50;\">　　</td><td style=\"background-color: #4CAF50;\">　　</td><td style=\"background-color: #4CAF50;\">　　</td><td style=\"background-color: #4CAF50;\">　　</td><td style=\"background-color: #4CAF50;\">　　</td><td style=\"background-color: #4CAF50;\">　　</td><td style=\"background-color: #4CAF50;\">　　</td><td style=\"background-color: #4CAF50;\">　　</td><td style=\"background-color: #4CAF50;\">　　</td><td style=\"background-color: #4CAF50;\">　　</td><td style=\"background-color: #4CAF50;\">　　</td><td style=\"background-color: #4CAF50;\">　　</td><td style=\"background-color: #4CAF50;\">　　</td><td style=\"background-color: #4CAF50;\">　　</td><td style=\"background-color: #4CAF50;\">　　</td><td style=\"background-color: #4CAF50;\">　　</td><td style=\"background-color: #4CAF50;\">　　</td><td style=\"background-color: #4CAF50;\">　　</td><td style=\"background-color: #4CAF50;\">　　</td><td style=\"background-color: #000000;\">　　</td><td style=\"background-color: #000000;\">　　</td><td style=\"background-color: #F44336;\">　　</td><td style=\"background-color: #9E9E9E;\">　　</td><td style=\"background-color: #4CAF50;\">　　</td><td style=\"background-color: #4CAF50;\">　　</td><td style=\"background-color: #673AB7;\">　　</td><td style=\"background-color: #4CAF50;\">　　</td><td style=\"background-color: #000000;\">　　</td><td style=\"background-color: #000000;\">　　</td><td style=\"background-color: #9E9E9E;\">　　</td><td style=\"background-color: #FFFFFF;\">　　</td></tr><tr><td>5</td><td style=\"background-color: #F44336;\">　　</td><td style=\"background-color: #FFEB3B;\">　　</td><td style=\"background-color: #000000;\">　　</td><td style=\"background-color: #000000;\">　　</td><td style=\"background-color: #000000;\">　　</td><td style=\"background-color: #000000;\">　　</td><td style=\"background-color: #F44336;\">　　</td><td style=\"background-color: #000000;\">　　</td><td style=\"background-color: #000000;\">　　</td><td style=\"background-color: #795548;\">　　</td><td style=\"background-color: #03A9F4;\">　　</td><td style=\"background-color: #795548;\">　　</td><td style=\"background-color: #000000;\">　　</td><td style=\"background-color: #009688;\">　　</td><td style=\"background-color: #795548;\">　　</td><td style=\"background-color: #000000;\">　　</td><td style=\"background-color: #000000;\">　　</td><td style=\"background-color: #000000;\">　　</td><td style=\"background-color: #000000;\">　　</td><td style=\"background-color: #000000;\">　　</td><td style=\"background-color: #009688;\">　　</td><td style=\"background-color: #000000;\">　　</td><td style=\"background-color: #795548;\">　　</td><td style=\"background-color: #03A9F4;\">　　</td><td style=\"background-color: #000000;\">　　</td><td style=\"background-color: #000000;\">　　</td><td style=\"background-color: #000000;\">　　</td><td style=\"background-color: #000000;\">　　</td><td style=\"background-color: #009688;\">　　</td><td style=\"background-color: #000000;\">　　</td><td style=\"background-color: #795548;\">　　</td></tr><tr><td>6</td><td style=\"background-color: #03A9F4;\">　　</td><td style=\"background-color: #000000;\">　　</td><td style=\"background-color: #000000;\">　　</td><td style=\"background-color: #000000;\">　　</td><td style=\"background-color: #795548;\">　　</td><td style=\"background-color: #000000;\">　　</td><td style=\"background-color: #CDDC39;\">　　</td><td style=\"background-color: #CDDC39;\">　　</td><td style=\"background-color: #CDDC39;\">　　</td><td style=\"background-color: #000000;\">　　</td><td style=\"background-color: #000000;\">　　</td><td style=\"background-color: #CDDC39;\">　　</td><td style=\"background-color: #CDDC39;\">　　</td><td style=\"background-color: #000000;\">　　</td><td style=\"background-color: #000000;\">　　</td><td style=\"background-color: #000000;\">　　</td><td style=\"background-color: #000000;\">　　</td><td style=\"background-color: #000000;\">　　</td><td style=\"background-color: #000000;\">　　</td><td style=\"background-color: #795548;\">　　</td><td style=\"background-color: #000000;\">　　</td><td style=\"background-color: #CDDC39;\">　　</td><td style=\"background-color: #CDDC39;\">　　</td><td style=\"background-color: #000000;\">　　</td><td style=\"background-color: #000000;\">　　</td><td style=\"background-color: #000000;\">　　</td><td style=\"background-color: #000000;\">　　</td><td style=\"background-color: #000000;\">　　</td><td style=\"background-color: #000000;\">　　</td><td style=\"background-color: #CDDC39;\">　　</td><td style=\"background-color: #FFFFFF;\">　　</td></tr></table>"
      ],
      "text/plain": [
       "<IPython.core.display.HTML object>"
      ]
     },
     "metadata": {},
     "output_type": "display_data"
    }
   ],
   "source": [
    "from IPython.display import HTML, display\n",
    "html = '<table><tr><td></td>'\n",
    "for i in range(1, 32):\n",
    "    html += '<td>' + str(i) + '</td>'\n",
    "html += '</tr>'\n",
    "cells = ['<td>10</td>']\n",
    "for i in range(delta.days + 1):\n",
    "    d = start + timedelta(days=i)\n",
    "    if d.day == 1:\n",
    "        if len(cells) == 32:\n",
    "            html += '<tr>' + ''.join(cells) + '</tr>'\n",
    "            cells[:] = ['<td>' + str(d.month) + '</td>']\n",
    "        elif len(cells) == 31:\n",
    "            cells.append('<td style=\"background-color: #FFFFFF;\">　　</td>')\n",
    "            html += '<tr>' + ''.join(cells) + '</tr>'\n",
    "            cells[:] = ['<td>' + str(d.month) + '</td>']\n",
    "        elif len(cells) == 29:\n",
    "            cells.append('<td style=\"background-color: #FFFFFF;\">　　</td>')\n",
    "            cells.append('<td style=\"background-color: #FFFFFF;\">　　</td>')\n",
    "            cells.append('<td style=\"background-color: #FFFFFF;\">　　</td>')\n",
    "            html += '<tr>' + ''.join(cells) + '</tr>'\n",
    "            cells[:] = ['<td>' + str(d.month) + '</td>']\n",
    "        elif d != start:\n",
    "            print('ERROR', d, len(cells))\n",
    "    s = '<td style=\"background-color: ' + colors[labels[i]] + ';\">　　</td>'\n",
    "    cells.append(s)\n",
    "cells.append('<td style=\"background-color: #FFFFFF;\">　　</td>')\n",
    "html += '<tr>' + ''.join(cells) + '</tr></table>'\n",
    "display(HTML(html))"
   ]
  },
  {
   "cell_type": "markdown",
   "metadata": {},
   "source": [
    "用電量的分群結果。此圖呈現了每個日子分別被分到哪一群。  \n",
    "圖中不同顏色表示不同群，黑色表示 noise，每一列（橫的）表示一個月份，每一行（直的）表示一天。"
   ]
  },
  {
   "cell_type": "code",
   "execution_count": 21,
   "metadata": {},
   "outputs": [],
   "source": [
    "from sklearn.cluster import DBSCAN\n",
    "labels = DBSCAN(eps=2.75, min_samples=5).fit_predict(temperature)"
   ]
  },
  {
   "cell_type": "code",
   "execution_count": 22,
   "metadata": {
    "scrolled": false
   },
   "outputs": [
    {
     "data": {
      "text/html": [
       "<table><tr><td></td><td>1</td><td>2</td><td>3</td><td>4</td><td>5</td><td>6</td><td>7</td><td>8</td><td>9</td><td>10</td><td>11</td><td>12</td><td>13</td><td>14</td><td>15</td><td>16</td><td>17</td><td>18</td><td>19</td><td>20</td><td>21</td><td>22</td><td>23</td><td>24</td><td>25</td><td>26</td><td>27</td><td>28</td><td>29</td><td>30</td><td>31</td></tr><tr><td>10</td><td style=\"background-color: #F44336;\">　　</td><td style=\"background-color: #4CAF50;\">　　</td><td style=\"background-color: #F44336;\">　　</td><td style=\"background-color: #F44336;\">　　</td><td style=\"background-color: #F44336;\">　　</td><td style=\"background-color: #F44336;\">　　</td><td style=\"background-color: #000000;\">　　</td><td style=\"background-color: #000000;\">　　</td><td style=\"background-color: #673AB7;\">　　</td><td style=\"background-color: #673AB7;\">　　</td><td style=\"background-color: #673AB7;\">　　</td><td style=\"background-color: #673AB7;\">　　</td><td style=\"background-color: #673AB7;\">　　</td><td style=\"background-color: #673AB7;\">　　</td><td style=\"background-color: #F44336;\">　　</td><td style=\"background-color: #F44336;\">　　</td><td style=\"background-color: #F44336;\">　　</td><td style=\"background-color: #F44336;\">　　</td><td style=\"background-color: #F44336;\">　　</td><td style=\"background-color: #F44336;\">　　</td><td style=\"background-color: #F44336;\">　　</td><td style=\"background-color: #F44336;\">　　</td><td style=\"background-color: #F44336;\">　　</td><td style=\"background-color: #F44336;\">　　</td><td style=\"background-color: #F44336;\">　　</td><td style=\"background-color: #F44336;\">　　</td><td style=\"background-color: #F44336;\">　　</td><td style=\"background-color: #F44336;\">　　</td><td style=\"background-color: #673AB7;\">　　</td><td style=\"background-color: #673AB7;\">　　</td><td style=\"background-color: #673AB7;\">　　</td></tr><tr><td>11</td><td style=\"background-color: #673AB7;\">　　</td><td style=\"background-color: #673AB7;\">　　</td><td style=\"background-color: #673AB7;\">　　</td><td style=\"background-color: #673AB7;\">　　</td><td style=\"background-color: #673AB7;\">　　</td><td style=\"background-color: #000000;\">　　</td><td style=\"background-color: #F44336;\">　　</td><td style=\"background-color: #000000;\">　　</td><td style=\"background-color: #673AB7;\">　　</td><td style=\"background-color: #673AB7;\">　　</td><td style=\"background-color: #673AB7;\">　　</td><td style=\"background-color: #000000;\">　　</td><td style=\"background-color: #000000;\">　　</td><td style=\"background-color: #F44336;\">　　</td><td style=\"background-color: #673AB7;\">　　</td><td style=\"background-color: #673AB7;\">　　</td><td style=\"background-color: #F44336;\">　　</td><td style=\"background-color: #673AB7;\">　　</td><td style=\"background-color: #000000;\">　　</td><td style=\"background-color: #673AB7;\">　　</td><td style=\"background-color: #673AB7;\">　　</td><td style=\"background-color: #673AB7;\">　　</td><td style=\"background-color: #673AB7;\">　　</td><td style=\"background-color: #673AB7;\">　　</td><td style=\"background-color: #673AB7;\">　　</td><td style=\"background-color: #000000;\">　　</td><td style=\"background-color: #673AB7;\">　　</td><td style=\"background-color: #673AB7;\">　　</td><td style=\"background-color: #673AB7;\">　　</td><td style=\"background-color: #673AB7;\">　　</td><td style=\"background-color: #FFFFFF;\">　　</td></tr><tr><td>12</td><td style=\"background-color: #673AB7;\">　　</td><td style=\"background-color: #673AB7;\">　　</td><td style=\"background-color: #673AB7;\">　　</td><td style=\"background-color: #673AB7;\">　　</td><td style=\"background-color: #673AB7;\">　　</td><td style=\"background-color: #673AB7;\">　　</td><td style=\"background-color: #673AB7;\">　　</td><td style=\"background-color: #673AB7;\">　　</td><td style=\"background-color: #673AB7;\">　　</td><td style=\"background-color: #673AB7;\">　　</td><td style=\"background-color: #673AB7;\">　　</td><td style=\"background-color: #673AB7;\">　　</td><td style=\"background-color: #673AB7;\">　　</td><td style=\"background-color: #673AB7;\">　　</td><td style=\"background-color: #03A9F4;\">　　</td><td style=\"background-color: #03A9F4;\">　　</td><td style=\"background-color: #673AB7;\">　　</td><td style=\"background-color: #000000;\">　　</td><td style=\"background-color: #000000;\">　　</td><td style=\"background-color: #673AB7;\">　　</td><td style=\"background-color: #000000;\">　　</td><td style=\"background-color: #673AB7;\">　　</td><td style=\"background-color: #673AB7;\">　　</td><td style=\"background-color: #673AB7;\">　　</td><td style=\"background-color: #673AB7;\">　　</td><td style=\"background-color: #673AB7;\">　　</td><td style=\"background-color: #03A9F4;\">　　</td><td style=\"background-color: #03A9F4;\">　　</td><td style=\"background-color: #03A9F4;\">　　</td><td style=\"background-color: #673AB7;\">　　</td><td style=\"background-color: #673AB7;\">　　</td></tr><tr><td>1</td><td style=\"background-color: #673AB7;\">　　</td><td style=\"background-color: #673AB7;\">　　</td><td style=\"background-color: #673AB7;\">　　</td><td style=\"background-color: #673AB7;\">　　</td><td style=\"background-color: #673AB7;\">　　</td><td style=\"background-color: #673AB7;\">　　</td><td style=\"background-color: #673AB7;\">　　</td><td style=\"background-color: #673AB7;\">　　</td><td style=\"background-color: #673AB7;\">　　</td><td style=\"background-color: #673AB7;\">　　</td><td style=\"background-color: #673AB7;\">　　</td><td style=\"background-color: #673AB7;\">　　</td><td style=\"background-color: #03A9F4;\">　　</td><td style=\"background-color: #03A9F4;\">　　</td><td style=\"background-color: #03A9F4;\">　　</td><td style=\"background-color: #03A9F4;\">　　</td><td style=\"background-color: #000000;\">　　</td><td style=\"background-color: #000000;\">　　</td><td style=\"background-color: #673AB7;\">　　</td><td style=\"background-color: #000000;\">　　</td><td style=\"background-color: #03A9F4;\">　　</td><td style=\"background-color: #03A9F4;\">　　</td><td style=\"background-color: #03A9F4;\">　　</td><td style=\"background-color: #03A9F4;\">　　</td><td style=\"background-color: #03A9F4;\">　　</td><td style=\"background-color: #673AB7;\">　　</td><td style=\"background-color: #000000;\">　　</td><td style=\"background-color: #000000;\">　　</td><td style=\"background-color: #000000;\">　　</td><td style=\"background-color: #673AB7;\">　　</td><td style=\"background-color: #673AB7;\">　　</td></tr><tr><td>2</td><td style=\"background-color: #673AB7;\">　　</td><td style=\"background-color: #03A9F4;\">　　</td><td style=\"background-color: #673AB7;\">　　</td><td style=\"background-color: #000000;\">　　</td><td style=\"background-color: #673AB7;\">　　</td><td style=\"background-color: #673AB7;\">　　</td><td style=\"background-color: #673AB7;\">　　</td><td style=\"background-color: #000000;\">　　</td><td style=\"background-color: #000000;\">　　</td><td style=\"background-color: #000000;\">　　</td><td style=\"background-color: #000000;\">　　</td><td style=\"background-color: #03A9F4;\">　　</td><td style=\"background-color: #673AB7;\">　　</td><td style=\"background-color: #673AB7;\">　　</td><td style=\"background-color: #673AB7;\">　　</td><td style=\"background-color: #000000;\">　　</td><td style=\"background-color: #000000;\">　　</td><td style=\"background-color: #673AB7;\">　　</td><td style=\"background-color: #673AB7;\">　　</td><td style=\"background-color: #000000;\">　　</td><td style=\"background-color: #673AB7;\">　　</td><td style=\"background-color: #673AB7;\">　　</td><td style=\"background-color: #03A9F4;\">　　</td><td style=\"background-color: #000000;\">　　</td><td style=\"background-color: #03A9F4;\">　　</td><td style=\"background-color: #000000;\">　　</td><td style=\"background-color: #03A9F4;\">　　</td><td style=\"background-color: #03A9F4;\">　　</td><td style=\"background-color: #FFFFFF;\">　　</td><td style=\"background-color: #FFFFFF;\">　　</td><td style=\"background-color: #FFFFFF;\">　　</td></tr><tr><td>3</td><td style=\"background-color: #673AB7;\">　　</td><td style=\"background-color: #03A9F4;\">　　</td><td style=\"background-color: #673AB7;\">　　</td><td style=\"background-color: #673AB7;\">　　</td><td style=\"background-color: #000000;\">　　</td><td style=\"background-color: #03A9F4;\">　　</td><td style=\"background-color: #03A9F4;\">　　</td><td style=\"background-color: #03A9F4;\">　　</td><td style=\"background-color: #03A9F4;\">　　</td><td style=\"background-color: #673AB7;\">　　</td><td style=\"background-color: #673AB7;\">　　</td><td style=\"background-color: #673AB7;\">　　</td><td style=\"background-color: #673AB7;\">　　</td><td style=\"background-color: #03A9F4;\">　　</td><td style=\"background-color: #03A9F4;\">　　</td><td style=\"background-color: #03A9F4;\">　　</td><td style=\"background-color: #673AB7;\">　　</td><td style=\"background-color: #000000;\">　　</td><td style=\"background-color: #673AB7;\">　　</td><td style=\"background-color: #000000;\">　　</td><td style=\"background-color: #673AB7;\">　　</td><td style=\"background-color: #673AB7;\">　　</td><td style=\"background-color: #673AB7;\">　　</td><td style=\"background-color: #673AB7;\">　　</td><td style=\"background-color: #03A9F4;\">　　</td><td style=\"background-color: #03A9F4;\">　　</td><td style=\"background-color: #673AB7;\">　　</td><td style=\"background-color: #673AB7;\">　　</td><td style=\"background-color: #673AB7;\">　　</td><td style=\"background-color: #673AB7;\">　　</td><td style=\"background-color: #000000;\">　　</td></tr><tr><td>4</td><td style=\"background-color: #673AB7;\">　　</td><td style=\"background-color: #673AB7;\">　　</td><td style=\"background-color: #673AB7;\">　　</td><td style=\"background-color: #673AB7;\">　　</td><td style=\"background-color: #673AB7;\">　　</td><td style=\"background-color: #673AB7;\">　　</td><td style=\"background-color: #000000;\">　　</td><td style=\"background-color: #F44336;\">　　</td><td style=\"background-color: #F44336;\">　　</td><td style=\"background-color: #4CAF50;\">　　</td><td style=\"background-color: #673AB7;\">　　</td><td style=\"background-color: #673AB7;\">　　</td><td style=\"background-color: #673AB7;\">　　</td><td style=\"background-color: #000000;\">　　</td><td style=\"background-color: #F44336;\">　　</td><td style=\"background-color: #000000;\">　　</td><td style=\"background-color: #F44336;\">　　</td><td style=\"background-color: #000000;\">　　</td><td style=\"background-color: #000000;\">　　</td><td style=\"background-color: #000000;\">　　</td><td style=\"background-color: #000000;\">　　</td><td style=\"background-color: #673AB7;\">　　</td><td style=\"background-color: #673AB7;\">　　</td><td style=\"background-color: #000000;\">　　</td><td style=\"background-color: #673AB7;\">　　</td><td style=\"background-color: #673AB7;\">　　</td><td style=\"background-color: #673AB7;\">　　</td><td style=\"background-color: #673AB7;\">　　</td><td style=\"background-color: #673AB7;\">　　</td><td style=\"background-color: #673AB7;\">　　</td><td style=\"background-color: #FFFFFF;\">　　</td></tr><tr><td>5</td><td style=\"background-color: #F44336;\">　　</td><td style=\"background-color: #673AB7;\">　　</td><td style=\"background-color: #F44336;\">　　</td><td style=\"background-color: #F44336;\">　　</td><td style=\"background-color: #000000;\">　　</td><td style=\"background-color: #673AB7;\">　　</td><td style=\"background-color: #673AB7;\">　　</td><td style=\"background-color: #F44336;\">　　</td><td style=\"background-color: #673AB7;\">　　</td><td style=\"background-color: #F44336;\">　　</td><td style=\"background-color: #F44336;\">　　</td><td style=\"background-color: #F44336;\">　　</td><td style=\"background-color: #673AB7;\">　　</td><td style=\"background-color: #F44336;\">　　</td><td style=\"background-color: #000000;\">　　</td><td style=\"background-color: #673AB7;\">　　</td><td style=\"background-color: #673AB7;\">　　</td><td style=\"background-color: #F44336;\">　　</td><td style=\"background-color: #673AB7;\">　　</td><td style=\"background-color: #673AB7;\">　　</td><td style=\"background-color: #673AB7;\">　　</td><td style=\"background-color: #F44336;\">　　</td><td style=\"background-color: #F44336;\">　　</td><td style=\"background-color: #000000;\">　　</td><td style=\"background-color: #673AB7;\">　　</td><td style=\"background-color: #673AB7;\">　　</td><td style=\"background-color: #000000;\">　　</td><td style=\"background-color: #673AB7;\">　　</td><td style=\"background-color: #F44336;\">　　</td><td style=\"background-color: #000000;\">　　</td><td style=\"background-color: #000000;\">　　</td></tr><tr><td>6</td><td style=\"background-color: #F44336;\">　　</td><td style=\"background-color: #000000;\">　　</td><td style=\"background-color: #673AB7;\">　　</td><td style=\"background-color: #673AB7;\">　　</td><td style=\"background-color: #F44336;\">　　</td><td style=\"background-color: #4CAF50;\">　　</td><td style=\"background-color: #000000;\">　　</td><td style=\"background-color: #4CAF50;\">　　</td><td style=\"background-color: #4CAF50;\">　　</td><td style=\"background-color: #000000;\">　　</td><td style=\"background-color: #000000;\">　　</td><td style=\"background-color: #000000;\">　　</td><td style=\"background-color: #000000;\">　　</td><td style=\"background-color: #673AB7;\">　　</td><td style=\"background-color: #673AB7;\">　　</td><td style=\"background-color: #673AB7;\">　　</td><td style=\"background-color: #673AB7;\">　　</td><td style=\"background-color: #673AB7;\">　　</td><td style=\"background-color: #F44336;\">　　</td><td style=\"background-color: #F44336;\">　　</td><td style=\"background-color: #F44336;\">　　</td><td style=\"background-color: #4CAF50;\">　　</td><td style=\"background-color: #4CAF50;\">　　</td><td style=\"background-color: #4CAF50;\">　　</td><td style=\"background-color: #4CAF50;\">　　</td><td style=\"background-color: #4CAF50;\">　　</td><td style=\"background-color: #4CAF50;\">　　</td><td style=\"background-color: #4CAF50;\">　　</td><td style=\"background-color: #000000;\">　　</td><td style=\"background-color: #000000;\">　　</td><td style=\"background-color: #FFFFFF;\">　　</td></tr></table>"
      ],
      "text/plain": [
       "<IPython.core.display.HTML object>"
      ]
     },
     "metadata": {},
     "output_type": "display_data"
    }
   ],
   "source": [
    "from IPython.display import HTML, display\n",
    "html = '<table><tr><td></td>'\n",
    "for i in range(1, 32):\n",
    "    html += '<td>' + str(i) + '</td>'\n",
    "html += '</tr>'\n",
    "cells = ['<td>10</td>']\n",
    "for i in range(delta.days + 1):\n",
    "    d = start + timedelta(days=i)\n",
    "    if d.day == 1:\n",
    "        if len(cells) == 32:\n",
    "            html += '<tr>' + ''.join(cells) + '</tr>'\n",
    "            cells[:] = ['<td>' + str(d.month) + '</td>']\n",
    "        elif len(cells) == 31:\n",
    "            cells.append('<td style=\"background-color: #FFFFFF;\">　　</td>')\n",
    "            html += '<tr>' + ''.join(cells) + '</tr>'\n",
    "            cells[:] = ['<td>' + str(d.month) + '</td>']\n",
    "        elif len(cells) == 29:\n",
    "            cells.append('<td style=\"background-color: #FFFFFF;\">　　</td>')\n",
    "            cells.append('<td style=\"background-color: #FFFFFF;\">　　</td>')\n",
    "            cells.append('<td style=\"background-color: #FFFFFF;\">　　</td>')\n",
    "            html += '<tr>' + ''.join(cells) + '</tr>'\n",
    "            cells[:] = ['<td>' + str(d.month) + '</td>']\n",
    "        elif d != start:\n",
    "            print('ERROR', d, len(cells))\n",
    "    s = '<td style=\"background-color: ' + colors[labels[i]] + ';\">　　</td>'\n",
    "    cells.append(s)\n",
    "cells.append('<td style=\"background-color: #FFFFFF;\">　　</td>')\n",
    "html += '<tr>' + ''.join(cells) + '</tr></table>'\n",
    "display(HTML(html))"
   ]
  },
  {
   "cell_type": "markdown",
   "metadata": {},
   "source": [
    "溫度的分群結果。此圖呈現了每個日子分別被分到哪一群。  \n",
    "圖中不同顏色表示不同群，黑色表示 noise，每一列（橫的）表示一個月份，每一行（直的）表示一天。"
   ]
  },
  {
   "cell_type": "markdown",
   "metadata": {},
   "source": [
    "解釋解釋解釋解釋解釋解釋。"
   ]
  },
  {
   "cell_type": "markdown",
   "metadata": {},
   "source": [
    "經過以上的實驗，我覺得這兩個資料集比較不適合使用 Density-based Clustering，因為要找到分佈得很稠密的資料點是有困難的。"
   ]
  },
  {
   "cell_type": "code",
   "execution_count": null,
   "metadata": {},
   "outputs": [],
   "source": []
  }
 ],
 "metadata": {
  "kernelspec": {
   "display_name": "Python 3",
   "language": "python",
   "name": "python3"
  },
  "language_info": {
   "codemirror_mode": {
    "name": "ipython",
    "version": 3
   },
   "file_extension": ".py",
   "mimetype": "text/x-python",
   "name": "python",
   "nbconvert_exporter": "python",
   "pygments_lexer": "ipython3",
   "version": "3.6.3"
  }
 },
 "nbformat": 4,
 "nbformat_minor": 2
}
