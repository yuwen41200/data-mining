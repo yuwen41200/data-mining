{
 "cells": [
  {
   "cell_type": "markdown",
   "metadata": {},
   "source": [
    "# Task 3"
   ]
  },
  {
   "cell_type": "markdown",
   "metadata": {},
   "source": [
    "### Transaction Definition: (時間, 北區電量逆差) for each hour"
   ]
  },
  {
   "cell_type": "markdown",
   "metadata": {},
   "source": [
    "現在，我想找出什麼時間缺電的情況最嚴重，以北區為例。  \n",
    "電量逆差 ＝ 用電量 — 供電量  \n",
    "Run the following query, store the results in TSV format.  \n",
    "Note: Round `DATETIME` towards its nearest hour. (e.g. 2017/10/16 14:37:52 -> 2017/10/16 15:00:00)"
   ]
  },
  {
   "cell_type": "markdown",
   "metadata": {
    "collapsed": true
   },
   "source": [
    "```sql\n",
    "SELECT DATE_FORMAT(DATE_ADD(Power.updateTime, INTERVAL 30 MINUTE), '%Y-%m-%d %H:00:00'),\n",
    "       Power.northUsage - Power.northSupply\n",
    "FROM Power\n",
    "```"
   ]
  },
  {
   "cell_type": "markdown",
   "metadata": {},
   "source": [
    "### Discretization: 時間只看月份及小時，電量逆差以五十萬瓩為一單位"
   ]
  },
  {
   "cell_type": "markdown",
   "metadata": {},
   "source": [
    "我將時間中的月份和小時當作兩個獨立的特徵。  \n",
    "將小時加上 666，電量逆差加上 66666，以便區分彼此。"
   ]
  },
  {
   "cell_type": "code",
   "execution_count": 1,
   "metadata": {
    "collapsed": true
   },
   "outputs": [],
   "source": [
    "import datetime\n",
    "dataset = []\n",
    "with open('task3.tsv') as file:\n",
    "    for line in file:\n",
    "        fields = line.split('\\t')\n",
    "        assert len(fields) == 2\n",
    "        dt = datetime.datetime.strptime(fields[0], \"%Y-%m-%d %H:%M:%S\")\n",
    "        m = dt.month\n",
    "        h = dt.hour + 666\n",
    "        p = int(round(float(fields[1]), -1)) // 50 + 66666\n",
    "        dataset.append([m, h, p])"
   ]
  },
  {
   "cell_type": "code",
   "execution_count": 2,
   "metadata": {},
   "outputs": [
    {
     "data": {
      "text/plain": [
       "6529"
      ]
     },
     "execution_count": 2,
     "metadata": {},
     "output_type": "execute_result"
    }
   ],
   "source": [
    "len(dataset)"
   ]
  },
  {
   "cell_type": "code",
   "execution_count": 3,
   "metadata": {},
   "outputs": [
    {
     "name": "stdout",
     "output_type": "stream",
     "text": [
      "[[9, 678, 66669], [9, 679, 66670], [9, 680, 66671], [9, 681, 66671], [9, 682, 66671], [9, 683, 66670], [9, 684, 66670], [9, 685, 66670], [9, 686, 66669], [9, 687, 66669]]\n"
     ]
    }
   ],
   "source": [
    "print(dataset[0:10])"
   ]
  },
  {
   "cell_type": "markdown",
   "metadata": {},
   "source": [
    "### Algorithm: FP-Growth"
   ]
  },
  {
   "cell_type": "markdown",
   "metadata": {},
   "source": [
    "Use Orange3-Associate by Bioinformatics Laboratory, FRI UL.  \n",
    "Ref: http://orange3-associate.readthedocs.org/"
   ]
  },
  {
   "cell_type": "code",
   "execution_count": 10,
   "metadata": {
    "collapsed": true
   },
   "outputs": [],
   "source": [
    "from orangecontrib.associate.fpgrowth import *\n",
    "itemsets = dict(frequent_itemsets(dataset, 0.005))"
   ]
  },
  {
   "cell_type": "code",
   "execution_count": 11,
   "metadata": {},
   "outputs": [
    {
     "data": {
      "text/plain": [
       "187"
      ]
     },
     "execution_count": 11,
     "metadata": {},
     "output_type": "execute_result"
    }
   ],
   "source": [
    "len(itemsets)"
   ]
  },
  {
   "cell_type": "code",
   "execution_count": 12,
   "metadata": {
    "collapsed": true
   },
   "outputs": [],
   "source": [
    "rules = list(association_rules(itemsets, 0.7))"
   ]
  },
  {
   "cell_type": "markdown",
   "metadata": {},
   "source": [
    "### Rules Discovered: 1 in total"
   ]
  },
  {
   "cell_type": "markdown",
   "metadata": {},
   "source": [
    "minimum support = 0.005, minimum confidence = 0.7  \n",
    "發現電量逆差為 300～350 萬瓩時，月份為八月，此規則的可信度約為 78％。"
   ]
  },
  {
   "cell_type": "code",
   "execution_count": 13,
   "metadata": {},
   "outputs": [
    {
     "name": "stdout",
     "output_type": "stream",
     "text": [
      "frozenset({66672}) -> frozenset({8}) supp = 61 conf = 0.782051282051282\n"
     ]
    }
   ],
   "source": [
    "for antecedent, consequent, support, confidence in rules:\n",
    "    print(antecedent, '->', consequent, 'supp =', support, 'conf =', confidence)"
   ]
  },
  {
   "cell_type": "code",
   "execution_count": 16,
   "metadata": {},
   "outputs": [
    {
     "name": "stdout",
     "output_type": "stream",
     "text": [
      "300 -> 8 conf = 0.782051282051282\n"
     ]
    }
   ],
   "source": [
    "for antecedent, consequent, support, confidence in rules:\n",
    "    ant, = antecedent\n",
    "    con, = consequent\n",
    "    print((ant - 66666) * 50, '->', con, 'conf =', confidence)"
   ]
  },
  {
   "cell_type": "markdown",
   "metadata": {},
   "source": [
    "### Discretization: 時間只看季節及晝夜，電量逆差以五十萬瓩為一單位"
   ]
  },
  {
   "cell_type": "markdown",
   "metadata": {},
   "source": [
    "有了上面的經驗，想將時間再分得粗一點。  \n",
    "Note: 1 = spring, 2 = summer, 3 = autumn, 4 = winter, 666 = day, 667 = night"
   ]
  },
  {
   "cell_type": "code",
   "execution_count": 17,
   "metadata": {
    "collapsed": true
   },
   "outputs": [],
   "source": [
    "def get_season(month):\n",
    "    return {\n",
    "         1: 4,\n",
    "         2: 4,\n",
    "         3: 1,\n",
    "         4: 1,\n",
    "         5: 1,\n",
    "         6: 2,\n",
    "         7: 2,\n",
    "         8: 2,\n",
    "         9: 3,\n",
    "        10: 3,\n",
    "        11: 3,\n",
    "        12: 4,\n",
    "    }.get(month, -1)"
   ]
  },
  {
   "cell_type": "code",
   "execution_count": 18,
   "metadata": {
    "collapsed": true
   },
   "outputs": [],
   "source": [
    "import datetime\n",
    "with open('task3.apriori', 'w') as dataset:\n",
    "    with open('task3.tsv') as file:\n",
    "        for line in file:\n",
    "            fields = line.split('\\t')\n",
    "            assert len(fields) == 2\n",
    "            dt = datetime.datetime.strptime(fields[0], \"%Y-%m-%d %H:%M:%S\")\n",
    "            m = get_season(dt.month)\n",
    "            h = 666 if (6 <= dt.hour < 18) else 667\n",
    "            p = int(round(float(fields[1]), -1)) // 50 + 66666\n",
    "            dataset.write(str(m) + ',' + str(h) + ',' + str(p) + '\\n')"
   ]
  },
  {
   "cell_type": "markdown",
   "metadata": {},
   "source": [
    "### Algorithm: Apriori"
   ]
  },
  {
   "cell_type": "markdown",
   "metadata": {},
   "source": [
    "Use the Python Implementation of Apriori Algorithm by Abhinav Saini.  \n",
    "Ref: https://github.com/asaini/Apriori"
   ]
  },
  {
   "cell_type": "code",
   "execution_count": 19,
   "metadata": {},
   "outputs": [
    {
     "name": "stdout",
     "output_type": "stream",
     "text": [
      "item: ('2', '66672') , 0.010\r\n",
      "item: ('4', '66671') , 0.010\r\n",
      "item: ('66665', '4') , 0.011\r\n",
      "item: ('666', '66667', '4') , 0.011\r\n",
      "item: ('1', '666', '66669') , 0.011\r\n",
      "item: ('666', '3', '66670') , 0.011\r\n",
      "item: ('66665', '666', '3') , 0.012\r\n",
      "item: ('66672',) , 0.012\r\n",
      "item: ('1', '66669') , 0.012\r\n",
      "item: ('667', '66669', '4') , 0.013\r\n",
      "item: ('1', '666', '66666') , 0.014\r\n",
      "item: ('667', '3', '66669') , 0.014\r\n",
      "item: ('3', '66670') , 0.014\r\n",
      "item: ('66665', '667', '2') , 0.014\r\n",
      "item: ('666', '2', '66671') , 0.015\r\n",
      "item: ('666', '66667', '2') , 0.016\r\n",
      "item: ('667', '66664', '3') , 0.017\r\n",
      "item: ('66665', '2') , 0.018\r\n",
      "item: ('2', '66671') , 0.018\r\n",
      "item: ('1', '666', '66667') , 0.018\r\n",
      "item: ('66665', '667', '1') , 0.018\r\n",
      "item: ('1', '667', '66667') , 0.019\r\n",
      "item: ('666', '4', '66670') , 0.020\r\n",
      "item: ('667', '66666', '4') , 0.020\r\n",
      "item: ('667', '3', '66668') , 0.021\r\n",
      "item: ('667', '66670') , 0.021\r\n",
      "item: ('667', '1', '66666') , 0.022\r\n",
      "item: ('1', '666', '66668') , 0.022\r\n",
      "item: ('66664', '3') , 0.024\r\n",
      "item: ('667', '66668', '4') , 0.024\r\n",
      "item: ('667', '66667', '4') , 0.025\r\n",
      "item: ('666', '3', '66666') , 0.025\r\n",
      "item: ('666', '66668', '4') , 0.025\r\n",
      "item: ('666', '66669', '4') , 0.025\r\n",
      "item: ('667', '2', '66669') , 0.026\r\n",
      "item: ('66666', '4') , 0.026\r\n",
      "item: ('66665', '1') , 0.026\r\n",
      "item: ('66665', '666') , 0.026\r\n",
      "item: ('666', '3', '66669') , 0.027\r\n",
      "item: ('666', '66671') , 0.027\r\n",
      "item: ('667', '2', '66666') , 0.027\r\n",
      "item: ('66665', '667', '3') , 0.027\r\n",
      "item: ('667', '66664') , 0.028\r\n",
      "item: ('4', '66670') , 0.029\r\n",
      "item: ('666', '2', '66668') , 0.030\r\n",
      "item: ('666', '66667', '3') , 0.031\r\n",
      "item: ('66671',) , 0.032\r\n",
      "item: ('1', '66668') , 0.032\r\n",
      "item: ('667', '66667', '3') , 0.034\r\n",
      "item: ('667', '3', '66666') , 0.034\r\n",
      "item: ('1', '66666') , 0.035\r\n",
      "item: ('66667', '4') , 0.035\r\n",
      "item: ('2', '66666') , 0.035\r\n",
      "item: ('666', '2', '66670') , 0.036\r\n",
      "item: ('66664',) , 0.036\r\n",
      "item: ('1', '66667') , 0.037\r\n",
      "item: ('666', '3', '66668') , 0.038\r\n",
      "item: ('66669', '4') , 0.038\r\n",
      "item: ('66665', '3') , 0.039\r\n",
      "item: ('3', '66669') , 0.041\r\n",
      "item: ('667', '2', '66668') , 0.041\r\n",
      "item: ('667', '66667', '2') , 0.042\r\n",
      "item: ('666', '2', '66669') , 0.044\r\n",
      "item: ('2', '66670') , 0.046\r\n",
      "item: ('66668', '4') , 0.049\r\n",
      "item: ('666', '66666') , 0.052\r\n",
      "item: ('667', '66669') , 0.054\r\n",
      "item: ('66667', '2') , 0.058\r\n",
      "item: ('3', '66668') , 0.059\r\n",
      "item: ('3', '66666') , 0.059\r\n",
      "item: ('66667', '3') , 0.065\r\n",
      "item: ('66665', '667') , 0.067\r\n",
      "item: ('2', '66669') , 0.070\r\n",
      "item: ('666', '66670') , 0.071\r\n",
      "item: ('2', '66668') , 0.071\r\n",
      "item: ('666', '66667') , 0.076\r\n",
      "item: ('1', '666') , 0.077\r\n",
      "item: ('667', '1') , 0.078\r\n",
      "item: ('66670',) , 0.092\r\n",
      "item: ('66665',) , 0.094\r\n",
      "item: ('667', '66668') , 0.095\r\n",
      "item: ('666', '4') , 0.100\r\n",
      "item: ('667', '4') , 0.101\r\n",
      "item: ('667', '66666') , 0.103\r\n",
      "item: ('666', '66669') , 0.107\r\n",
      "item: ('666', '66668') , 0.114\r\n",
      "item: ('667', '66667') , 0.119\r\n",
      "item: ('666', '3') , 0.154\r\n",
      "item: ('1',) , 0.155\r\n",
      "item: ('66666',) , 0.155\r\n",
      "item: ('667', '3') , 0.155\r\n",
      "item: ('66669',) , 0.161\r\n",
      "item: ('666', '2') , 0.167\r\n",
      "item: ('667', '2') , 0.168\r\n",
      "item: ('66667',) , 0.195\r\n",
      "item: ('4',) , 0.201\r\n",
      "item: ('66668',) , 0.210\r\n",
      "item: ('3',) , 0.309\r\n",
      "item: ('2',) , 0.335\r\n",
      "item: ('666',) , 0.498\r\n",
      "item: ('667',) , 0.502\r\n",
      "\r\n",
      "------------------------ RULES:\r\n",
      "Rule: ('4', '66670') ==> ('666',) , 0.701\r\n",
      "Rule: ('66665', '3') ==> ('667',) , 0.702\r\n",
      "Rule: ('66667', '2') ==> ('667',) , 0.717\r\n",
      "Rule: ('66665',) ==> ('667',) , 0.719\r\n",
      "Rule: ('66664', '3') ==> ('667',) , 0.721\r\n",
      "Rule: ('66664',) ==> ('667',) , 0.756\r\n",
      "Rule: ('66666', '4') ==> ('667',) , 0.767\r\n",
      "Rule: ('2', '66666') ==> ('667',) , 0.770\r\n",
      "Rule: ('66670',) ==> ('666',) , 0.771\r\n",
      "Rule: ('2', '66670') ==> ('666',) , 0.789\r\n",
      "Rule: ('66665', '2') ==> ('667',) , 0.802\r\n",
      "Rule: ('3', '66670') ==> ('666',) , 0.806\r\n",
      "Rule: ('2', '66671') ==> ('666',) , 0.821\r\n",
      "Rule: ('66672',) ==> ('2',) , 0.846\r\n",
      "Rule: ('66671',) ==> ('666',) , 0.850\r\n",
      "Rule: ('1', '66669') ==> ('666',) , 0.901\r\n"
     ]
    }
   ],
   "source": [
    "!python2 apriori.py -f task3.apriori -s 0.01 -c 0.7"
   ]
  },
  {
   "cell_type": "markdown",
   "metadata": {},
   "source": [
    "### Rules Discovered: 16 in total"
   ]
  },
  {
   "cell_type": "markdown",
   "metadata": {},
   "source": [
    "minimum support = 0.01, minimum confidence = 0.7  \n",
    "發現電量逆差為 250～300 萬瓩時，正值白天，此規則的可信度約為 85％；  \n",
    "　　電量逆差為 300～350 萬瓩時，正值夏季，此規則的可信度約為 85％。  \n",
    "發現春季、電量逆差為 150～200 萬瓩時，正值白天，此規則的可信度約為 90％；  \n",
    "　　夏季、電量逆差為 250～300 萬瓩時，正值白天，此規則的可信度約為 82％；  \n",
    "　　秋季、電量逆差為 200～250 萬瓩時，正值白天，此規則的可信度約為 81％。  \n",
    "發現夏季、電量逆差為 -100～-50 萬瓩時，正值晚上，此規則的可信度約為 80％。"
   ]
  },
  {
   "cell_type": "code",
   "execution_count": 20,
   "metadata": {
    "collapsed": true
   },
   "outputs": [],
   "source": [
    "def whatisthis(i):\n",
    "    if i == '1':\n",
    "        return 'SPRING'\n",
    "    elif i == '2':\n",
    "        return 'SUMMER'\n",
    "    elif i == '3':\n",
    "        return 'AUTUMN'\n",
    "    elif i == '4':\n",
    "        return 'WINTER'\n",
    "    elif i == '666':\n",
    "        return 'DAY'\n",
    "    elif i == '667':\n",
    "        return 'NIGHT'\n",
    "    else:\n",
    "        return str((int(i) - 66666) * 50)"
   ]
  },
  {
   "cell_type": "code",
   "execution_count": 21,
   "metadata": {},
   "outputs": [
    {
     "name": "stdout",
     "output_type": "stream",
     "text": [
      "('WINTER', '200') -> ('DAY',) conf = 0.701\n",
      "('-50', 'AUTUMN') -> ('NIGHT',) conf = 0.702\n",
      "('50', 'SUMMER') -> ('NIGHT',) conf = 0.717\n",
      "('-50',) -> ('NIGHT',) conf = 0.719\n",
      "('-100', 'AUTUMN') -> ('NIGHT',) conf = 0.721\n",
      "('-100',) -> ('NIGHT',) conf = 0.756\n",
      "('0', 'WINTER') -> ('NIGHT',) conf = 0.767\n",
      "('SUMMER', '0') -> ('NIGHT',) conf = 0.77\n",
      "('200',) -> ('DAY',) conf = 0.771\n",
      "('SUMMER', '200') -> ('DAY',) conf = 0.789\n",
      "('-50', 'SUMMER') -> ('NIGHT',) conf = 0.802\n",
      "('AUTUMN', '200') -> ('DAY',) conf = 0.806\n",
      "('SUMMER', '250') -> ('DAY',) conf = 0.821\n",
      "('300',) -> ('SUMMER',) conf = 0.846\n",
      "('250',) -> ('DAY',) conf = 0.85\n",
      "('SPRING', '150') -> ('DAY',) conf = 0.901\n"
     ]
    }
   ],
   "source": [
    "rules = []\n",
    "rules.append((('4', '66670'), ('666',), 0.701))\n",
    "rules.append((('66665', '3'), ('667',), 0.702))\n",
    "rules.append((('66667', '2'), ('667',), 0.717))\n",
    "rules.append((('66665',), ('667',), 0.719))\n",
    "rules.append((('66664', '3'), ('667',), 0.721))\n",
    "rules.append((('66664',), ('667',), 0.756))\n",
    "rules.append((('66666', '4'), ('667',), 0.767))\n",
    "rules.append((('2', '66666'), ('667',), 0.770))\n",
    "rules.append((('66670',), ('666',), 0.771))\n",
    "rules.append((('2', '66670'), ('666',), 0.789))\n",
    "rules.append((('66665', '2'), ('667',), 0.802))\n",
    "rules.append((('3', '66670'), ('666',), 0.806))\n",
    "rules.append((('2', '66671'), ('666',), 0.821))\n",
    "rules.append((('66672',), ('2',), 0.846))\n",
    "rules.append((('66671',), ('666',), 0.850))\n",
    "rules.append((('1', '66669'), ('666',), 0.901))\n",
    "for antecedent, consequent, confidence in rules:\n",
    "    ant = tuple(whatisthis(x) for x in antecedent)\n",
    "    con = tuple(whatisthis(x) for x in consequent)\n",
    "    print(ant, '->', con, 'conf =', confidence)"
   ]
  },
  {
   "cell_type": "markdown",
   "metadata": {},
   "source": [
    "### What I Have Learned"
   ]
  },
  {
   "cell_type": "markdown",
   "metadata": {},
   "source": [
    "By choosing coarser granularity, I can get more association rules.  \n",
    "Finding association rules may be easy, but finding meaningful association rules is difficult."
   ]
  },
  {
   "cell_type": "code",
   "execution_count": null,
   "metadata": {
    "collapsed": true
   },
   "outputs": [],
   "source": []
  }
 ],
 "metadata": {
  "kernelspec": {
   "display_name": "Python 3",
   "language": "python",
   "name": "python3"
  },
  "language_info": {
   "codemirror_mode": {
    "name": "ipython",
    "version": 3
   },
   "file_extension": ".py",
   "mimetype": "text/x-python",
   "name": "python",
   "nbconvert_exporter": "python",
   "pygments_lexer": "ipython3",
   "version": "3.6.3"
  }
 },
 "nbformat": 4,
 "nbformat_minor": 1
}
