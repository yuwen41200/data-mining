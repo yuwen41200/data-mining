{
 "cells": [
  {
   "cell_type": "markdown",
   "metadata": {},
   "source": [
    "# Task 2"
   ]
  },
  {
   "cell_type": "markdown",
   "metadata": {},
   "source": [
    "### Transaction Definition: (板橋測站的溫度, 板橋測站的濕度, 板橋測站的風速, 北區用電量) for each hour"
   ]
  },
  {
   "cell_type": "markdown",
   "metadata": {},
   "source": [
    "由於溫度、濕度、風速都會影響人的舒適度，而人舒適與否又會影響用電量（覺得悶熱便開冷氣等），故設計這項分析。  \n",
    "Run the following query, store the results in TSV format.  \n",
    "Note: Round `DATETIME` towards its nearest hour. (e.g. 2017/10/16 14:37:52 -> 2017/10/16 15:00:00)"
   ]
  },
  {
   "cell_type": "markdown",
   "metadata": {
    "collapsed": true
   },
   "source": [
    "```sql\n",
    "SELECT DATE_FORMAT(DATE_ADD(Power.updateTime, INTERVAL 30 MINUTE), '%Y-%m-%d %H:00:00') AS time,\n",
    "       逐時觀測.溫度,\n",
    "       逐時觀測.相對濕度,\n",
    "       逐時觀測.風速,\n",
    "       Power.northUsage\n",
    "FROM Power\n",
    "INNER JOIN 逐時觀測\n",
    "ON DATE_FORMAT(DATE_ADD(Power.updateTime, INTERVAL 30 MINUTE), '%Y-%m-%d %H:00:00')\n",
    "   = DATE_FORMAT(DATE_ADD(逐時觀測.時間, INTERVAL 30 MINUTE), '%Y-%m-%d %H:00:00')\n",
    "WHERE 逐時觀測.測站 = 'BANQIAO,板橋'\n",
    "```"
   ]
  },
  {
   "cell_type": "markdown",
   "metadata": {},
   "source": [
    "### Discretization: 溫度以五度為一單位，濕度以五百分點為一單位，風速逕取整數，用電量以五十萬瓩為一單位"
   ]
  },
  {
   "cell_type": "markdown",
   "metadata": {},
   "source": [
    "將用電量加上 10000，風速減去 10000，濕度取其相反數，以便區分彼此。  \n",
    "Note: 實際上不會剛好是「四捨五入」，因為浮點數在電腦裡是用二進制來儲存的，不過這並不影響結果。"
   ]
  },
  {
   "cell_type": "code",
   "execution_count": 1,
   "metadata": {
    "collapsed": true
   },
   "outputs": [],
   "source": [
    "dataset = []\n",
    "with open('task2.tsv') as file:\n",
    "    for line in file:\n",
    "        fields = line.split('\\t')\n",
    "        assert len(fields) == 5\n",
    "        t = int(round(float(fields[1]))) // 5\n",
    "        h = int(round(float(fields[2]))) // -5\n",
    "        s = int(round(float(fields[3]))) - 10000\n",
    "        p = int(round(float(fields[4]), -1)) // 50 + 10000\n",
    "        dataset.append([t, h, s, p])"
   ]
  },
  {
   "cell_type": "code",
   "execution_count": 2,
   "metadata": {},
   "outputs": [
    {
     "data": {
      "text/plain": [
       "4636"
      ]
     },
     "execution_count": 2,
     "metadata": {},
     "output_type": "execute_result"
    }
   ],
   "source": [
    "len(dataset)"
   ]
  },
  {
   "cell_type": "code",
   "execution_count": 3,
   "metadata": {},
   "outputs": [
    {
     "name": "stdout",
     "output_type": "stream",
     "text": [
      "[[5, -16, -9988, 10016], [5, -17, -9986, 10016], [5, -17, -9983, 10015], [5, -16, -9988, 10015], [5, -17, -9990, 10015], [5, -17, -9989, 10015], [5, -16, -9992, 10016], [5, -17, -9993, 10016], [5, -15, -9993, 10016], [5, -14, -9993, 10016]]\n"
     ]
    }
   ],
   "source": [
    "print(dataset[0:10])"
   ]
  },
  {
   "cell_type": "markdown",
   "metadata": {},
   "source": [
    "### Algorithm: FP-Growth"
   ]
  },
  {
   "cell_type": "markdown",
   "metadata": {},
   "source": [
    "Use Orange3-Associate by Bioinformatics Laboratory, FRI UL.  \n",
    "Ref: http://orange3-associate.readthedocs.org/"
   ]
  },
  {
   "cell_type": "code",
   "execution_count": 4,
   "metadata": {
    "collapsed": true
   },
   "outputs": [],
   "source": [
    "from orangecontrib.associate.fpgrowth import *\n",
    "itemsets = dict(frequent_itemsets(dataset, 0.01))"
   ]
  },
  {
   "cell_type": "code",
   "execution_count": 5,
   "metadata": {},
   "outputs": [
    {
     "data": {
      "text/plain": [
       "290"
      ]
     },
     "execution_count": 5,
     "metadata": {},
     "output_type": "execute_result"
    }
   ],
   "source": [
    "len(itemsets)"
   ]
  },
  {
   "cell_type": "code",
   "execution_count": 6,
   "metadata": {
    "collapsed": true
   },
   "outputs": [],
   "source": [
    "rules = list(association_rules(itemsets, 0.7))"
   ]
  },
  {
   "cell_type": "markdown",
   "metadata": {},
   "source": [
    "### Rules Discovered: 8 in total"
   ]
  },
  {
   "cell_type": "markdown",
   "metadata": {},
   "source": [
    "minimum support = 0.01, minimum confidence = 0.7  \n",
    "Cannot find any rules. Need coarser granularity."
   ]
  },
  {
   "cell_type": "code",
   "execution_count": 7,
   "metadata": {},
   "outputs": [
    {
     "name": "stdout",
     "output_type": "stream",
     "text": [
      "frozenset({-10000, 10014}) -> frozenset({4}) supp = 71 conf = 0.8068181818181818\n",
      "frozenset({10014, -17}) -> frozenset({4}) supp = 58 conf = 0.7160493827160493\n",
      "frozenset({-15, 10020}) -> frozenset({4}) supp = 79 conf = 0.7053571428571429\n",
      "frozenset({-15, 10022}) -> frozenset({5}) supp = 49 conf = 0.9074074074074074\n",
      "frozenset({10022}) -> frozenset({5}) supp = 168 conf = 0.7148936170212766\n",
      "frozenset({10025}) -> frozenset({6}) supp = 96 conf = 0.8888888888888888\n",
      "frozenset({-19}) -> frozenset({4}) supp = 72 conf = 0.7272727272727273\n",
      "frozenset({10026}) -> frozenset({6}) supp = 53 conf = 0.828125\n"
     ]
    }
   ],
   "source": [
    "for antecedent, consequent, support, confidence in rules:\n",
    "    print(antecedent, '->', consequent, 'supp =', support, 'conf =', confidence)"
   ]
  },
  {
   "cell_type": "code",
   "execution_count": 8,
   "metadata": {},
   "outputs": [],
   "source": [
    "def whatisthis(i):\n",
    "    if i < 0:\n",
    "        if i < -1000:\n",
    "            return str(i + 10000) + 's'\n",
    "        else:\n",
    "            return str(i * -5) + 'h'\n",
    "    else:\n",
    "        if i < 1000:\n",
    "            return str(i * 5) + 't'\n",
    "        else:\n",
    "            return str((i - 10000) * 50) + 'p'"
   ]
  },
  {
   "cell_type": "code",
   "execution_count": 9,
   "metadata": {},
   "outputs": [
    {
     "name": "stdout",
     "output_type": "stream",
     "text": [
      "('0s', '700p') -> ('20t',) conf = 0.8068181818181818\n",
      "('700p', '85h') -> ('20t',) conf = 0.7160493827160493\n",
      "('75h', '1000p') -> ('20t',) conf = 0.7053571428571429\n",
      "('75h', '1100p') -> ('25t',) conf = 0.9074074074074074\n",
      "('1100p',) -> ('25t',) conf = 0.7148936170212766\n",
      "('1250p',) -> ('30t',) conf = 0.8888888888888888\n",
      "('95h',) -> ('20t',) conf = 0.7272727272727273\n",
      "('1300p',) -> ('30t',) conf = 0.828125\n"
     ]
    }
   ],
   "source": [
    "for antecedent, consequent, support, confidence in rules:\n",
    "    ant = tuple(whatisthis(x) for x in antecedent)\n",
    "    con = tuple(whatisthis(x) for x in consequent)\n",
    "    print(ant, '->', con, 'conf =', confidence)"
   ]
  },
  {
   "cell_type": "markdown",
   "metadata": {},
   "source": [
    "### Discretization: 溫度以兩度為一單位，濕度以五百分點為一單位，風速逕取整數，用電量以五十萬瓩為一單位"
   ]
  },
  {
   "cell_type": "markdown",
   "metadata": {},
   "source": [
    "有了上面的經驗，想將溫度再分得細一點。"
   ]
  },
  {
   "cell_type": "code",
   "execution_count": 10,
   "metadata": {
    "collapsed": true
   },
   "outputs": [],
   "source": [
    "with open('task2.apriori', 'w') as dataset:\n",
    "    with open('task2.tsv') as file:\n",
    "        for line in file:\n",
    "            fields = line.split('\\t')\n",
    "            assert len(fields) == 5\n",
    "            t = int(round(float(fields[1]))) // 2\n",
    "            h = int(round(float(fields[2]))) // -5\n",
    "            s = int(round(float(fields[3]))) - 10000\n",
    "            p = int(round(float(fields[4]), -1)) // 50 + 10000\n",
    "            dataset.write(str(t) + ',' + str(h) + ',' + str(s) + ',' + str(p) + '\\n')"
   ]
  },
  {
   "cell_type": "markdown",
   "metadata": {},
   "source": [
    "### Algorithm: Apriori"
   ]
  },
  {
   "cell_type": "markdown",
   "metadata": {},
   "source": [
    "Use the Python Implementation of Apriori Algorithm by Abhinav Saini.  \n",
    "Ref: https://github.com/asaini/Apriori"
   ]
  },
  {
   "cell_type": "code",
   "execution_count": 11,
   "metadata": {},
   "outputs": [
    {
     "name": "stdout",
     "output_type": "stream",
     "text": [
      "item: ('-10000', '10021') , 0.010\n",
      "item: ('-10000', '10017') , 0.010\n",
      "item: ('-9996', '14') , 0.010\n",
      "item: ('-10000', '10013') , 0.010\n",
      "item: ('8', '-15') , 0.010\n",
      "item: ('10021', '-16') , 0.010\n",
      "item: ('-9995', '-14') , 0.010\n",
      "item: ('10024', '-9999') , 0.010\n",
      "item: ('10018', '-17') , 0.010\n",
      "item: ('10017', '13', '-9999') , 0.010\n",
      "item: ('10', '-9997', '-15') , 0.010\n",
      "item: ('13', '10020') , 0.011\n",
      "item: ('-18', '10016') , 0.011\n",
      "item: ('-13', '10018') , 0.011\n",
      "item: ('13', '-9999', '10016') , 0.011\n",
      "item: ('9', '10019') , 0.011\n",
      "item: ('-18', '10015') , 0.011\n",
      "item: ('-9996', '10016') , 0.011\n",
      "item: ('-9996', '10015') , 0.011\n",
      "item: ('-9996', '10017') , 0.011\n",
      "item: ('8', '-9997') , 0.011\n",
      "item: ('10025', '16') , 0.011\n",
      "item: ('12', '-9999', '10015') , 0.011\n",
      "item: ('10', '-9997', '-14') , 0.011\n",
      "item: ('15', '-15') , 0.011\n",
      "item: ('15', '10023') , 0.011\n",
      "item: ('-10000', '10016') , 0.011\n",
      "item: ('-18', '10014') , 0.011\n",
      "item: ('-14', '10014') , 0.011\n",
      "item: ('-10000', '10018') , 0.011\n",
      "item: ('-19', '12') , 0.011\n",
      "item: ('9', '10014') , 0.011\n",
      "item: ('11', '-13') , 0.011\n",
      "item: ('10019', '-17') , 0.011\n",
      "item: ('10024', '-9998') , 0.011\n",
      "item: ('-18', '12', '-9999') , 0.011\n",
      "item: ('14', '10021') , 0.012\n",
      "item: ('10022', '-15') , 0.012\n",
      "item: ('-12', '-9998') , 0.012\n",
      "item: ('-10000', '10') , 0.012\n",
      "item: ('10018', '-15') , 0.012\n",
      "item: ('12', '-9998', '-16') , 0.012\n",
      "item: ('12', '-9999', '-17') , 0.012\n",
      "item: ('10017', '-14') , 0.012\n",
      "item: ('10022', '-9999') , 0.012\n",
      "item: ('10023', '-9998') , 0.012\n",
      "item: ('-13', '13') , 0.012\n",
      "item: ('9', '-9996') , 0.012\n",
      "item: ('-9997', '-12') , 0.012\n",
      "item: ('7', '-16') , 0.012\n",
      "item: ('-10000', '-19') , 0.012\n",
      "item: ('10019', '12') , 0.012\n",
      "item: ('-14', '10021') , 0.012\n",
      "item: ('-9996', '-12') , 0.012\n",
      "item: ('10013', '-14') , 0.013\n",
      "item: ('-15', '10014') , 0.013\n",
      "item: ('13', '-9996') , 0.013\n",
      "item: ('10', '10016') , 0.013\n",
      "item: ('-9997', '14') , 0.013\n",
      "item: ('12', '10017') , 0.013\n",
      "item: ('-15', '10015') , 0.013\n",
      "item: ('10', '-13') , 0.013\n",
      "item: ('-18', '13', '-9999') , 0.013\n",
      "item: ('17',) , 0.013\n",
      "item: ('9', '-15') , 0.013\n",
      "item: ('-14', '10016') , 0.013\n",
      "item: ('10', '-9999', '-16') , 0.013\n",
      "item: ('10018', '-14') , 0.013\n",
      "item: ('-9998', '7') , 0.013\n",
      "item: ('-10000', '14') , 0.014\n",
      "item: ('-17', '10020') , 0.014\n",
      "item: ('10026',) , 0.014\n",
      "item: ('10018', '12') , 0.014\n",
      "item: ('10', '10015') , 0.014\n",
      "item: ('14', '10023') , 0.014\n",
      "item: ('-9997', '10018') , 0.014\n",
      "item: ('-13', '-9999') , 0.014\n",
      "item: ('-10000', '-15') , 0.014\n",
      "item: ('11', '10018') , 0.014\n",
      "item: ('-9998', '10021') , 0.014\n",
      "item: ('-10000', '10015') , 0.015\n",
      "item: ('-15', '10016') , 0.015\n",
      "item: ('10024', '15') , 0.015\n",
      "item: ('-9998', '16') , 0.015\n",
      "item: ('-13', '14') , 0.015\n",
      "item: ('9', '-14') , 0.015\n",
      "item: ('13', '10019') , 0.015\n",
      "item: ('10022', '14') , 0.015\n",
      "item: ('-9996', '10020') , 0.015\n",
      "item: ('11', '10015') , 0.015\n",
      "item: ('8', '-9998') , 0.015\n",
      "item: ('10', '10017') , 0.015\n",
      "item: ('-9997', '10015') , 0.015\n",
      "item: ('-11',) , 0.016\n",
      "item: ('10018', '-16') , 0.016\n",
      "item: ('-13', '16') , 0.016\n",
      "item: ('11', '10016') , 0.016\n",
      "item: ('11', '10019') , 0.016\n",
      "item: ('12', '10021') , 0.016\n",
      "item: ('10013', '-17') , 0.016\n",
      "item: ('13', '10022') , 0.016\n",
      "item: ('-13', '15') , 0.016\n",
      "item: ('12', '10020') , 0.016\n",
      "item: ('-9997', '10014') , 0.016\n",
      "item: ('-9997', '7') , 0.017\n",
      "item: ('13', '10018') , 0.017\n",
      "item: ('11', '10017') , 0.017\n",
      "item: ('12', '-9996') , 0.017\n",
      "item: ('11', '-18') , 0.017\n",
      "item: ('10020', '-16') , 0.017\n",
      "item: ('-13', '10019') , 0.017\n",
      "item: ('11', '10013') , 0.017\n",
      "item: ('-17', '10014') , 0.017\n",
      "item: ('-14', '10020') , 0.017\n",
      "item: ('10018', '-9998') , 0.017\n",
      "item: ('10013', '-9999') , 0.018\n",
      "item: ('10017', '-15') , 0.018\n",
      "item: ('9', '10013') , 0.018\n",
      "item: ('14', '-16') , 0.018\n",
      "item: ('9', '-9999') , 0.018\n",
      "item: ('10022', '-9998') , 0.018\n",
      "item: ('-9997', '10017') , 0.018\n",
      "item: ('10016', '-16') , 0.018\n",
      "item: ('-9997', '12') , 0.018\n",
      "item: ('10013', '-15') , 0.018\n",
      "item: ('15', '-14') , 0.019\n",
      "item: ('14', '-14') , 0.019\n",
      "item: ('13', '10021') , 0.019\n",
      "item: ('12', '10016') , 0.019\n",
      "item: ('9', '-16') , 0.019\n",
      "item: ('-18', '-9998') , 0.019\n",
      "item: ('-9997', '-17') , 0.019\n",
      "item: ('12', '-15') , 0.019\n",
      "item: ('11', '-9996') , 0.019\n",
      "item: ('10', '10014') , 0.019\n",
      "item: ('10018', '-9999') , 0.019\n",
      "item: ('-10000', '10014') , 0.019\n",
      "item: ('11', '-14') , 0.019\n",
      "item: ('10', '10020') , 0.019\n",
      "item: ('-9999', '10020') , 0.019\n",
      "item: ('10016', '-17') , 0.019\n",
      "item: ('10015', '-16') , 0.020\n",
      "item: ('-9999', '10021') , 0.020\n",
      "item: ('12', '10014') , 0.020\n",
      "item: ('10019', '-9999') , 0.020\n",
      "item: ('10017', '-16') , 0.020\n",
      "item: ('10019', '-14') , 0.020\n",
      "item: ('-9997', '10020') , 0.020\n",
      "item: ('9', '-17') , 0.020\n",
      "item: ('13', '10015') , 0.020\n",
      "item: ('-9998', '10016') , 0.020\n",
      "item: ('15', '-9999') , 0.020\n",
      "item: ('10017', '-17') , 0.020\n",
      "item: ('10019', '-16') , 0.020\n",
      "item: ('11', '10020') , 0.020\n",
      "item: ('9', '-9998') , 0.021\n",
      "item: ('15', '-9998') , 0.021\n",
      "item: ('-18', '13') , 0.021\n",
      "item: ('13', '-14') , 0.021\n",
      "item: ('10019', '-9997') , 0.021\n",
      "item: ('13', '10017') , 0.021\n",
      "item: ('-19',) , 0.021\n",
      "item: ('11', '10014') , 0.021\n",
      "item: ('-9997', '10016') , 0.021\n",
      "item: ('-9996', '-16') , 0.021\n",
      "item: ('10', '10019') , 0.022\n",
      "item: ('10', '-17') , 0.022\n",
      "item: ('-17', '10015') , 0.022\n",
      "item: ('10013', '-16') , 0.022\n",
      "item: ('-9999', '10014') , 0.022\n",
      "item: ('10013', '-9997') , 0.022\n",
      "item: ('10025',) , 0.023\n",
      "item: ('13', '-9997') , 0.023\n",
      "item: ('11', '-10000') , 0.023\n",
      "item: ('-9998', '10020') , 0.023\n",
      "item: ('-9998', '10015') , 0.024\n",
      "item: ('-15', '14') , 0.024\n",
      "item: ('-10000', '-18') , 0.024\n",
      "item: ('-9999', '-14') , 0.024\n",
      "item: ('10014', '-16') , 0.024\n",
      "item: ('12', '-14') , 0.024\n",
      "item: ('11', '-17') , 0.024\n",
      "item: ('-15', '10020') , 0.024\n",
      "item: ('10', '-9996') , 0.024\n",
      "item: ('13', '-9999', '-17') , 0.024\n",
      "item: ('-9998', '10014') , 0.024\n",
      "item: ('10017', '-9998') , 0.025\n",
      "item: ('10019', '-9998') , 0.025\n",
      "item: ('9', '-9997') , 0.025\n",
      "item: ('-18', '12') , 0.025\n",
      "item: ('10019', '-9996') , 0.025\n",
      "item: ('-9996', '-15') , 0.025\n",
      "item: ('10013', '10') , 0.026\n",
      "item: ('10012',) , 0.026\n",
      "item: ('10019', '-15') , 0.026\n",
      "item: ('10', '-14') , 0.026\n",
      "item: ('12', '10015') , 0.026\n",
      "item: ('11', '-9997') , 0.026\n",
      "item: ('10017', '-9999') , 0.026\n",
      "item: ('10013', '-9998') , 0.027\n",
      "item: ('13', '10016') , 0.027\n",
      "item: ('14', '-9998') , 0.027\n",
      "item: ('-9996', '-14') , 0.027\n",
      "item: ('13', '-15') , 0.027\n",
      "item: ('-13', '-9996') , 0.027\n",
      "item: ('-9999', '10016') , 0.027\n",
      "item: ('-10000', '-16') , 0.028\n",
      "item: ('10', '-9999') , 0.028\n",
      "item: ('-10000', '-17') , 0.028\n",
      "item: ('-9999', '10015') , 0.028\n",
      "item: ('-10000', '13') , 0.029\n",
      "item: ('13', '-16') , 0.029\n",
      "item: ('-9999', '14') , 0.029\n",
      "item: ('12', '-17') , 0.029\n",
      "item: ('-13', '-9997') , 0.029\n",
      "item: ('10', '-15') , 0.031\n",
      "item: ('-10000', '12') , 0.031\n",
      "item: ('11', '-15') , 0.032\n",
      "item: ('13', '-9998') , 0.032\n",
      "item: ('-9997', '-16') , 0.032\n",
      "item: ('12', '-16') , 0.033\n",
      "item: ('11', '-16') , 0.034\n",
      "item: ('11', '-9999') , 0.034\n",
      "item: ('10', '-9998') , 0.035\n",
      "item: ('-9999', '-15') , 0.035\n",
      "item: ('10024',) , 0.036\n",
      "item: ('-13', '-9998') , 0.036\n",
      "item: ('10', '-9997') , 0.036\n",
      "item: ('-9995',) , 0.037\n",
      "item: ('10023',) , 0.038\n",
      "item: ('-9998', '-17') , 0.038\n",
      "item: ('16',) , 0.038\n",
      "item: ('10', '-16') , 0.038\n",
      "item: ('-18', '-9999') , 0.039\n",
      "item: ('11', '-9998') , 0.039\n",
      "item: ('8',) , 0.040\n",
      "item: ('-9997', '-15') , 0.041\n",
      "item: ('12', '-9998') , 0.041\n",
      "item: ('13', '-17') , 0.044\n",
      "item: ('12', '-9999') , 0.045\n",
      "item: ('-14', '-9998') , 0.046\n",
      "item: ('7',) , 0.046\n",
      "item: ('-9997', '-14') , 0.048\n",
      "item: ('-12',) , 0.049\n",
      "item: ('10022',) , 0.051\n",
      "item: ('-15', '-9998') , 0.054\n",
      "item: ('-9998', '-16') , 0.054\n",
      "item: ('-9999', '-16') , 0.054\n",
      "item: ('13', '-9999') , 0.058\n",
      "item: ('15',) , 0.061\n",
      "item: ('-9999', '-17') , 0.062\n",
      "item: ('10021',) , 0.064\n",
      "item: ('10018',) , 0.078\n",
      "item: ('-18',) , 0.085\n",
      "item: ('9',) , 0.086\n",
      "item: ('10013',) , 0.086\n",
      "item: ('10020',) , 0.090\n",
      "item: ('10014',) , 0.091\n",
      "item: ('14',) , 0.095\n",
      "item: ('10017',) , 0.096\n",
      "item: ('10015',) , 0.097\n",
      "item: ('10016',) , 0.097\n",
      "item: ('10019',) , 0.109\n",
      "item: ('-10000',) , 0.121\n",
      "item: ('-13',) , 0.123\n",
      "item: ('-9996',) , 0.126\n",
      "item: ('10',) , 0.145\n",
      "item: ('11',) , 0.149\n",
      "item: ('-17',) , 0.155\n",
      "item: ('12',) , 0.157\n",
      "item: ('13',) , 0.163\n",
      "item: ('-14',) , 0.164\n",
      "item: ('-15',) , 0.178\n",
      "item: ('-9997',) , 0.188\n",
      "item: ('-16',) , 0.194\n",
      "item: ('-9999',) , 0.250\n",
      "item: ('-9998',) , 0.266\n",
      "\n",
      "------------------------ RULES:\n",
      "Rule: ('-18', '13') ==> ('-9999',) , 0.615\n"
     ]
    }
   ],
   "source": [
    "!python2 apriori.py -f task2.apriori -s 0.01 -c 0.6"
   ]
  },
  {
   "cell_type": "markdown",
   "metadata": {},
   "source": [
    "### Rules Discovered: 1 in total"
   ]
  },
  {
   "cell_type": "markdown",
   "metadata": {},
   "source": [
    "minimum support = 0.01, minimum confidence = 0.6  \n",
    "發現用電量為 1250～1350 萬瓩時，溫度為 30～35 度，此規則的可信度超過 80％。"
   ]
  },
  {
   "cell_type": "code",
   "execution_count": 12,
   "metadata": {
    "collapsed": true
   },
   "outputs": [],
   "source": [
    "def whatisthis(i):\n",
    "    if i < 0:\n",
    "        if i < -1000:\n",
    "            return str(i + 10000) + 's'\n",
    "        else:\n",
    "            return str(i * -5) + 'h'\n",
    "    else:\n",
    "        if i < 1000:\n",
    "            return str(i * 2) + 't'\n",
    "        else:\n",
    "            return str((i - 10000) * 50) + 'p'"
   ]
  },
  {
   "cell_type": "code",
   "execution_count": 13,
   "metadata": {},
   "outputs": [
    {
     "name": "stdout",
     "output_type": "stream",
     "text": [
      "('90h', '26t') -> ('1s',) conf = 0.615\n"
     ]
    }
   ],
   "source": [
    "rules = []\n",
    "rules.append(((-18, 13), (-9999,), 0.615))\n",
    "for antecedent, consequent, confidence in rules:\n",
    "    ant = tuple(whatisthis(x) for x in antecedent)\n",
    "    con = tuple(whatisthis(x) for x in consequent)\n",
    "    print(ant, '->', con, 'conf =', confidence)"
   ]
  },
  {
   "cell_type": "markdown",
   "metadata": {},
   "source": [
    "### What I Have Learned"
   ]
  },
  {
   "cell_type": "markdown",
   "metadata": {},
   "source": [
    "When transforming continuous values into discrete values, fine granularity may not be a good idea."
   ]
  },
  {
   "cell_type": "code",
   "execution_count": null,
   "metadata": {
    "collapsed": true
   },
   "outputs": [],
   "source": []
  }
 ],
 "metadata": {
  "kernelspec": {
   "display_name": "Python 3",
   "language": "python",
   "name": "python3"
  },
  "language_info": {
   "codemirror_mode": {
    "name": "ipython",
    "version": 3
   },
   "file_extension": ".py",
   "mimetype": "text/x-python",
   "name": "python",
   "nbconvert_exporter": "python",
   "pygments_lexer": "ipython3",
   "version": "3.6.3"
  }
 },
 "nbformat": 4,
 "nbformat_minor": 1
}
