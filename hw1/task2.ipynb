{
 "cells": [
  {
   "cell_type": "markdown",
   "metadata": {},
   "source": [
    "# Task 2"
   ]
  },
  {
   "cell_type": "markdown",
   "metadata": {},
   "source": [
    "### Transaction Definition: (板橋測站的溫度, 板橋測站的濕度, 板橋測站的風速, 北區用電量) for each hour"
   ]
  },
  {
   "cell_type": "markdown",
   "metadata": {},
   "source": [
    "由於溫度、濕度、風速都會影響人的舒適度，而人舒適與否又會影響用電量（覺得悶熱便開冷氣等），故設計這項分析。  \n",
    "Run the following query, store the results in TSV format.  \n",
    "Note: Round `DATETIME` towards its nearest hour. (e.g. 2017/10/16 14:37:52 -> 2017/10/16 15:00:00)"
   ]
  },
  {
   "cell_type": "markdown",
   "metadata": {
    "collapsed": true
   },
   "source": [
    "```sql\n",
    "SELECT DATE_FORMAT(DATE_ADD(Power.updateTime, INTERVAL 30 MINUTE), '%Y-%m-%d %H:00:00') AS time,\n",
    "       逐時觀測.溫度,\n",
    "       逐時觀測.相對濕度,\n",
    "       逐時觀測.風速,\n",
    "       Power.northUsage\n",
    "FROM Power\n",
    "INNER JOIN 逐時觀測\n",
    "ON DATE_FORMAT(DATE_ADD(Power.updateTime, INTERVAL 30 MINUTE), '%Y-%m-%d %H:00:00')\n",
    "   = DATE_FORMAT(DATE_ADD(逐時觀測.時間, INTERVAL 30 MINUTE), '%Y-%m-%d %H:00:00')\n",
    "WHERE 逐時觀測.測站 = 'BANQIAO,板橋'\n",
    "```"
   ]
  },
  {
   "cell_type": "markdown",
   "metadata": {},
   "source": [
    "### Discretization: 溫度以五度為一單位，濕度以五百分點為一單位，風速逕取整數，用電量以五十萬瓩為一單位"
   ]
  },
  {
   "cell_type": "markdown",
   "metadata": {},
   "source": [
    "將用電量加上 10000，風速減去 10000，濕度取其相反數，以便區分彼此。  \n",
    "Note: 實際上不會剛好是「四捨五入」，因為浮點數在電腦裡是用二進制來儲存的，不過這並不影響結果。"
   ]
  },
  {
   "cell_type": "code",
   "execution_count": 10,
   "metadata": {},
   "outputs": [],
   "source": [
    "dataset = []\n",
    "with open('task2.tsv') as file:\n",
    "    for line in file:\n",
    "        fields = line.split('\\t')\n",
    "        assert len(fields) == 5\n",
    "        t = int(round(float(fields[1]))) // 5\n",
    "        h = int(round(float(fields[2]))) // -5\n",
    "        s = int(round(float(fields[3]))) - 10000\n",
    "        p = int(round(float(fields[4]), -1)) // 50 + 10000\n",
    "        dataset.append([t, h, s, p])"
   ]
  },
  {
   "cell_type": "code",
   "execution_count": 11,
   "metadata": {},
   "outputs": [
    {
     "data": {
      "text/plain": [
       "4636"
      ]
     },
     "execution_count": 11,
     "metadata": {},
     "output_type": "execute_result"
    }
   ],
   "source": [
    "len(dataset)"
   ]
  },
  {
   "cell_type": "code",
   "execution_count": 12,
   "metadata": {},
   "outputs": [
    {
     "name": "stdout",
     "output_type": "stream",
     "text": [
      "[[5, -16, -9988, 10016], [5, -17, -9986, 10016], [5, -17, -9983, 10015], [5, -16, -9988, 10015], [5, -17, -9990, 10015], [5, -17, -9989, 10015], [5, -16, -9992, 10016], [5, -17, -9993, 10016], [5, -15, -9993, 10016], [5, -14, -9993, 10016]]\n"
     ]
    }
   ],
   "source": [
    "print(dataset[0:10])"
   ]
  },
  {
   "cell_type": "markdown",
   "metadata": {},
   "source": [
    "### Algorithm: FP-Growth"
   ]
  },
  {
   "cell_type": "markdown",
   "metadata": {},
   "source": [
    "Use Orange3-Associate by Bioinformatics Laboratory, FRI UL.  \n",
    "Ref: http://orange3-associate.readthedocs.org/"
   ]
  },
  {
   "cell_type": "code",
   "execution_count": 13,
   "metadata": {
    "collapsed": true
   },
   "outputs": [],
   "source": [
    "from orangecontrib.associate.fpgrowth import *\n",
    "itemsets = dict(frequent_itemsets(dataset, 0.01))"
   ]
  },
  {
   "cell_type": "code",
   "execution_count": 14,
   "metadata": {},
   "outputs": [
    {
     "data": {
      "text/plain": [
       "290"
      ]
     },
     "execution_count": 14,
     "metadata": {},
     "output_type": "execute_result"
    }
   ],
   "source": [
    "len(itemsets)"
   ]
  },
  {
   "cell_type": "code",
   "execution_count": 15,
   "metadata": {
    "collapsed": true
   },
   "outputs": [],
   "source": [
    "rules = association_rules(itemsets, 0.7)"
   ]
  },
  {
   "cell_type": "markdown",
   "metadata": {},
   "source": [
    "### Rules Discovered: 8 in total"
   ]
  },
  {
   "cell_type": "markdown",
   "metadata": {},
   "source": [
    "minimum support = 0.01, minimum confidence = 0.7  \n",
    "Cannot find any rules. Need coarser granularity."
   ]
  },
  {
   "cell_type": "code",
   "execution_count": 16,
   "metadata": {},
   "outputs": [
    {
     "name": "stdout",
     "output_type": "stream",
     "text": [
      "frozenset({-10000, 10014}) -> frozenset({4}) supp = 71 conf = 0.8068181818181818\n",
      "frozenset({10014, -17}) -> frozenset({4}) supp = 58 conf = 0.7160493827160493\n",
      "frozenset({-15, 10020}) -> frozenset({4}) supp = 79 conf = 0.7053571428571429\n",
      "frozenset({-15, 10022}) -> frozenset({5}) supp = 49 conf = 0.9074074074074074\n",
      "frozenset({10022}) -> frozenset({5}) supp = 168 conf = 0.7148936170212766\n",
      "frozenset({10025}) -> frozenset({6}) supp = 96 conf = 0.8888888888888888\n",
      "frozenset({-19}) -> frozenset({4}) supp = 72 conf = 0.7272727272727273\n",
      "frozenset({10026}) -> frozenset({6}) supp = 53 conf = 0.828125\n"
     ]
    }
   ],
   "source": [
    "for antecedent, consequent, support, confidence in rules:\n",
    "    print(antecedent, '->', consequent, 'supp =', support, 'conf =', confidence)"
   ]
  },
  {
   "cell_type": "markdown",
   "metadata": {},
   "source": [
    "### Discretization: 溫度四捨五入至個位，以五度為一單位，用電量四捨五入至十位，以五十萬瓩為一單位"
   ]
  },
  {
   "cell_type": "code",
   "execution_count": 8,
   "metadata": {
    "collapsed": true
   },
   "outputs": [],
   "source": [
    "with open('task1.apriori', 'w') as dataset:\n",
    "    with open('task1.tsv') as file:\n",
    "        for line in file:\n",
    "            fields = line.split('\\t')\n",
    "            assert len(fields) == 3\n",
    "            t = int(round(float(fields[1])))\n",
    "            p = int(round(float(fields[2]), -1)) + 10000\n",
    "            dataset.write(str(t // 5) + ',' + str(p // 50) + '\\n')"
   ]
  },
  {
   "cell_type": "markdown",
   "metadata": {},
   "source": [
    "### Algorithm: Apriori"
   ]
  },
  {
   "cell_type": "markdown",
   "metadata": {},
   "source": [
    "Use the Python Implementation of Apriori Algorithm by Abhinav Saini.  \n",
    "Ref: https://github.com/asaini/Apriori"
   ]
  },
  {
   "cell_type": "code",
   "execution_count": 10,
   "metadata": {},
   "outputs": [
    {
     "name": "stdout",
     "output_type": "stream",
     "text": [
      "item: ('212', '4') , 0.011\r\n",
      "item: ('3', '218') , 0.011\r\n",
      "item: ('3', '212') , 0.011\r\n",
      "item: ('226', '6') , 0.011\r\n",
      "item: ('217', '3') , 0.012\r\n",
      "item: ('216', '3') , 0.012\r\n",
      "item: ('214', '5') , 0.012\r\n",
      "item: ('224', '5') , 0.013\r\n",
      "item: ('226',) , 0.014\r\n",
      "item: ('3', '215') , 0.014\r\n",
      "item: ('223', '6') , 0.014\r\n",
      "item: ('4', '221') , 0.018\r\n",
      "item: ('3', '214') , 0.019\r\n",
      "item: ('225', '6') , 0.021\r\n",
      "item: ('223', '5') , 0.022\r\n",
      "item: ('224', '6') , 0.023\r\n",
      "item: ('225',) , 0.023\r\n",
      "item: ('212',) , 0.026\r\n",
      "item: ('3', '219') , 0.027\r\n",
      "item: ('5', '220') , 0.027\r\n",
      "item: ('3', '213') , 0.029\r\n",
      "item: ('4', '218') , 0.029\r\n",
      "item: ('5', '219') , 0.030\r\n",
      "item: ('5', '218') , 0.031\r\n",
      "item: ('2',) , 0.034\r\n",
      "item: ('215', '5') , 0.034\r\n",
      "item: ('224',) , 0.036\r\n",
      "item: ('5', '222') , 0.036\r\n",
      "item: ('217', '5') , 0.036\r\n",
      "item: ('5', '221') , 0.037\r\n",
      "item: ('223',) , 0.038\r\n",
      "item: ('216', '4') , 0.038\r\n",
      "item: ('217', '4') , 0.039\r\n",
      "item: ('4', '219') , 0.042\r\n",
      "item: ('216', '5') , 0.042\r\n",
      "item: ('215', '4') , 0.045\r\n",
      "item: ('213', '4') , 0.047\r\n",
      "item: ('4', '220') , 0.048\r\n",
      "item: ('222',) , 0.051\r\n",
      "item: ('214', '4') , 0.054\r\n",
      "item: ('221',) , 0.064\r\n",
      "item: ('218',) , 0.078\r\n",
      "item: ('213',) , 0.086\r\n",
      "item: ('220',) , 0.090\r\n",
      "item: ('214',) , 0.091\r\n",
      "item: ('217',) , 0.096\r\n",
      "item: ('215',) , 0.097\r\n",
      "item: ('216',) , 0.097\r\n",
      "item: ('219',) , 0.109\r\n",
      "item: ('6',) , 0.110\r\n",
      "item: ('3',) , 0.145\r\n",
      "item: ('5',) , 0.329\r\n",
      "item: ('4',) , 0.380\r\n",
      "\r\n",
      "------------------------ RULES:\r\n",
      "Rule: ('214',) ==> ('4',) , 0.600\r\n",
      "Rule: ('224',) ==> ('6',) , 0.636\r\n",
      "Rule: ('222',) ==> ('5',) , 0.715\r\n",
      "Rule: ('226',) ==> ('6',) , 0.828\r\n",
      "Rule: ('225',) ==> ('6',) , 0.889\r\n"
     ]
    }
   ],
   "source": [
    "!python2 apriori.py -f task1.apriori -s 0.01 -c 0.6"
   ]
  },
  {
   "cell_type": "markdown",
   "metadata": {},
   "source": [
    "### Rules Discovered: 5 in total"
   ]
  },
  {
   "cell_type": "markdown",
   "metadata": {},
   "source": [
    "minimum support = 0.01, minimum confidence = 0.6  \n",
    "發現用電量為 1250～1350 萬瓩時，溫度為 30～35 度，此規則的可信度超過 80％。"
   ]
  },
  {
   "cell_type": "code",
   "execution_count": 12,
   "metadata": {},
   "outputs": [
    {
     "name": "stdout",
     "output_type": "stream",
     "text": [
      "700 -> 20 conf = 0.6\n",
      "1200 -> 30 conf = 0.636\n",
      "1100 -> 25 conf = 0.715\n",
      "1300 -> 30 conf = 0.828\n",
      "1250 -> 30 conf = 0.889\n"
     ]
    }
   ],
   "source": [
    "rules = []\n",
    "rules.append((214, 4, 0.600))\n",
    "rules.append((224, 6, 0.636))\n",
    "rules.append((222, 5, 0.715))\n",
    "rules.append((226, 6, 0.828))\n",
    "rules.append((225, 6, 0.889))\n",
    "for antecedent, consequent, confidence in rules:\n",
    "    print(antecedent * 50 - 10000, '->', consequent * 5, 'conf =', confidence)"
   ]
  },
  {
   "cell_type": "markdown",
   "metadata": {},
   "source": [
    "### What I Have Learned"
   ]
  },
  {
   "cell_type": "markdown",
   "metadata": {},
   "source": [
    "When transforming continuous values into discrete values, fine granularity may not be a good idea."
   ]
  },
  {
   "cell_type": "code",
   "execution_count": null,
   "metadata": {
    "collapsed": true
   },
   "outputs": [],
   "source": []
  }
 ],
 "metadata": {
  "kernelspec": {
   "display_name": "Python 3",
   "language": "python",
   "name": "python3"
  },
  "language_info": {
   "codemirror_mode": {
    "name": "ipython",
    "version": 3
   },
   "file_extension": ".py",
   "mimetype": "text/x-python",
   "name": "python",
   "nbconvert_exporter": "python",
   "pygments_lexer": "ipython3",
   "version": "3.6.3"
  }
 },
 "nbformat": 4,
 "nbformat_minor": 1
}
