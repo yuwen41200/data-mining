{
 "cells": [
  {
   "cell_type": "markdown",
   "metadata": {},
   "source": [
    "# Homework 3: Classification, Regression, and Other Prediction Models"
   ]
  },
  {
   "cell_type": "markdown",
   "metadata": {},
   "source": [
    "Before starting, review past homeworks to find out mistakes I've made in previous practices."
   ]
  },
  {
   "cell_type": "markdown",
   "metadata": {},
   "source": [
    "### HW0 Data Preprocessing - Review\n",
    "\n",
    "+ Issues in data preprocessing / data cleaning\n",
    "  + discard outliers (temperature dataset has unreasonable values like -99.5)\n",
    "  + ignore, impute or interpolate missing values (taipower dataset lacks data from Jan. to Apr.)\n",
    "  + align records with n o'clock sharp (make sure there is one and only one record for each hour in both datasets)\n",
    "+ Flatten JSON to DataFrame: `pandas.io.json.json_normalize()`\n",
    "+ Write DataFrame to database: `pandas.DataFrame.to_sql()`\n",
    "+ Calculate Euclidean distance: `numpy.linalg.norm(X - Y)`\n",
    "+ Other useful functions: `scipy.signal.filtfilt()` for smoothing (noise reduction)\n",
    "+ Useful programming skills: `f\"Hello, my name is {name}.\"`\n",
    "\n",
    "### HW1 Association Rules - Review\n",
    "\n",
    "+ Three discretization methods\n",
    "  + equal width (`pandas.cut()`)\n",
    "  + equal frequency (`pandas.qcut()`)\n",
    "  + clustering (e.g. k-means)\n",
    "+ Investigate DataFrame: `head()`, `describe()`, `corr()`\n",
    "+ Plot DataFrame\n",
    "  + `df.A.plot(secondary_y=True, label='name', legend=True)` to add another y-axis\n",
    "  + `df.A.plot.hist(edgecolor='k')` for histograms\n",
    "+ We can also discretize multidimensional data.\n",
    "\n",
    "### HW2 Clustering - Review\n",
    "\n",
    "+ Use elbow method or silhouette value to determine k.\n",
    "+ For multidimensional data, normalizing data in advance may produce better results.\n",
    "+ For high-dimensional data, use principal component analysis (PCA) to reduce dimensions.\n",
    "+ The clustering result of taipower data in `temporal-clustering.ipynb` also shows a periodic pattern.\n",
    "  + The electricity consumption on weekends tends to belong to a different cluster."
   ]
  },
  {
   "cell_type": "markdown",
   "metadata": {},
   "source": [
    "## Task 1"
   ]
  },
  {
   "cell_type": "markdown",
   "metadata": {},
   "source": [
    "Round DATETIME towards its nearest hour. (e.g. 2017/10/16 14:37:52 -> 2017/10/16 15:00:00)"
   ]
  },
  {
   "cell_type": "markdown",
   "metadata": {},
   "source": [
    "```sql\n",
    "UPDATE 逐時觀測\n",
    "SET 逐時觀測.時間 = DATE_FORMAT(\n",
    "  DATE_ADD(逐時觀測.時間, INTERVAL 30 MINUTE),\n",
    "  '%Y-%m-%d %H:00:00'\n",
    ")\n",
    "```"
   ]
  },
  {
   "cell_type": "markdown",
   "metadata": {},
   "source": [
    "```sql\n",
    "UPDATE Power\n",
    "SET Power.updateTime = DATE_FORMAT(\n",
    "  DATE_ADD(Power.updateTime, INTERVAL 30 MINUTE),\n",
    "  '%Y-%m-%d %H:00:00'\n",
    ")\n",
    "```"
   ]
  },
  {
   "cell_type": "markdown",
   "metadata": {},
   "source": [
    "A naive way to generate dataset."
   ]
  },
  {
   "cell_type": "markdown",
   "metadata": {},
   "source": [
    "```sql\n",
    "DROP PROCEDURE IF EXISTS dm.generate_dataset;\n",
    "DELIMITER //\n",
    "CREATE PROCEDURE dm.generate_dataset(from_time DATETIME, to_time DATETIME)\n",
    "BEGIN\n",
    "  DECLARE it INT;\n",
    "  DECLARE temp DOUBLE;\n",
    "  DECLARE output TEXT;\n",
    "  DECLARE curr_time DATETIME;\n",
    "  WHILE from_time <= to_time DO\n",
    "    SET it = 0;\n",
    "    SET output = '';\n",
    "    SET curr_time = from_time;\n",
    "    generate_record: WHILE it < 102 DO\n",
    "      SET temp = NULL;\n",
    "      IF it < 96 THEN\n",
    "        SELECT 逐時觀測.溫度 INTO temp FROM 逐時觀測\n",
    "          WHERE (逐時觀測.時間 = curr_time) AND (逐時觀測.測站 = 'BANQIAO,板橋')\n",
    "          LIMIT 1;\n",
    "      ELSE\n",
    "        SELECT Power.northUsage INTO temp FROM Power\n",
    "          WHERE (Power.updateTime = curr_time)\n",
    "          LIMIT 1;\n",
    "      END IF;\n",
    "      IF temp IS NULL THEN\n",
    "        SET output = '';\n",
    "        LEAVE generate_record;\n",
    "      END IF;\n",
    "      SET it = it + 1;\n",
    "      SET output = CONCAT(output, ',', CAST(temp AS CHAR));\n",
    "      SET curr_time = DATE_ADD(curr_time, INTERVAL 1 HOUR);\n",
    "    END WHILE;\n",
    "    IF output <> '' THEN\n",
    "      INSERT INTO Records VALUES (output);\n",
    "    END IF;\n",
    "    SET from_time = DATE_ADD(from_time, INTERVAL 1 HOUR);\n",
    "  END WHILE;\n",
    "END//\n",
    "DELIMITER ;\n",
    "SET @from_time = CAST('2016-07-03 01:00:00' AS DATETIME);\n",
    "SET @to_time = CAST('2017-07-04 00:00:00' AS DATETIME);\n",
    "CALL generate_dataset(@from_time, @to_time);\n",
    "```"
   ]
  },
  {
   "cell_type": "markdown",
   "metadata": {},
   "source": [
    "This is very inefficient because there are too many queries. Try a better approach."
   ]
  },
  {
   "cell_type": "markdown",
   "metadata": {},
   "source": [
    "First, find duplicate record times."
   ]
  },
  {
   "cell_type": "markdown",
   "metadata": {},
   "source": [
    "```sql\n",
    "SELECT 逐時觀測.時間\n",
    "FROM 逐時觀測\n",
    "WHERE 逐時觀測.測站 = 'BANQIAO,板橋'\n",
    "GROUP BY 逐時觀測.時間\n",
    "HAVING COUNT(*) > 1\n",
    "```"
   ]
  },
  {
   "cell_type": "markdown",
   "metadata": {},
   "source": [
    "0 rows retrieved."
   ]
  },
  {
   "cell_type": "markdown",
   "metadata": {},
   "source": [
    "```sql\n",
    "SELECT Power.updateTime, COUNT(*) AS cnt\n",
    "FROM Power\n",
    "GROUP BY Power.updateTime\n",
    "HAVING cnt > 1\n",
    "```"
   ]
  },
  {
   "cell_type": "markdown",
   "metadata": {},
   "source": [
    "updateTime | cnt\n",
    "--- | ---\n",
    "2016-10-17 00:00:00 | 2\n",
    "2017-05-20 08:00:00 | 3\n",
    "2017-05-20 13:00:00 | 2\n",
    "2017-05-30 22:00:00 | 2\n",
    "2017-07-19 09:00:00 | 2\n",
    "2017-07-24 01:00:00 | 2\n",
    "2017-07-24 13:00:00 | 2\n",
    "2017-08-21 20:00:00 | 2\n",
    "2017-08-21 21:00:00 | 2"
   ]
  },
  {
   "cell_type": "markdown",
   "metadata": {},
   "source": [
    "Remove them using the following query."
   ]
  },
  {
   "cell_type": "markdown",
   "metadata": {},
   "source": [
    "```sql\n",
    "-- run 10 times\n",
    "DELETE FROM Power\n",
    "WHERE Power.updateTime IN (\n",
    "  SELECT A.updateTime\n",
    "  FROM (SELECT * FROM Power) AS A\n",
    "  GROUP BY A.updateTime\n",
    "  HAVING COUNT(*) > 1\n",
    ") LIMIT 1\n",
    "```"
   ]
  },
  {
   "cell_type": "markdown",
   "metadata": {},
   "source": [
    "Store each record (96 history data and 6 prediction data) in one CSV file.  \n",
    "Ignore the whole record if it contains missing data."
   ]
  },
  {
   "cell_type": "markdown",
   "metadata": {},
   "source": [
    "```sql\n",
    "DROP PROCEDURE IF EXISTS dm.generate_dataset;\n",
    "DELIMITER //\n",
    "CREATE PROCEDURE dm.generate_dataset(from_time DATETIME, to_time DATETIME)\n",
    "BEGIN\n",
    "  DECLARE curr_time DATETIME DEFAULT from_time;\n",
    "  SET @path = '/Users/ywpu/Repositories/data-mining/hw3/';\n",
    "  generate_record: WHILE curr_time <= to_time DO\n",
    "    SET @cnt1 = (\n",
    "      SELECT COUNT(逐時觀測.溫度) FROM 逐時觀測\n",
    "        WHERE (逐時觀測.時間 >= curr_time)\n",
    "        AND (逐時觀測.時間 < DATE_ADD(curr_time, INTERVAL 4 DAY))\n",
    "        AND (逐時觀測.測站 = 'BANQIAO,板橋')\n",
    "    );\n",
    "    SET @cnt2 = (\n",
    "      SELECT COUNT(Power.northUsage) FROM Power\n",
    "        WHERE (Power.updateTime >= DATE_ADD(curr_time, INTERVAL 4 DAY))\n",
    "        AND (Power.updateTime < DATE_ADD(curr_time, INTERVAL '4 6' DAY_HOUR))\n",
    "    );\n",
    "    IF @cnt1 <> 96 OR @cnt2 <> 6 THEN\n",
    "      SET curr_time = DATE_ADD(curr_time, INTERVAL 1 HOUR);\n",
    "      ITERATE generate_record;\n",
    "    END IF;\n",
    "    SET @filename = CONCAT(@path, CAST(curr_time AS CHAR), '.csv');\n",
    "    SET @query_string = CONCAT(\n",
    "      \"SELECT A.Y INTO OUTFILE '\", @filename, \"'\n",
    "        FIELDS TERMINATED BY ',' LINES TERMINATED BY '\\n'\n",
    "      FROM (\n",
    "        (\n",
    "          SELECT 逐時觀測.時間 AS X, 逐時觀測.溫度 AS Y FROM 逐時觀測\n",
    "          WHERE (逐時觀測.時間 >= ?)\n",
    "          AND (逐時觀測.時間 < DATE_ADD(?, INTERVAL 4 DAY))\n",
    "          AND (逐時觀測.測站 = 'BANQIAO,板橋')\n",
    "        ) UNION ALL (\n",
    "          SELECT Power.updateTime AS X, Power.northUsage AS Y FROM Power\n",
    "          WHERE (Power.updateTime >= DATE_ADD(?, INTERVAL 4 DAY))\n",
    "          AND (Power.updateTime < DATE_ADD(?, INTERVAL '4 6' DAY_HOUR))\n",
    "        ) ORDER BY X ASC\n",
    "      ) A\"\n",
    "    );\n",
    "    PREPARE stmt FROM @query_string;\n",
    "    EXECUTE stmt USING curr_time, curr_time, curr_time, curr_time;\n",
    "    DEALLOCATE PREPARE stmt;\n",
    "    SET curr_time = DATE_ADD(curr_time, INTERVAL 1 HOUR);\n",
    "  END WHILE;\n",
    "END//\n",
    "DELIMITER ;\n",
    "SET @from_time = CAST('2016-07-03 01:00:00' AS DATETIME);\n",
    "SET @to_time = CAST('2017-07-04 00:00:00' AS DATETIME);\n",
    "CALL generate_dataset(@from_time, @to_time);\n",
    "```"
   ]
  },
  {
   "cell_type": "markdown",
   "metadata": {},
   "source": [
    "Combine all records into `dataset.csv`."
   ]
  },
  {
   "cell_type": "code",
   "execution_count": 3,
   "metadata": {},
   "outputs": [],
   "source": [
    "import os\n",
    "with open('dataset.csv', 'w') as target:\n",
    "    entries = sorted(os.listdir())\n",
    "    for entry in entries:\n",
    "        if entry.endswith('.csv') and entry.startswith('201'):\n",
    "            with open(entry) as file:\n",
    "                cols = file.readlines()\n",
    "            cols = [col.strip() for col in cols]\n",
    "            row = ','.join(cols) + '\\n'\n",
    "            target.write(row)"
   ]
  },
  {
   "cell_type": "markdown",
   "metadata": {},
   "source": [
    "Load `dataset.csv` into DataFrame."
   ]
  },
  {
   "cell_type": "code",
   "execution_count": 4,
   "metadata": {},
   "outputs": [],
   "source": [
    "import numpy as np\n",
    "import pandas as pd\n",
    "dataset = pd.read_csv('dataset.csv', names=list(range(0, 102)), dtype=np.float64)"
   ]
  },
  {
   "cell_type": "code",
   "execution_count": 6,
   "metadata": {},
   "outputs": [
    {
     "data": {
      "text/plain": [
       "(4568, 102)"
      ]
     },
     "execution_count": 6,
     "metadata": {},
     "output_type": "execute_result"
    }
   ],
   "source": [
    "dataset.shape"
   ]
  },
  {
   "cell_type": "code",
   "execution_count": 7,
   "metadata": {},
   "outputs": [
    {
     "data": {
      "text/html": [
       "<div>\n",
       "<style scoped>\n",
       "    .dataframe tbody tr th:only-of-type {\n",
       "        vertical-align: middle;\n",
       "    }\n",
       "\n",
       "    .dataframe tbody tr th {\n",
       "        vertical-align: top;\n",
       "    }\n",
       "\n",
       "    .dataframe thead th {\n",
       "        text-align: right;\n",
       "    }\n",
       "</style>\n",
       "<table border=\"1\" class=\"dataframe\">\n",
       "  <thead>\n",
       "    <tr style=\"text-align: right;\">\n",
       "      <th></th>\n",
       "      <th>0</th>\n",
       "      <th>1</th>\n",
       "      <th>2</th>\n",
       "      <th>3</th>\n",
       "      <th>4</th>\n",
       "      <th>5</th>\n",
       "      <th>6</th>\n",
       "      <th>7</th>\n",
       "      <th>8</th>\n",
       "      <th>9</th>\n",
       "      <th>...</th>\n",
       "      <th>92</th>\n",
       "      <th>93</th>\n",
       "      <th>94</th>\n",
       "      <th>95</th>\n",
       "      <th>96</th>\n",
       "      <th>97</th>\n",
       "      <th>98</th>\n",
       "      <th>99</th>\n",
       "      <th>100</th>\n",
       "      <th>101</th>\n",
       "    </tr>\n",
       "  </thead>\n",
       "  <tbody>\n",
       "    <tr>\n",
       "      <th>0</th>\n",
       "      <td>27.6</td>\n",
       "      <td>28.4</td>\n",
       "      <td>29.4</td>\n",
       "      <td>29.7</td>\n",
       "      <td>28.3</td>\n",
       "      <td>27.1</td>\n",
       "      <td>26.3</td>\n",
       "      <td>25.9</td>\n",
       "      <td>25.6</td>\n",
       "      <td>25.6</td>\n",
       "      <td>...</td>\n",
       "      <td>27.3</td>\n",
       "      <td>27.4</td>\n",
       "      <td>27.4</td>\n",
       "      <td>27.7</td>\n",
       "      <td>841.3</td>\n",
       "      <td>826.4</td>\n",
       "      <td>789.5</td>\n",
       "      <td>773.6</td>\n",
       "      <td>778.0</td>\n",
       "      <td>783.1</td>\n",
       "    </tr>\n",
       "    <tr>\n",
       "      <th>1</th>\n",
       "      <td>28.4</td>\n",
       "      <td>29.4</td>\n",
       "      <td>29.7</td>\n",
       "      <td>28.3</td>\n",
       "      <td>27.1</td>\n",
       "      <td>26.3</td>\n",
       "      <td>25.9</td>\n",
       "      <td>25.6</td>\n",
       "      <td>25.6</td>\n",
       "      <td>25.4</td>\n",
       "      <td>...</td>\n",
       "      <td>27.4</td>\n",
       "      <td>27.4</td>\n",
       "      <td>27.7</td>\n",
       "      <td>26.6</td>\n",
       "      <td>826.4</td>\n",
       "      <td>789.5</td>\n",
       "      <td>773.6</td>\n",
       "      <td>778.0</td>\n",
       "      <td>783.1</td>\n",
       "      <td>814.3</td>\n",
       "    </tr>\n",
       "    <tr>\n",
       "      <th>2</th>\n",
       "      <td>29.4</td>\n",
       "      <td>29.7</td>\n",
       "      <td>28.3</td>\n",
       "      <td>27.1</td>\n",
       "      <td>26.3</td>\n",
       "      <td>25.9</td>\n",
       "      <td>25.6</td>\n",
       "      <td>25.6</td>\n",
       "      <td>25.4</td>\n",
       "      <td>25.3</td>\n",
       "      <td>...</td>\n",
       "      <td>27.4</td>\n",
       "      <td>27.7</td>\n",
       "      <td>26.6</td>\n",
       "      <td>26.0</td>\n",
       "      <td>789.5</td>\n",
       "      <td>773.6</td>\n",
       "      <td>778.0</td>\n",
       "      <td>783.1</td>\n",
       "      <td>814.3</td>\n",
       "      <td>812.4</td>\n",
       "    </tr>\n",
       "    <tr>\n",
       "      <th>3</th>\n",
       "      <td>29.7</td>\n",
       "      <td>28.3</td>\n",
       "      <td>27.1</td>\n",
       "      <td>26.3</td>\n",
       "      <td>25.9</td>\n",
       "      <td>25.6</td>\n",
       "      <td>25.6</td>\n",
       "      <td>25.4</td>\n",
       "      <td>25.3</td>\n",
       "      <td>25.3</td>\n",
       "      <td>...</td>\n",
       "      <td>27.7</td>\n",
       "      <td>26.6</td>\n",
       "      <td>26.0</td>\n",
       "      <td>25.9</td>\n",
       "      <td>773.6</td>\n",
       "      <td>778.0</td>\n",
       "      <td>783.1</td>\n",
       "      <td>814.3</td>\n",
       "      <td>812.4</td>\n",
       "      <td>809.0</td>\n",
       "    </tr>\n",
       "    <tr>\n",
       "      <th>4</th>\n",
       "      <td>28.3</td>\n",
       "      <td>27.1</td>\n",
       "      <td>26.3</td>\n",
       "      <td>25.9</td>\n",
       "      <td>25.6</td>\n",
       "      <td>25.6</td>\n",
       "      <td>25.4</td>\n",
       "      <td>25.3</td>\n",
       "      <td>25.3</td>\n",
       "      <td>25.3</td>\n",
       "      <td>...</td>\n",
       "      <td>26.6</td>\n",
       "      <td>26.0</td>\n",
       "      <td>25.9</td>\n",
       "      <td>25.8</td>\n",
       "      <td>778.0</td>\n",
       "      <td>783.1</td>\n",
       "      <td>814.3</td>\n",
       "      <td>812.4</td>\n",
       "      <td>809.0</td>\n",
       "      <td>796.6</td>\n",
       "    </tr>\n",
       "  </tbody>\n",
       "</table>\n",
       "<p>5 rows × 102 columns</p>\n",
       "</div>"
      ],
      "text/plain": [
       "    0     1     2     3     4     5     6     7     8     9    ...     92   \\\n",
       "0  27.6  28.4  29.4  29.7  28.3  27.1  26.3  25.9  25.6  25.6  ...    27.3   \n",
       "1  28.4  29.4  29.7  28.3  27.1  26.3  25.9  25.6  25.6  25.4  ...    27.4   \n",
       "2  29.4  29.7  28.3  27.1  26.3  25.9  25.6  25.6  25.4  25.3  ...    27.4   \n",
       "3  29.7  28.3  27.1  26.3  25.9  25.6  25.6  25.4  25.3  25.3  ...    27.7   \n",
       "4  28.3  27.1  26.3  25.9  25.6  25.6  25.4  25.3  25.3  25.3  ...    26.6   \n",
       "\n",
       "    93    94    95     96     97     98     99     100    101  \n",
       "0  27.4  27.4  27.7  841.3  826.4  789.5  773.6  778.0  783.1  \n",
       "1  27.4  27.7  26.6  826.4  789.5  773.6  778.0  783.1  814.3  \n",
       "2  27.7  26.6  26.0  789.5  773.6  778.0  783.1  814.3  812.4  \n",
       "3  26.6  26.0  25.9  773.6  778.0  783.1  814.3  812.4  809.0  \n",
       "4  26.0  25.9  25.8  778.0  783.1  814.3  812.4  809.0  796.6  \n",
       "\n",
       "[5 rows x 102 columns]"
      ]
     },
     "execution_count": 7,
     "metadata": {},
     "output_type": "execute_result"
    }
   ],
   "source": [
    "dataset.head()"
   ]
  },
  {
   "cell_type": "markdown",
   "metadata": {},
   "source": [
    "## Task 2"
   ]
  },
  {
   "cell_type": "markdown",
   "metadata": {},
   "source": [
    "Split dataset randomly using scikit-learn."
   ]
  },
  {
   "cell_type": "code",
   "execution_count": 37,
   "metadata": {},
   "outputs": [],
   "source": [
    "from sklearn.model_selection import train_test_split\n",
    "train, test = train_test_split(dataset, test_size=0.3)"
   ]
  },
  {
   "cell_type": "code",
   "execution_count": 38,
   "metadata": {},
   "outputs": [
    {
     "data": {
      "text/plain": [
       "(3197, 102)"
      ]
     },
     "execution_count": 38,
     "metadata": {},
     "output_type": "execute_result"
    }
   ],
   "source": [
    "train.shape"
   ]
  },
  {
   "cell_type": "code",
   "execution_count": 39,
   "metadata": {},
   "outputs": [
    {
     "data": {
      "text/html": [
       "<div>\n",
       "<style scoped>\n",
       "    .dataframe tbody tr th:only-of-type {\n",
       "        vertical-align: middle;\n",
       "    }\n",
       "\n",
       "    .dataframe tbody tr th {\n",
       "        vertical-align: top;\n",
       "    }\n",
       "\n",
       "    .dataframe thead th {\n",
       "        text-align: right;\n",
       "    }\n",
       "</style>\n",
       "<table border=\"1\" class=\"dataframe\">\n",
       "  <thead>\n",
       "    <tr style=\"text-align: right;\">\n",
       "      <th></th>\n",
       "      <th>0</th>\n",
       "      <th>1</th>\n",
       "      <th>2</th>\n",
       "      <th>3</th>\n",
       "      <th>4</th>\n",
       "      <th>5</th>\n",
       "      <th>6</th>\n",
       "      <th>7</th>\n",
       "      <th>8</th>\n",
       "      <th>9</th>\n",
       "      <th>...</th>\n",
       "      <th>92</th>\n",
       "      <th>93</th>\n",
       "      <th>94</th>\n",
       "      <th>95</th>\n",
       "      <th>96</th>\n",
       "      <th>97</th>\n",
       "      <th>98</th>\n",
       "      <th>99</th>\n",
       "      <th>100</th>\n",
       "      <th>101</th>\n",
       "    </tr>\n",
       "  </thead>\n",
       "  <tbody>\n",
       "    <tr>\n",
       "      <th>459</th>\n",
       "      <td>24.2</td>\n",
       "      <td>24.8</td>\n",
       "      <td>24.7</td>\n",
       "      <td>24.7</td>\n",
       "      <td>24.6</td>\n",
       "      <td>24.4</td>\n",
       "      <td>24.8</td>\n",
       "      <td>25.1</td>\n",
       "      <td>26.1</td>\n",
       "      <td>25.7</td>\n",
       "      <td>...</td>\n",
       "      <td>27.1</td>\n",
       "      <td>27.6</td>\n",
       "      <td>27.4</td>\n",
       "      <td>27.8</td>\n",
       "      <td>791.3</td>\n",
       "      <td>774.6</td>\n",
       "      <td>776.2</td>\n",
       "      <td>786.8</td>\n",
       "      <td>833.2</td>\n",
       "      <td>969.7</td>\n",
       "    </tr>\n",
       "    <tr>\n",
       "      <th>4135</th>\n",
       "      <td>26.0</td>\n",
       "      <td>25.9</td>\n",
       "      <td>25.8</td>\n",
       "      <td>25.6</td>\n",
       "      <td>25.5</td>\n",
       "      <td>25.5</td>\n",
       "      <td>26.3</td>\n",
       "      <td>28.3</td>\n",
       "      <td>29.9</td>\n",
       "      <td>31.6</td>\n",
       "      <td>...</td>\n",
       "      <td>22.7</td>\n",
       "      <td>22.6</td>\n",
       "      <td>22.5</td>\n",
       "      <td>22.6</td>\n",
       "      <td>780.5</td>\n",
       "      <td>761.1</td>\n",
       "      <td>736.5</td>\n",
       "      <td>725.7</td>\n",
       "      <td>727.7</td>\n",
       "      <td>750.1</td>\n",
       "    </tr>\n",
       "    <tr>\n",
       "      <th>842</th>\n",
       "      <td>22.5</td>\n",
       "      <td>22.4</td>\n",
       "      <td>22.7</td>\n",
       "      <td>22.6</td>\n",
       "      <td>22.5</td>\n",
       "      <td>22.8</td>\n",
       "      <td>22.9</td>\n",
       "      <td>22.7</td>\n",
       "      <td>22.8</td>\n",
       "      <td>22.6</td>\n",
       "      <td>...</td>\n",
       "      <td>21.9</td>\n",
       "      <td>21.6</td>\n",
       "      <td>21.5</td>\n",
       "      <td>21.6</td>\n",
       "      <td>1015.7</td>\n",
       "      <td>1016.3</td>\n",
       "      <td>993.8</td>\n",
       "      <td>963.4</td>\n",
       "      <td>936.3</td>\n",
       "      <td>878.5</td>\n",
       "    </tr>\n",
       "    <tr>\n",
       "      <th>3241</th>\n",
       "      <td>27.6</td>\n",
       "      <td>27.2</td>\n",
       "      <td>26.2</td>\n",
       "      <td>25.8</td>\n",
       "      <td>25.3</td>\n",
       "      <td>24.8</td>\n",
       "      <td>24.5</td>\n",
       "      <td>24.3</td>\n",
       "      <td>24.1</td>\n",
       "      <td>24.3</td>\n",
       "      <td>...</td>\n",
       "      <td>29.3</td>\n",
       "      <td>29.0</td>\n",
       "      <td>28.2</td>\n",
       "      <td>27.0</td>\n",
       "      <td>1078.3</td>\n",
       "      <td>1029.6</td>\n",
       "      <td>978.0</td>\n",
       "      <td>929.9</td>\n",
       "      <td>843.7</td>\n",
       "      <td>803.8</td>\n",
       "    </tr>\n",
       "    <tr>\n",
       "      <th>3380</th>\n",
       "      <td>28.2</td>\n",
       "      <td>27.2</td>\n",
       "      <td>26.4</td>\n",
       "      <td>25.9</td>\n",
       "      <td>25.7</td>\n",
       "      <td>25.2</td>\n",
       "      <td>25.2</td>\n",
       "      <td>24.8</td>\n",
       "      <td>24.6</td>\n",
       "      <td>24.7</td>\n",
       "      <td>...</td>\n",
       "      <td>27.4</td>\n",
       "      <td>27.1</td>\n",
       "      <td>26.5</td>\n",
       "      <td>25.9</td>\n",
       "      <td>939.3</td>\n",
       "      <td>910.2</td>\n",
       "      <td>844.0</td>\n",
       "      <td>826.8</td>\n",
       "      <td>751.6</td>\n",
       "      <td>712.2</td>\n",
       "    </tr>\n",
       "  </tbody>\n",
       "</table>\n",
       "<p>5 rows × 102 columns</p>\n",
       "</div>"
      ],
      "text/plain": [
       "       0     1     2     3     4     5     6     7     8     9    ...     92   \\\n",
       "459   24.2  24.8  24.7  24.7  24.6  24.4  24.8  25.1  26.1  25.7  ...    27.1   \n",
       "4135  26.0  25.9  25.8  25.6  25.5  25.5  26.3  28.3  29.9  31.6  ...    22.7   \n",
       "842   22.5  22.4  22.7  22.6  22.5  22.8  22.9  22.7  22.8  22.6  ...    21.9   \n",
       "3241  27.6  27.2  26.2  25.8  25.3  24.8  24.5  24.3  24.1  24.3  ...    29.3   \n",
       "3380  28.2  27.2  26.4  25.9  25.7  25.2  25.2  24.8  24.6  24.7  ...    27.4   \n",
       "\n",
       "       93    94    95      96      97     98     99     100    101  \n",
       "459   27.6  27.4  27.8   791.3   774.6  776.2  786.8  833.2  969.7  \n",
       "4135  22.6  22.5  22.6   780.5   761.1  736.5  725.7  727.7  750.1  \n",
       "842   21.6  21.5  21.6  1015.7  1016.3  993.8  963.4  936.3  878.5  \n",
       "3241  29.0  28.2  27.0  1078.3  1029.6  978.0  929.9  843.7  803.8  \n",
       "3380  27.1  26.5  25.9   939.3   910.2  844.0  826.8  751.6  712.2  \n",
       "\n",
       "[5 rows x 102 columns]"
      ]
     },
     "execution_count": 39,
     "metadata": {},
     "output_type": "execute_result"
    }
   ],
   "source": [
    "train.head()"
   ]
  },
  {
   "cell_type": "code",
   "execution_count": 40,
   "metadata": {},
   "outputs": [
    {
     "data": {
      "text/plain": [
       "(1371, 102)"
      ]
     },
     "execution_count": 40,
     "metadata": {},
     "output_type": "execute_result"
    }
   ],
   "source": [
    "test.shape"
   ]
  },
  {
   "cell_type": "code",
   "execution_count": 41,
   "metadata": {},
   "outputs": [
    {
     "data": {
      "text/html": [
       "<div>\n",
       "<style scoped>\n",
       "    .dataframe tbody tr th:only-of-type {\n",
       "        vertical-align: middle;\n",
       "    }\n",
       "\n",
       "    .dataframe tbody tr th {\n",
       "        vertical-align: top;\n",
       "    }\n",
       "\n",
       "    .dataframe thead th {\n",
       "        text-align: right;\n",
       "    }\n",
       "</style>\n",
       "<table border=\"1\" class=\"dataframe\">\n",
       "  <thead>\n",
       "    <tr style=\"text-align: right;\">\n",
       "      <th></th>\n",
       "      <th>0</th>\n",
       "      <th>1</th>\n",
       "      <th>2</th>\n",
       "      <th>3</th>\n",
       "      <th>4</th>\n",
       "      <th>5</th>\n",
       "      <th>6</th>\n",
       "      <th>7</th>\n",
       "      <th>8</th>\n",
       "      <th>9</th>\n",
       "      <th>...</th>\n",
       "      <th>92</th>\n",
       "      <th>93</th>\n",
       "      <th>94</th>\n",
       "      <th>95</th>\n",
       "      <th>96</th>\n",
       "      <th>97</th>\n",
       "      <th>98</th>\n",
       "      <th>99</th>\n",
       "      <th>100</th>\n",
       "      <th>101</th>\n",
       "    </tr>\n",
       "  </thead>\n",
       "  <tbody>\n",
       "    <tr>\n",
       "      <th>2288</th>\n",
       "      <td>19.3</td>\n",
       "      <td>19.0</td>\n",
       "      <td>18.6</td>\n",
       "      <td>18.8</td>\n",
       "      <td>18.6</td>\n",
       "      <td>18.5</td>\n",
       "      <td>18.6</td>\n",
       "      <td>18.6</td>\n",
       "      <td>18.7</td>\n",
       "      <td>18.7</td>\n",
       "      <td>...</td>\n",
       "      <td>21.0</td>\n",
       "      <td>21.5</td>\n",
       "      <td>21.7</td>\n",
       "      <td>21.0</td>\n",
       "      <td>1014.3</td>\n",
       "      <td>1022.5</td>\n",
       "      <td>1042.4</td>\n",
       "      <td>1018.0</td>\n",
       "      <td>996.4</td>\n",
       "      <td>952.9</td>\n",
       "    </tr>\n",
       "    <tr>\n",
       "      <th>220</th>\n",
       "      <td>24.7</td>\n",
       "      <td>25.6</td>\n",
       "      <td>25.6</td>\n",
       "      <td>26.3</td>\n",
       "      <td>27.0</td>\n",
       "      <td>27.8</td>\n",
       "      <td>28.5</td>\n",
       "      <td>29.2</td>\n",
       "      <td>31.0</td>\n",
       "      <td>31.2</td>\n",
       "      <td>...</td>\n",
       "      <td>24.8</td>\n",
       "      <td>24.7</td>\n",
       "      <td>24.5</td>\n",
       "      <td>24.4</td>\n",
       "      <td>784.5</td>\n",
       "      <td>774.1</td>\n",
       "      <td>766.2</td>\n",
       "      <td>802.5</td>\n",
       "      <td>837.0</td>\n",
       "      <td>917.9</td>\n",
       "    </tr>\n",
       "    <tr>\n",
       "      <th>3414</th>\n",
       "      <td>25.7</td>\n",
       "      <td>26.8</td>\n",
       "      <td>27.8</td>\n",
       "      <td>28.5</td>\n",
       "      <td>29.8</td>\n",
       "      <td>30.1</td>\n",
       "      <td>31.1</td>\n",
       "      <td>29.9</td>\n",
       "      <td>29.9</td>\n",
       "      <td>29.2</td>\n",
       "      <td>...</td>\n",
       "      <td>21.3</td>\n",
       "      <td>21.0</td>\n",
       "      <td>20.8</td>\n",
       "      <td>20.7</td>\n",
       "      <td>794.5</td>\n",
       "      <td>889.6</td>\n",
       "      <td>1028.4</td>\n",
       "      <td>1081.6</td>\n",
       "      <td>1099.9</td>\n",
       "      <td>1042.9</td>\n",
       "    </tr>\n",
       "    <tr>\n",
       "      <th>3830</th>\n",
       "      <td>26.2</td>\n",
       "      <td>25.7</td>\n",
       "      <td>25.7</td>\n",
       "      <td>25.5</td>\n",
       "      <td>25.3</td>\n",
       "      <td>26.0</td>\n",
       "      <td>27.4</td>\n",
       "      <td>28.6</td>\n",
       "      <td>30.4</td>\n",
       "      <td>29.9</td>\n",
       "      <td>...</td>\n",
       "      <td>24.1</td>\n",
       "      <td>24.0</td>\n",
       "      <td>23.9</td>\n",
       "      <td>24.1</td>\n",
       "      <td>791.7</td>\n",
       "      <td>762.3</td>\n",
       "      <td>753.2</td>\n",
       "      <td>749.5</td>\n",
       "      <td>773.0</td>\n",
       "      <td>820.3</td>\n",
       "    </tr>\n",
       "    <tr>\n",
       "      <th>1002</th>\n",
       "      <td>22.5</td>\n",
       "      <td>25.5</td>\n",
       "      <td>27.9</td>\n",
       "      <td>29.0</td>\n",
       "      <td>30.1</td>\n",
       "      <td>29.0</td>\n",
       "      <td>28.6</td>\n",
       "      <td>27.8</td>\n",
       "      <td>27.0</td>\n",
       "      <td>26.3</td>\n",
       "      <td>...</td>\n",
       "      <td>19.5</td>\n",
       "      <td>19.0</td>\n",
       "      <td>18.9</td>\n",
       "      <td>19.0</td>\n",
       "      <td>978.2</td>\n",
       "      <td>913.2</td>\n",
       "      <td>1022.2</td>\n",
       "      <td>1003.2</td>\n",
       "      <td>955.1</td>\n",
       "      <td>1009.9</td>\n",
       "    </tr>\n",
       "  </tbody>\n",
       "</table>\n",
       "<p>5 rows × 102 columns</p>\n",
       "</div>"
      ],
      "text/plain": [
       "       0     1     2     3     4     5     6     7     8     9     ...    \\\n",
       "2288  19.3  19.0  18.6  18.8  18.6  18.5  18.6  18.6  18.7  18.7   ...     \n",
       "220   24.7  25.6  25.6  26.3  27.0  27.8  28.5  29.2  31.0  31.2   ...     \n",
       "3414  25.7  26.8  27.8  28.5  29.8  30.1  31.1  29.9  29.9  29.2   ...     \n",
       "3830  26.2  25.7  25.7  25.5  25.3  26.0  27.4  28.6  30.4  29.9   ...     \n",
       "1002  22.5  25.5  27.9  29.0  30.1  29.0  28.6  27.8  27.0  26.3   ...     \n",
       "\n",
       "       92    93    94    95      96      97      98      99      100     101  \n",
       "2288  21.0  21.5  21.7  21.0  1014.3  1022.5  1042.4  1018.0   996.4   952.9  \n",
       "220   24.8  24.7  24.5  24.4   784.5   774.1   766.2   802.5   837.0   917.9  \n",
       "3414  21.3  21.0  20.8  20.7   794.5   889.6  1028.4  1081.6  1099.9  1042.9  \n",
       "3830  24.1  24.0  23.9  24.1   791.7   762.3   753.2   749.5   773.0   820.3  \n",
       "1002  19.5  19.0  18.9  19.0   978.2   913.2  1022.2  1003.2   955.1  1009.9  \n",
       "\n",
       "[5 rows x 102 columns]"
      ]
     },
     "execution_count": 41,
     "metadata": {},
     "output_type": "execute_result"
    }
   ],
   "source": [
    "test.head()"
   ]
  },
  {
   "cell_type": "markdown",
   "metadata": {},
   "source": [
    "## Task 3"
   ]
  },
  {
   "cell_type": "markdown",
   "metadata": {},
   "source": [
    "Before classification, discretize targets using pandas."
   ]
  },
  {
   "cell_type": "code",
   "execution_count": 61,
   "metadata": {},
   "outputs": [],
   "source": [
    "# call pd.qcut(col, 4, labels=['A', 'B', 'C', 'D']) for each col in col 96 ~ 101\n",
    "discrete = dataset.iloc[:, 96:102].apply(pd.qcut, args=(4,), labels=['A', 'B', 'C', 'D'])"
   ]
  },
  {
   "cell_type": "code",
   "execution_count": 62,
   "metadata": {},
   "outputs": [],
   "source": [
    "train_labels = discrete.loc[train.index, :]\n",
    "test_labels = discrete.loc[test.index, :]"
   ]
  },
  {
   "cell_type": "code",
   "execution_count": 63,
   "metadata": {},
   "outputs": [],
   "source": [
    "train_features = train.iloc[:, 0:96]\n",
    "test_features = test.iloc[:, 0:96]"
   ]
  },
  {
   "cell_type": "code",
   "execution_count": 64,
   "metadata": {},
   "outputs": [
    {
     "data": {
      "text/plain": [
       "KNeighborsClassifier(algorithm='auto', leaf_size=30, metric='minkowski',\n",
       "           metric_params=None, n_jobs=1, n_neighbors=5, p=2,\n",
       "           weights='uniform')"
      ]
     },
     "execution_count": 64,
     "metadata": {},
     "output_type": "execute_result"
    }
   ],
   "source": [
    "from sklearn.neighbors import KNeighborsClassifier\n",
    "neigh = KNeighborsClassifier()\n",
    "neigh.fit(train_features, train_labels)\n",
    "# neigh.score(test_features, test_labels)"
   ]
  },
  {
   "cell_type": "code",
   "execution_count": 65,
   "metadata": {},
   "outputs": [
    {
     "data": {
      "text/plain": [
       "array([['C', 'C', 'C', 'C', 'C', 'C']], dtype=object)"
      ]
     },
     "execution_count": 65,
     "metadata": {},
     "output_type": "execute_result"
    }
   ],
   "source": [
    "neigh.predict([test_features.loc[2288, :]])"
   ]
  },
  {
   "cell_type": "code",
   "execution_count": null,
   "metadata": {},
   "outputs": [],
   "source": []
  }
 ],
 "metadata": {
  "kernelspec": {
   "display_name": "Python 3",
   "language": "python",
   "name": "python3"
  },
  "language_info": {
   "codemirror_mode": {
    "name": "ipython",
    "version": 3
   },
   "file_extension": ".py",
   "mimetype": "text/x-python",
   "name": "python",
   "nbconvert_exporter": "python",
   "pygments_lexer": "ipython3",
   "version": "3.6.3"
  }
 },
 "nbformat": 4,
 "nbformat_minor": 2
}
