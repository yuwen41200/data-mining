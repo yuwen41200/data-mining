{
 "cells": [
  {
   "cell_type": "markdown",
   "metadata": {},
   "source": [
    "# Homework 3: Classification, Regression, and Other Prediction Models"
   ]
  },
  {
   "cell_type": "markdown",
   "metadata": {},
   "source": [
    "Round DATETIME towards its nearest hour. (e.g. 2017/10/16 14:37:52 -> 2017/10/16 15:00:00)"
   ]
  },
  {
   "cell_type": "markdown",
   "metadata": {},
   "source": [
    "```sql\n",
    "UPDATE 逐時觀測\n",
    "SET 逐時觀測.時間 = DATE_FORMAT(\n",
    "  DATE_ADD(逐時觀測.時間, INTERVAL 30 MINUTE),\n",
    "  '%Y-%m-%d %H:00:00'\n",
    ")\n",
    "```"
   ]
  },
  {
   "cell_type": "markdown",
   "metadata": {},
   "source": [
    "```sql\n",
    "UPDATE Power\n",
    "SET Power.updateTime = DATE_FORMAT(\n",
    "  DATE_ADD(Power.updateTime, INTERVAL 30 MINUTE),\n",
    "  '%Y-%m-%d %H:00:00'\n",
    ")\n",
    "```"
   ]
  },
  {
   "cell_type": "markdown",
   "metadata": {},
   "source": [
    "A naive way to generate dataset."
   ]
  },
  {
   "cell_type": "markdown",
   "metadata": {},
   "source": [
    "```sql\n",
    "DROP PROCEDURE IF EXISTS dm.generate_dataset;\n",
    "DELIMITER //\n",
    "CREATE PROCEDURE dm.generate_dataset(from_time DATETIME, to_time DATETIME)\n",
    "BEGIN\n",
    "  DECLARE it INT;\n",
    "  DECLARE temp DOUBLE;\n",
    "  DECLARE output TEXT;\n",
    "  DECLARE curr_time DATETIME;\n",
    "  WHILE from_time <= to_time DO\n",
    "    SET it = 0;\n",
    "    SET output = '';\n",
    "    SET curr_time = from_time;\n",
    "    generate_record: WHILE it < 102 DO\n",
    "      SET temp = NULL;\n",
    "      IF it < 96 THEN\n",
    "        SELECT 逐時觀測.溫度 INTO temp FROM 逐時觀測\n",
    "          WHERE (逐時觀測.時間 = curr_time) AND (逐時觀測.測站 = 'BANQIAO,板橋')\n",
    "          LIMIT 1;\n",
    "      ELSE\n",
    "        SELECT Power.northUsage INTO temp FROM Power\n",
    "          WHERE (Power.updateTime = curr_time)\n",
    "          LIMIT 1;\n",
    "      END IF;\n",
    "      IF temp IS NULL THEN\n",
    "        SET output = '';\n",
    "        LEAVE generate_record;\n",
    "      END IF;\n",
    "      SET it = it + 1;\n",
    "      SET output = CONCAT(output, ',', CAST(temp AS CHAR));\n",
    "      SET curr_time = DATE_ADD(curr_time, INTERVAL 1 HOUR);\n",
    "    END WHILE;\n",
    "    IF output <> '' THEN\n",
    "      INSERT INTO Records VALUES (output);\n",
    "    END IF;\n",
    "    SET from_time = DATE_ADD(from_time, INTERVAL 1 HOUR);\n",
    "  END WHILE;\n",
    "END//\n",
    "DELIMITER ;\n",
    "SET @from_time = CAST('2016-07-03 01:00:00' AS DATETIME);\n",
    "SET @to_time = CAST('2017-07-04 00:00:00' AS DATETIME);\n",
    "CALL generate_dataset(@from_time, @to_time);\n",
    "```"
   ]
  },
  {
   "cell_type": "markdown",
   "metadata": {},
   "source": [
    "This is very inefficient because there are too many queries. Try a better approach."
   ]
  },
  {
   "cell_type": "markdown",
   "metadata": {},
   "source": [
    "First, find duplicate record times."
   ]
  },
  {
   "cell_type": "markdown",
   "metadata": {},
   "source": [
    "```sql\n",
    "SELECT 逐時觀測.時間\n",
    "FROM 逐時觀測\n",
    "WHERE 逐時觀測.測站 = 'BANQIAO,板橋'\n",
    "GROUP BY 逐時觀測.時間\n",
    "HAVING COUNT(*) > 1\n",
    "```"
   ]
  },
  {
   "cell_type": "markdown",
   "metadata": {},
   "source": [
    "0 rows retrieved."
   ]
  },
  {
   "cell_type": "markdown",
   "metadata": {},
   "source": [
    "```sql\n",
    "SELECT Power.updateTime, COUNT(*) AS cnt\n",
    "FROM Power\n",
    "GROUP BY Power.updateTime\n",
    "HAVING cnt > 1\n",
    "```"
   ]
  },
  {
   "cell_type": "markdown",
   "metadata": {},
   "source": [
    "updateTime | cnt\n",
    "--- | ---\n",
    "2016-10-17 00:00:00 | 2\n",
    "2017-05-20 08:00:00 | 3\n",
    "2017-05-20 13:00:00 | 2\n",
    "2017-05-30 22:00:00 | 2\n",
    "2017-07-19 09:00:00 | 2\n",
    "2017-07-24 01:00:00 | 2\n",
    "2017-07-24 13:00:00 | 2\n",
    "2017-08-21 20:00:00 | 2\n",
    "2017-08-21 21:00:00 | 2"
   ]
  },
  {
   "cell_type": "markdown",
   "metadata": {},
   "source": [
    "Remove them using the following query."
   ]
  },
  {
   "cell_type": "markdown",
   "metadata": {},
   "source": [
    "```sql\n",
    "-- run 10 times\n",
    "DELETE FROM Power\n",
    "WHERE Power.updateTime IN (\n",
    "  SELECT A.updateTime\n",
    "  FROM (SELECT * FROM Power) AS A\n",
    "  GROUP BY A.updateTime\n",
    "  HAVING COUNT(*) > 1\n",
    ") LIMIT 1\n",
    "```"
   ]
  },
  {
   "cell_type": "markdown",
   "metadata": {},
   "source": [
    "Store each record (96 history data and 6 prediction data) in one CSV file.  \n",
    "Ignore the whole record if it contains missing data."
   ]
  },
  {
   "cell_type": "markdown",
   "metadata": {},
   "source": [
    "```sql\n",
    "DROP PROCEDURE IF EXISTS dm.generate_dataset;\n",
    "DELIMITER //\n",
    "CREATE PROCEDURE dm.generate_dataset(from_time DATETIME, to_time DATETIME)\n",
    "BEGIN\n",
    "  DECLARE curr_time DATETIME DEFAULT from_time;\n",
    "  SET @path = '/Users/ywpu/Repositories/data-mining/hw3/';\n",
    "  generate_record: WHILE curr_time <= to_time DO\n",
    "    SET @cnt1 = (\n",
    "      SELECT COUNT(逐時觀測.溫度) FROM 逐時觀測\n",
    "        WHERE (逐時觀測.時間 >= curr_time)\n",
    "        AND (逐時觀測.時間 < DATE_ADD(curr_time, INTERVAL 4 DAY))\n",
    "        AND (逐時觀測.測站 = 'BANQIAO,板橋')\n",
    "    );\n",
    "    SET @cnt2 = (\n",
    "      SELECT COUNT(Power.northUsage) FROM Power\n",
    "        WHERE (Power.updateTime >= DATE_ADD(curr_time, INTERVAL 4 DAY))\n",
    "        AND (Power.updateTime < DATE_ADD(curr_time, INTERVAL '4 6' DAY_HOUR))\n",
    "    );\n",
    "    IF @cnt1 <> 96 OR @cnt2 <> 6 THEN\n",
    "      SET curr_time = DATE_ADD(curr_time, INTERVAL 1 HOUR);\n",
    "      ITERATE generate_record;\n",
    "    END IF;\n",
    "    SET @filename = CONCAT(@path, CAST(curr_time AS CHAR), '.csv');\n",
    "    SET @query_string = CONCAT(\n",
    "      \"SELECT A.Y INTO OUTFILE '\", @filename, \"'\n",
    "        FIELDS TERMINATED BY ',' LINES TERMINATED BY '\\n'\n",
    "      FROM (\n",
    "        (\n",
    "          SELECT 逐時觀測.時間 AS X, 逐時觀測.溫度 AS Y FROM 逐時觀測\n",
    "          WHERE (逐時觀測.時間 >= ?)\n",
    "          AND (逐時觀測.時間 < DATE_ADD(?, INTERVAL 4 DAY))\n",
    "          AND (逐時觀測.測站 = 'BANQIAO,板橋')\n",
    "        ) UNION ALL (\n",
    "          SELECT Power.updateTime AS X, Power.northUsage AS Y FROM Power\n",
    "          WHERE (Power.updateTime >= DATE_ADD(?, INTERVAL 4 DAY))\n",
    "          AND (Power.updateTime < DATE_ADD(?, INTERVAL '4 6' DAY_HOUR))\n",
    "        ) ORDER BY X ASC\n",
    "      ) A\"\n",
    "    );\n",
    "    PREPARE stmt FROM @query_string;\n",
    "    EXECUTE stmt USING curr_time, curr_time, curr_time, curr_time;\n",
    "    DEALLOCATE PREPARE stmt;\n",
    "    SET curr_time = DATE_ADD(curr_time, INTERVAL 1 HOUR);\n",
    "  END WHILE;\n",
    "END//\n",
    "DELIMITER ;\n",
    "SET @from_time = CAST('2016-07-03 01:00:00' AS DATETIME);\n",
    "SET @to_time = CAST('2017-07-04 00:00:00' AS DATETIME);\n",
    "CALL generate_dataset(@from_time, @to_time);\n",
    "```"
   ]
  },
  {
   "cell_type": "markdown",
   "metadata": {},
   "source": [
    "Combine all records into `dataset.csv`."
   ]
  },
  {
   "cell_type": "code",
   "execution_count": 2,
   "metadata": {},
   "outputs": [],
   "source": [
    "import os\n",
    "with open('dataset.csv', 'w') as target:\n",
    "    entries = os.listdir()\n",
    "    for entry in entries:\n",
    "        if entry.endswith('.csv') and entry.startswith('201'):\n",
    "            with open(entry) as file:\n",
    "                cols = file.readlines()\n",
    "            cols = [col.strip() for col in cols]\n",
    "            row = ','.join(cols) + '\\n'\n",
    "            target.write(row)"
   ]
  },
  {
   "cell_type": "code",
   "execution_count": null,
   "metadata": {},
   "outputs": [],
   "source": []
  }
 ],
 "metadata": {
  "kernelspec": {
   "display_name": "Python 3",
   "language": "python",
   "name": "python3"
  },
  "language_info": {
   "codemirror_mode": {
    "name": "ipython",
    "version": 3
   },
   "file_extension": ".py",
   "mimetype": "text/x-python",
   "name": "python",
   "nbconvert_exporter": "python",
   "pygments_lexer": "ipython3",
   "version": "3.6.3"
  }
 },
 "nbformat": 4,
 "nbformat_minor": 2
}
