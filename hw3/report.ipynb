{
 "cells": [
  {
   "cell_type": "markdown",
   "metadata": {},
   "source": [
    "# Homework 3: Classification, Regression, and Other Prediction Models"
   ]
  },
  {
   "cell_type": "markdown",
   "metadata": {},
   "source": [
    "Before starting, review past homeworks to find out mistakes I've made in previous practices."
   ]
  },
  {
   "cell_type": "markdown",
   "metadata": {},
   "source": [
    "### HW0 Data Preprocessing - Review\n",
    "\n",
    "+ Issues in data preprocessing / data cleaning\n",
    "  + discard outliers (temperature dataset has unreasonable values like -99.5)\n",
    "  + ignore, impute or interpolate missing values (taipower dataset lacks data from Jan. to Apr.)\n",
    "  + align records with n o'clock sharp (make sure there is one and only one record for each hour in both datasets)\n",
    "+ Flatten JSON to DataFrame: `pandas.io.json.json_normalize()`\n",
    "+ Write DataFrame to database: `pandas.DataFrame.to_sql()`\n",
    "+ Calculate Euclidean distance: `numpy.linalg.norm(X - Y)`\n",
    "+ Other useful functions: `scipy.signal.filtfilt()` for smoothing (noise reduction)\n",
    "+ Useful programming skills: `f\"Hello, my name is {name}.\"`\n",
    "\n",
    "### HW1 Association Rules - Review\n",
    "\n",
    "+ Three discretization methods\n",
    "  + equal width (`pandas.cut()`)\n",
    "  + equal frequency (`pandas.qcut()`)\n",
    "  + clustering (e.g. k-means)\n",
    "+ Investigate DataFrame: `head()`, `describe()`, `corr()`\n",
    "+ Plot DataFrame\n",
    "  + `df.A.plot(secondary_y=True, label='name', legend=True)` to add another y-axis\n",
    "  + `df.A.plot.hist(edgecolor='k')` for histograms\n",
    "+ We can also discretize multidimensional data.\n",
    "\n",
    "### HW2 Clustering - Review\n",
    "\n",
    "+ Use elbow method or silhouette value to determine k.\n",
    "+ For multidimensional data, normalizing data in advance may produce better results.\n",
    "+ For high-dimensional data, use principal component analysis (PCA) to reduce dimensions.\n",
    "+ The clustering result of taipower data in `temporal-clustering.ipynb` also shows a periodic pattern.\n",
    "  + The electricity consumption on weekends tends to belong to a different cluster."
   ]
  },
  {
   "cell_type": "markdown",
   "metadata": {},
   "source": [
    "## Task 1"
   ]
  },
  {
   "cell_type": "markdown",
   "metadata": {},
   "source": [
    "Round DATETIME towards its nearest hour. (e.g. 2017/10/16 14:37:52 -> 2017/10/16 15:00:00)"
   ]
  },
  {
   "cell_type": "markdown",
   "metadata": {},
   "source": [
    "```sql\n",
    "UPDATE 逐時觀測\n",
    "SET 逐時觀測.時間 = DATE_FORMAT(\n",
    "  DATE_ADD(逐時觀測.時間, INTERVAL 30 MINUTE),\n",
    "  '%Y-%m-%d %H:00:00'\n",
    ")\n",
    "```"
   ]
  },
  {
   "cell_type": "markdown",
   "metadata": {},
   "source": [
    "```sql\n",
    "UPDATE Power\n",
    "SET Power.updateTime = DATE_FORMAT(\n",
    "  DATE_ADD(Power.updateTime, INTERVAL 30 MINUTE),\n",
    "  '%Y-%m-%d %H:00:00'\n",
    ")\n",
    "```"
   ]
  },
  {
   "cell_type": "markdown",
   "metadata": {},
   "source": [
    "A naive way to generate dataset."
   ]
  },
  {
   "cell_type": "markdown",
   "metadata": {},
   "source": [
    "+ historical feature: temperature in Banqiao, Taiwan\n",
    "+ future target: electricity consumption in northern Taiwan"
   ]
  },
  {
   "cell_type": "markdown",
   "metadata": {},
   "source": [
    "```sql\n",
    "DROP PROCEDURE IF EXISTS dm.generate_dataset;\n",
    "DELIMITER //\n",
    "CREATE PROCEDURE dm.generate_dataset(from_time DATETIME, to_time DATETIME)\n",
    "BEGIN\n",
    "  DECLARE it INT;\n",
    "  DECLARE temp DOUBLE;\n",
    "  DECLARE output TEXT;\n",
    "  DECLARE curr_time DATETIME;\n",
    "  WHILE from_time <= to_time DO\n",
    "    SET it = 0;\n",
    "    SET output = '';\n",
    "    SET curr_time = from_time;\n",
    "    generate_record: WHILE it < 102 DO\n",
    "      SET temp = NULL;\n",
    "      IF it < 96 THEN\n",
    "        SELECT 逐時觀測.溫度 INTO temp FROM 逐時觀測\n",
    "          WHERE (逐時觀測.時間 = curr_time) AND (逐時觀測.測站 = 'BANQIAO,板橋')\n",
    "          LIMIT 1;\n",
    "      ELSE\n",
    "        SELECT Power.northUsage INTO temp FROM Power\n",
    "          WHERE (Power.updateTime = curr_time)\n",
    "          LIMIT 1;\n",
    "      END IF;\n",
    "      IF temp IS NULL THEN\n",
    "        SET output = '';\n",
    "        LEAVE generate_record;\n",
    "      END IF;\n",
    "      SET it = it + 1;\n",
    "      SET output = CONCAT(output, ',', CAST(temp AS CHAR));\n",
    "      SET curr_time = DATE_ADD(curr_time, INTERVAL 1 HOUR);\n",
    "    END WHILE;\n",
    "    IF output <> '' THEN\n",
    "      INSERT INTO Records VALUES (output);\n",
    "    END IF;\n",
    "    SET from_time = DATE_ADD(from_time, INTERVAL 1 HOUR);\n",
    "  END WHILE;\n",
    "END//\n",
    "DELIMITER ;\n",
    "SET @from_time = CAST('2016-07-03 01:00:00' AS DATETIME);\n",
    "SET @to_time = CAST('2017-07-04 00:00:00' AS DATETIME);\n",
    "CALL generate_dataset(@from_time, @to_time);\n",
    "```"
   ]
  },
  {
   "cell_type": "markdown",
   "metadata": {},
   "source": [
    "This is very inefficient because there are too many queries. Try a better approach."
   ]
  },
  {
   "cell_type": "markdown",
   "metadata": {},
   "source": [
    "First, find duplicate record times."
   ]
  },
  {
   "cell_type": "markdown",
   "metadata": {},
   "source": [
    "```sql\n",
    "SELECT 逐時觀測.時間\n",
    "FROM 逐時觀測\n",
    "WHERE 逐時觀測.測站 = 'BANQIAO,板橋'\n",
    "GROUP BY 逐時觀測.時間\n",
    "HAVING COUNT(*) > 1\n",
    "```"
   ]
  },
  {
   "cell_type": "markdown",
   "metadata": {},
   "source": [
    "0 rows retrieved."
   ]
  },
  {
   "cell_type": "markdown",
   "metadata": {},
   "source": [
    "```sql\n",
    "SELECT Power.updateTime, COUNT(*) AS cnt\n",
    "FROM Power\n",
    "GROUP BY Power.updateTime\n",
    "HAVING cnt > 1\n",
    "```"
   ]
  },
  {
   "cell_type": "markdown",
   "metadata": {},
   "source": [
    "updateTime | cnt\n",
    "--- | ---\n",
    "2016-10-17 00:00:00 | 2\n",
    "2017-05-20 08:00:00 | 3\n",
    "2017-05-20 13:00:00 | 2\n",
    "2017-05-30 22:00:00 | 2\n",
    "2017-07-19 09:00:00 | 2\n",
    "2017-07-24 01:00:00 | 2\n",
    "2017-07-24 13:00:00 | 2\n",
    "2017-08-21 20:00:00 | 2\n",
    "2017-08-21 21:00:00 | 2"
   ]
  },
  {
   "cell_type": "markdown",
   "metadata": {},
   "source": [
    "Remove them using the following query."
   ]
  },
  {
   "cell_type": "markdown",
   "metadata": {},
   "source": [
    "```sql\n",
    "-- run 10 times\n",
    "DELETE FROM Power\n",
    "WHERE Power.updateTime IN (\n",
    "  SELECT A.updateTime\n",
    "  FROM (SELECT * FROM Power) AS A\n",
    "  GROUP BY A.updateTime\n",
    "  HAVING COUNT(*) > 1\n",
    ") LIMIT 1\n",
    "```"
   ]
  },
  {
   "cell_type": "markdown",
   "metadata": {},
   "source": [
    "Store each record (96 history data and 6 prediction data) in one CSV file.  \n",
    "Ignore the whole record if it contains missing data."
   ]
  },
  {
   "cell_type": "markdown",
   "metadata": {},
   "source": [
    "```sql\n",
    "DROP PROCEDURE IF EXISTS dm.generate_dataset;\n",
    "DELIMITER //\n",
    "CREATE PROCEDURE dm.generate_dataset(from_time DATETIME, to_time DATETIME)\n",
    "BEGIN\n",
    "  DECLARE curr_time DATETIME DEFAULT from_time;\n",
    "  SET @path = '/Users/ywpu/Repositories/data-mining/hw3/';\n",
    "  generate_record: WHILE curr_time <= to_time DO\n",
    "    SET @cnt1 = (\n",
    "      SELECT COUNT(逐時觀測.溫度) FROM 逐時觀測\n",
    "        WHERE (逐時觀測.時間 >= curr_time)\n",
    "        AND (逐時觀測.時間 < DATE_ADD(curr_time, INTERVAL 4 DAY))\n",
    "        AND (逐時觀測.測站 = 'BANQIAO,板橋')\n",
    "    );\n",
    "    SET @cnt2 = (\n",
    "      SELECT COUNT(Power.northUsage) FROM Power\n",
    "        WHERE (Power.updateTime >= DATE_ADD(curr_time, INTERVAL 4 DAY))\n",
    "        AND (Power.updateTime < DATE_ADD(curr_time, INTERVAL '4 6' DAY_HOUR))\n",
    "    );\n",
    "    IF @cnt1 <> 96 OR @cnt2 <> 6 THEN\n",
    "      SET curr_time = DATE_ADD(curr_time, INTERVAL 1 HOUR);\n",
    "      ITERATE generate_record;\n",
    "    END IF;\n",
    "    SET @filename = CONCAT(@path, CAST(curr_time AS CHAR), '.csv');\n",
    "    SET @query_string = CONCAT(\n",
    "      \"SELECT A.Y INTO OUTFILE '\", @filename, \"'\n",
    "        FIELDS TERMINATED BY ',' LINES TERMINATED BY '\\n'\n",
    "      FROM (\n",
    "        (\n",
    "          SELECT 逐時觀測.時間 AS X, 逐時觀測.溫度 AS Y FROM 逐時觀測\n",
    "          WHERE (逐時觀測.時間 >= ?)\n",
    "          AND (逐時觀測.時間 < DATE_ADD(?, INTERVAL 4 DAY))\n",
    "          AND (逐時觀測.測站 = 'BANQIAO,板橋')\n",
    "        ) UNION ALL (\n",
    "          SELECT Power.updateTime AS X, Power.northUsage AS Y FROM Power\n",
    "          WHERE (Power.updateTime >= DATE_ADD(?, INTERVAL 4 DAY))\n",
    "          AND (Power.updateTime < DATE_ADD(?, INTERVAL '4 6' DAY_HOUR))\n",
    "        ) ORDER BY X ASC\n",
    "      ) A\"\n",
    "    );\n",
    "    PREPARE stmt FROM @query_string;\n",
    "    EXECUTE stmt USING curr_time, curr_time, curr_time, curr_time;\n",
    "    DEALLOCATE PREPARE stmt;\n",
    "    SET curr_time = DATE_ADD(curr_time, INTERVAL 1 HOUR);\n",
    "  END WHILE;\n",
    "END//\n",
    "DELIMITER ;\n",
    "SET @from_time = CAST('2016-07-03 01:00:00' AS DATETIME);\n",
    "SET @to_time = CAST('2017-07-04 00:00:00' AS DATETIME);\n",
    "CALL generate_dataset(@from_time, @to_time);\n",
    "```"
   ]
  },
  {
   "cell_type": "markdown",
   "metadata": {},
   "source": [
    "Combine all records into `dataset.csv`."
   ]
  },
  {
   "cell_type": "markdown",
   "metadata": {},
   "source": [
    "```python\n",
    "import os\n",
    "with open('dataset.csv', 'w') as target:\n",
    "    entries = sorted(os.listdir())\n",
    "    for entry in entries:\n",
    "        if entry.endswith('.csv') and entry.startswith('201'):\n",
    "            with open(entry) as file:\n",
    "                cols = file.readlines()\n",
    "            cols = [col.strip() for col in cols]\n",
    "            row = ','.join(cols) + '\\n'\n",
    "            target.write(row)\n",
    "```"
   ]
  },
  {
   "cell_type": "markdown",
   "metadata": {},
   "source": [
    "Load `dataset.csv` into DataFrame."
   ]
  },
  {
   "cell_type": "code",
   "execution_count": 1,
   "metadata": {},
   "outputs": [],
   "source": [
    "import numpy as np\n",
    "import pandas as pd\n",
    "dataset = pd.read_csv('dataset.csv', names=list(range(0, 102)), dtype=np.float64)"
   ]
  },
  {
   "cell_type": "code",
   "execution_count": 2,
   "metadata": {},
   "outputs": [
    {
     "data": {
      "text/plain": [
       "(4568, 102)"
      ]
     },
     "execution_count": 2,
     "metadata": {},
     "output_type": "execute_result"
    }
   ],
   "source": [
    "dataset.shape"
   ]
  },
  {
   "cell_type": "code",
   "execution_count": 3,
   "metadata": {},
   "outputs": [
    {
     "data": {
      "text/html": [
       "<div>\n",
       "<style scoped>\n",
       "    .dataframe tbody tr th:only-of-type {\n",
       "        vertical-align: middle;\n",
       "    }\n",
       "\n",
       "    .dataframe tbody tr th {\n",
       "        vertical-align: top;\n",
       "    }\n",
       "\n",
       "    .dataframe thead th {\n",
       "        text-align: right;\n",
       "    }\n",
       "</style>\n",
       "<table border=\"1\" class=\"dataframe\">\n",
       "  <thead>\n",
       "    <tr style=\"text-align: right;\">\n",
       "      <th></th>\n",
       "      <th>0</th>\n",
       "      <th>1</th>\n",
       "      <th>2</th>\n",
       "      <th>3</th>\n",
       "      <th>4</th>\n",
       "      <th>5</th>\n",
       "      <th>6</th>\n",
       "      <th>7</th>\n",
       "      <th>8</th>\n",
       "      <th>9</th>\n",
       "      <th>...</th>\n",
       "      <th>92</th>\n",
       "      <th>93</th>\n",
       "      <th>94</th>\n",
       "      <th>95</th>\n",
       "      <th>96</th>\n",
       "      <th>97</th>\n",
       "      <th>98</th>\n",
       "      <th>99</th>\n",
       "      <th>100</th>\n",
       "      <th>101</th>\n",
       "    </tr>\n",
       "  </thead>\n",
       "  <tbody>\n",
       "    <tr>\n",
       "      <th>0</th>\n",
       "      <td>27.6</td>\n",
       "      <td>28.4</td>\n",
       "      <td>29.4</td>\n",
       "      <td>29.7</td>\n",
       "      <td>28.3</td>\n",
       "      <td>27.1</td>\n",
       "      <td>26.3</td>\n",
       "      <td>25.9</td>\n",
       "      <td>25.6</td>\n",
       "      <td>25.6</td>\n",
       "      <td>...</td>\n",
       "      <td>27.3</td>\n",
       "      <td>27.4</td>\n",
       "      <td>27.4</td>\n",
       "      <td>27.7</td>\n",
       "      <td>841.3</td>\n",
       "      <td>826.4</td>\n",
       "      <td>789.5</td>\n",
       "      <td>773.6</td>\n",
       "      <td>778.0</td>\n",
       "      <td>783.1</td>\n",
       "    </tr>\n",
       "    <tr>\n",
       "      <th>1</th>\n",
       "      <td>28.4</td>\n",
       "      <td>29.4</td>\n",
       "      <td>29.7</td>\n",
       "      <td>28.3</td>\n",
       "      <td>27.1</td>\n",
       "      <td>26.3</td>\n",
       "      <td>25.9</td>\n",
       "      <td>25.6</td>\n",
       "      <td>25.6</td>\n",
       "      <td>25.4</td>\n",
       "      <td>...</td>\n",
       "      <td>27.4</td>\n",
       "      <td>27.4</td>\n",
       "      <td>27.7</td>\n",
       "      <td>26.6</td>\n",
       "      <td>826.4</td>\n",
       "      <td>789.5</td>\n",
       "      <td>773.6</td>\n",
       "      <td>778.0</td>\n",
       "      <td>783.1</td>\n",
       "      <td>814.3</td>\n",
       "    </tr>\n",
       "    <tr>\n",
       "      <th>2</th>\n",
       "      <td>29.4</td>\n",
       "      <td>29.7</td>\n",
       "      <td>28.3</td>\n",
       "      <td>27.1</td>\n",
       "      <td>26.3</td>\n",
       "      <td>25.9</td>\n",
       "      <td>25.6</td>\n",
       "      <td>25.6</td>\n",
       "      <td>25.4</td>\n",
       "      <td>25.3</td>\n",
       "      <td>...</td>\n",
       "      <td>27.4</td>\n",
       "      <td>27.7</td>\n",
       "      <td>26.6</td>\n",
       "      <td>26.0</td>\n",
       "      <td>789.5</td>\n",
       "      <td>773.6</td>\n",
       "      <td>778.0</td>\n",
       "      <td>783.1</td>\n",
       "      <td>814.3</td>\n",
       "      <td>812.4</td>\n",
       "    </tr>\n",
       "    <tr>\n",
       "      <th>3</th>\n",
       "      <td>29.7</td>\n",
       "      <td>28.3</td>\n",
       "      <td>27.1</td>\n",
       "      <td>26.3</td>\n",
       "      <td>25.9</td>\n",
       "      <td>25.6</td>\n",
       "      <td>25.6</td>\n",
       "      <td>25.4</td>\n",
       "      <td>25.3</td>\n",
       "      <td>25.3</td>\n",
       "      <td>...</td>\n",
       "      <td>27.7</td>\n",
       "      <td>26.6</td>\n",
       "      <td>26.0</td>\n",
       "      <td>25.9</td>\n",
       "      <td>773.6</td>\n",
       "      <td>778.0</td>\n",
       "      <td>783.1</td>\n",
       "      <td>814.3</td>\n",
       "      <td>812.4</td>\n",
       "      <td>809.0</td>\n",
       "    </tr>\n",
       "    <tr>\n",
       "      <th>4</th>\n",
       "      <td>28.3</td>\n",
       "      <td>27.1</td>\n",
       "      <td>26.3</td>\n",
       "      <td>25.9</td>\n",
       "      <td>25.6</td>\n",
       "      <td>25.6</td>\n",
       "      <td>25.4</td>\n",
       "      <td>25.3</td>\n",
       "      <td>25.3</td>\n",
       "      <td>25.3</td>\n",
       "      <td>...</td>\n",
       "      <td>26.6</td>\n",
       "      <td>26.0</td>\n",
       "      <td>25.9</td>\n",
       "      <td>25.8</td>\n",
       "      <td>778.0</td>\n",
       "      <td>783.1</td>\n",
       "      <td>814.3</td>\n",
       "      <td>812.4</td>\n",
       "      <td>809.0</td>\n",
       "      <td>796.6</td>\n",
       "    </tr>\n",
       "  </tbody>\n",
       "</table>\n",
       "<p>5 rows × 102 columns</p>\n",
       "</div>"
      ],
      "text/plain": [
       "    0     1     2     3     4     5     6     7     8     9    ...     92   \\\n",
       "0  27.6  28.4  29.4  29.7  28.3  27.1  26.3  25.9  25.6  25.6  ...    27.3   \n",
       "1  28.4  29.4  29.7  28.3  27.1  26.3  25.9  25.6  25.6  25.4  ...    27.4   \n",
       "2  29.4  29.7  28.3  27.1  26.3  25.9  25.6  25.6  25.4  25.3  ...    27.4   \n",
       "3  29.7  28.3  27.1  26.3  25.9  25.6  25.6  25.4  25.3  25.3  ...    27.7   \n",
       "4  28.3  27.1  26.3  25.9  25.6  25.6  25.4  25.3  25.3  25.3  ...    26.6   \n",
       "\n",
       "    93    94    95     96     97     98     99     100    101  \n",
       "0  27.4  27.4  27.7  841.3  826.4  789.5  773.6  778.0  783.1  \n",
       "1  27.4  27.7  26.6  826.4  789.5  773.6  778.0  783.1  814.3  \n",
       "2  27.7  26.6  26.0  789.5  773.6  778.0  783.1  814.3  812.4  \n",
       "3  26.6  26.0  25.9  773.6  778.0  783.1  814.3  812.4  809.0  \n",
       "4  26.0  25.9  25.8  778.0  783.1  814.3  812.4  809.0  796.6  \n",
       "\n",
       "[5 rows x 102 columns]"
      ]
     },
     "execution_count": 3,
     "metadata": {},
     "output_type": "execute_result"
    }
   ],
   "source": [
    "dataset.head()"
   ]
  },
  {
   "cell_type": "markdown",
   "metadata": {},
   "source": [
    "## Task 2"
   ]
  },
  {
   "cell_type": "markdown",
   "metadata": {},
   "source": [
    "Split dataset randomly using scikit-learn."
   ]
  },
  {
   "cell_type": "code",
   "execution_count": 4,
   "metadata": {},
   "outputs": [],
   "source": [
    "from sklearn.model_selection import train_test_split\n",
    "seed = 666 # Fix the seed so that the results are reproducible.\n",
    "train, test = train_test_split(dataset, test_size=0.3, random_state=seed)"
   ]
  },
  {
   "cell_type": "code",
   "execution_count": 5,
   "metadata": {},
   "outputs": [
    {
     "data": {
      "text/plain": [
       "(3197, 102)"
      ]
     },
     "execution_count": 5,
     "metadata": {},
     "output_type": "execute_result"
    }
   ],
   "source": [
    "train.shape"
   ]
  },
  {
   "cell_type": "code",
   "execution_count": 6,
   "metadata": {},
   "outputs": [
    {
     "data": {
      "text/html": [
       "<div>\n",
       "<style scoped>\n",
       "    .dataframe tbody tr th:only-of-type {\n",
       "        vertical-align: middle;\n",
       "    }\n",
       "\n",
       "    .dataframe tbody tr th {\n",
       "        vertical-align: top;\n",
       "    }\n",
       "\n",
       "    .dataframe thead th {\n",
       "        text-align: right;\n",
       "    }\n",
       "</style>\n",
       "<table border=\"1\" class=\"dataframe\">\n",
       "  <thead>\n",
       "    <tr style=\"text-align: right;\">\n",
       "      <th></th>\n",
       "      <th>0</th>\n",
       "      <th>1</th>\n",
       "      <th>2</th>\n",
       "      <th>3</th>\n",
       "      <th>4</th>\n",
       "      <th>5</th>\n",
       "      <th>6</th>\n",
       "      <th>7</th>\n",
       "      <th>8</th>\n",
       "      <th>9</th>\n",
       "      <th>...</th>\n",
       "      <th>92</th>\n",
       "      <th>93</th>\n",
       "      <th>94</th>\n",
       "      <th>95</th>\n",
       "      <th>96</th>\n",
       "      <th>97</th>\n",
       "      <th>98</th>\n",
       "      <th>99</th>\n",
       "      <th>100</th>\n",
       "      <th>101</th>\n",
       "    </tr>\n",
       "  </thead>\n",
       "  <tbody>\n",
       "    <tr>\n",
       "      <th>2136</th>\n",
       "      <td>18.3</td>\n",
       "      <td>18.8</td>\n",
       "      <td>19.7</td>\n",
       "      <td>21.4</td>\n",
       "      <td>21.0</td>\n",
       "      <td>21.2</td>\n",
       "      <td>21.7</td>\n",
       "      <td>21.7</td>\n",
       "      <td>21.2</td>\n",
       "      <td>20.3</td>\n",
       "      <td>...</td>\n",
       "      <td>13.9</td>\n",
       "      <td>14.0</td>\n",
       "      <td>14.0</td>\n",
       "      <td>14.3</td>\n",
       "      <td>823.2</td>\n",
       "      <td>924.6</td>\n",
       "      <td>945.6</td>\n",
       "      <td>976.0</td>\n",
       "      <td>961.5</td>\n",
       "      <td>917.7</td>\n",
       "    </tr>\n",
       "    <tr>\n",
       "      <th>3539</th>\n",
       "      <td>23.1</td>\n",
       "      <td>23.3</td>\n",
       "      <td>23.3</td>\n",
       "      <td>23.3</td>\n",
       "      <td>23.6</td>\n",
       "      <td>23.8</td>\n",
       "      <td>23.6</td>\n",
       "      <td>23.6</td>\n",
       "      <td>24.9</td>\n",
       "      <td>26.6</td>\n",
       "      <td>...</td>\n",
       "      <td>24.7</td>\n",
       "      <td>24.5</td>\n",
       "      <td>24.2</td>\n",
       "      <td>24.2</td>\n",
       "      <td>818.7</td>\n",
       "      <td>762.1</td>\n",
       "      <td>721.1</td>\n",
       "      <td>690.8</td>\n",
       "      <td>670.2</td>\n",
       "      <td>664.1</td>\n",
       "    </tr>\n",
       "    <tr>\n",
       "      <th>2285</th>\n",
       "      <td>20.1</td>\n",
       "      <td>19.6</td>\n",
       "      <td>19.7</td>\n",
       "      <td>19.3</td>\n",
       "      <td>19.0</td>\n",
       "      <td>18.6</td>\n",
       "      <td>18.8</td>\n",
       "      <td>18.6</td>\n",
       "      <td>18.5</td>\n",
       "      <td>18.6</td>\n",
       "      <td>...</td>\n",
       "      <td>20.6</td>\n",
       "      <td>20.3</td>\n",
       "      <td>20.6</td>\n",
       "      <td>21.0</td>\n",
       "      <td>965.0</td>\n",
       "      <td>1011.3</td>\n",
       "      <td>1021.1</td>\n",
       "      <td>1014.3</td>\n",
       "      <td>1022.5</td>\n",
       "      <td>1042.4</td>\n",
       "    </tr>\n",
       "    <tr>\n",
       "      <th>384</th>\n",
       "      <td>23.6</td>\n",
       "      <td>23.3</td>\n",
       "      <td>23.2</td>\n",
       "      <td>23.3</td>\n",
       "      <td>23.4</td>\n",
       "      <td>23.4</td>\n",
       "      <td>23.5</td>\n",
       "      <td>23.7</td>\n",
       "      <td>24.1</td>\n",
       "      <td>24.8</td>\n",
       "      <td>...</td>\n",
       "      <td>24.7</td>\n",
       "      <td>24.8</td>\n",
       "      <td>25.1</td>\n",
       "      <td>25.3</td>\n",
       "      <td>842.7</td>\n",
       "      <td>788.0</td>\n",
       "      <td>757.7</td>\n",
       "      <td>745.5</td>\n",
       "      <td>726.2</td>\n",
       "      <td>711.3</td>\n",
       "    </tr>\n",
       "    <tr>\n",
       "      <th>339</th>\n",
       "      <td>23.8</td>\n",
       "      <td>23.6</td>\n",
       "      <td>23.5</td>\n",
       "      <td>23.3</td>\n",
       "      <td>23.2</td>\n",
       "      <td>22.9</td>\n",
       "      <td>23.3</td>\n",
       "      <td>23.4</td>\n",
       "      <td>23.5</td>\n",
       "      <td>23.3</td>\n",
       "      <td>...</td>\n",
       "      <td>23.9</td>\n",
       "      <td>23.7</td>\n",
       "      <td>23.9</td>\n",
       "      <td>24.1</td>\n",
       "      <td>735.4</td>\n",
       "      <td>717.3</td>\n",
       "      <td>722.1</td>\n",
       "      <td>743.2</td>\n",
       "      <td>786.4</td>\n",
       "      <td>899.8</td>\n",
       "    </tr>\n",
       "  </tbody>\n",
       "</table>\n",
       "<p>5 rows × 102 columns</p>\n",
       "</div>"
      ],
      "text/plain": [
       "       0     1     2     3     4     5     6     7     8     9     ...    \\\n",
       "2136  18.3  18.8  19.7  21.4  21.0  21.2  21.7  21.7  21.2  20.3   ...     \n",
       "3539  23.1  23.3  23.3  23.3  23.6  23.8  23.6  23.6  24.9  26.6   ...     \n",
       "2285  20.1  19.6  19.7  19.3  19.0  18.6  18.8  18.6  18.5  18.6   ...     \n",
       "384   23.6  23.3  23.2  23.3  23.4  23.4  23.5  23.7  24.1  24.8   ...     \n",
       "339   23.8  23.6  23.5  23.3  23.2  22.9  23.3  23.4  23.5  23.3   ...     \n",
       "\n",
       "       92    93    94    95     96      97      98      99      100     101  \n",
       "2136  13.9  14.0  14.0  14.3  823.2   924.6   945.6   976.0   961.5   917.7  \n",
       "3539  24.7  24.5  24.2  24.2  818.7   762.1   721.1   690.8   670.2   664.1  \n",
       "2285  20.6  20.3  20.6  21.0  965.0  1011.3  1021.1  1014.3  1022.5  1042.4  \n",
       "384   24.7  24.8  25.1  25.3  842.7   788.0   757.7   745.5   726.2   711.3  \n",
       "339   23.9  23.7  23.9  24.1  735.4   717.3   722.1   743.2   786.4   899.8  \n",
       "\n",
       "[5 rows x 102 columns]"
      ]
     },
     "execution_count": 6,
     "metadata": {},
     "output_type": "execute_result"
    }
   ],
   "source": [
    "train.head()"
   ]
  },
  {
   "cell_type": "code",
   "execution_count": 7,
   "metadata": {},
   "outputs": [
    {
     "data": {
      "text/plain": [
       "(1371, 102)"
      ]
     },
     "execution_count": 7,
     "metadata": {},
     "output_type": "execute_result"
    }
   ],
   "source": [
    "test.shape"
   ]
  },
  {
   "cell_type": "code",
   "execution_count": 8,
   "metadata": {},
   "outputs": [
    {
     "data": {
      "text/html": [
       "<div>\n",
       "<style scoped>\n",
       "    .dataframe tbody tr th:only-of-type {\n",
       "        vertical-align: middle;\n",
       "    }\n",
       "\n",
       "    .dataframe tbody tr th {\n",
       "        vertical-align: top;\n",
       "    }\n",
       "\n",
       "    .dataframe thead th {\n",
       "        text-align: right;\n",
       "    }\n",
       "</style>\n",
       "<table border=\"1\" class=\"dataframe\">\n",
       "  <thead>\n",
       "    <tr style=\"text-align: right;\">\n",
       "      <th></th>\n",
       "      <th>0</th>\n",
       "      <th>1</th>\n",
       "      <th>2</th>\n",
       "      <th>3</th>\n",
       "      <th>4</th>\n",
       "      <th>5</th>\n",
       "      <th>6</th>\n",
       "      <th>7</th>\n",
       "      <th>8</th>\n",
       "      <th>9</th>\n",
       "      <th>...</th>\n",
       "      <th>92</th>\n",
       "      <th>93</th>\n",
       "      <th>94</th>\n",
       "      <th>95</th>\n",
       "      <th>96</th>\n",
       "      <th>97</th>\n",
       "      <th>98</th>\n",
       "      <th>99</th>\n",
       "      <th>100</th>\n",
       "      <th>101</th>\n",
       "    </tr>\n",
       "  </thead>\n",
       "  <tbody>\n",
       "    <tr>\n",
       "      <th>256</th>\n",
       "      <td>29.0</td>\n",
       "      <td>28.3</td>\n",
       "      <td>27.9</td>\n",
       "      <td>27.6</td>\n",
       "      <td>27.6</td>\n",
       "      <td>27.3</td>\n",
       "      <td>27.3</td>\n",
       "      <td>26.2</td>\n",
       "      <td>26.3</td>\n",
       "      <td>26.2</td>\n",
       "      <td>...</td>\n",
       "      <td>23.3</td>\n",
       "      <td>23.7</td>\n",
       "      <td>22.8</td>\n",
       "      <td>22.8</td>\n",
       "      <td>828.0</td>\n",
       "      <td>851.5</td>\n",
       "      <td>896.2</td>\n",
       "      <td>895.8</td>\n",
       "      <td>889.2</td>\n",
       "      <td>880.7</td>\n",
       "    </tr>\n",
       "    <tr>\n",
       "      <th>3176</th>\n",
       "      <td>22.1</td>\n",
       "      <td>22.0</td>\n",
       "      <td>21.9</td>\n",
       "      <td>22.0</td>\n",
       "      <td>22.3</td>\n",
       "      <td>23.6</td>\n",
       "      <td>24.6</td>\n",
       "      <td>26.5</td>\n",
       "      <td>27.3</td>\n",
       "      <td>28.7</td>\n",
       "      <td>...</td>\n",
       "      <td>25.8</td>\n",
       "      <td>25.6</td>\n",
       "      <td>25.4</td>\n",
       "      <td>24.3</td>\n",
       "      <td>764.3</td>\n",
       "      <td>728.6</td>\n",
       "      <td>737.5</td>\n",
       "      <td>737.3</td>\n",
       "      <td>759.3</td>\n",
       "      <td>794.1</td>\n",
       "    </tr>\n",
       "    <tr>\n",
       "      <th>1210</th>\n",
       "      <td>27.1</td>\n",
       "      <td>26.3</td>\n",
       "      <td>25.5</td>\n",
       "      <td>25.2</td>\n",
       "      <td>24.5</td>\n",
       "      <td>24.0</td>\n",
       "      <td>23.7</td>\n",
       "      <td>23.7</td>\n",
       "      <td>23.6</td>\n",
       "      <td>23.7</td>\n",
       "      <td>...</td>\n",
       "      <td>20.5</td>\n",
       "      <td>22.9</td>\n",
       "      <td>25.8</td>\n",
       "      <td>28.3</td>\n",
       "      <td>922.7</td>\n",
       "      <td>924.3</td>\n",
       "      <td>943.2</td>\n",
       "      <td>912.7</td>\n",
       "      <td>929.0</td>\n",
       "      <td>929.5</td>\n",
       "    </tr>\n",
       "    <tr>\n",
       "      <th>333</th>\n",
       "      <td>25.4</td>\n",
       "      <td>24.7</td>\n",
       "      <td>24.4</td>\n",
       "      <td>24.3</td>\n",
       "      <td>23.6</td>\n",
       "      <td>23.6</td>\n",
       "      <td>23.8</td>\n",
       "      <td>23.6</td>\n",
       "      <td>23.5</td>\n",
       "      <td>23.3</td>\n",
       "      <td>...</td>\n",
       "      <td>24.3</td>\n",
       "      <td>24.0</td>\n",
       "      <td>23.8</td>\n",
       "      <td>23.2</td>\n",
       "      <td>1005.4</td>\n",
       "      <td>938.5</td>\n",
       "      <td>884.5</td>\n",
       "      <td>823.7</td>\n",
       "      <td>772.6</td>\n",
       "      <td>738.9</td>\n",
       "    </tr>\n",
       "    <tr>\n",
       "      <th>560</th>\n",
       "      <td>30.0</td>\n",
       "      <td>30.3</td>\n",
       "      <td>28.9</td>\n",
       "      <td>28.5</td>\n",
       "      <td>28.2</td>\n",
       "      <td>28.1</td>\n",
       "      <td>28.3</td>\n",
       "      <td>28.3</td>\n",
       "      <td>28.2</td>\n",
       "      <td>28.3</td>\n",
       "      <td>...</td>\n",
       "      <td>30.7</td>\n",
       "      <td>31.8</td>\n",
       "      <td>31.6</td>\n",
       "      <td>31.4</td>\n",
       "      <td>1103.5</td>\n",
       "      <td>1075.9</td>\n",
       "      <td>1080.4</td>\n",
       "      <td>1078.0</td>\n",
       "      <td>1108.0</td>\n",
       "      <td>1093.8</td>\n",
       "    </tr>\n",
       "  </tbody>\n",
       "</table>\n",
       "<p>5 rows × 102 columns</p>\n",
       "</div>"
      ],
      "text/plain": [
       "       0     1     2     3     4     5     6     7     8     9     ...    \\\n",
       "256   29.0  28.3  27.9  27.6  27.6  27.3  27.3  26.2  26.3  26.2   ...     \n",
       "3176  22.1  22.0  21.9  22.0  22.3  23.6  24.6  26.5  27.3  28.7   ...     \n",
       "1210  27.1  26.3  25.5  25.2  24.5  24.0  23.7  23.7  23.6  23.7   ...     \n",
       "333   25.4  24.7  24.4  24.3  23.6  23.6  23.8  23.6  23.5  23.3   ...     \n",
       "560   30.0  30.3  28.9  28.5  28.2  28.1  28.3  28.3  28.2  28.3   ...     \n",
       "\n",
       "       92    93    94    95      96      97      98      99      100     101  \n",
       "256   23.3  23.7  22.8  22.8   828.0   851.5   896.2   895.8   889.2   880.7  \n",
       "3176  25.8  25.6  25.4  24.3   764.3   728.6   737.5   737.3   759.3   794.1  \n",
       "1210  20.5  22.9  25.8  28.3   922.7   924.3   943.2   912.7   929.0   929.5  \n",
       "333   24.3  24.0  23.8  23.2  1005.4   938.5   884.5   823.7   772.6   738.9  \n",
       "560   30.7  31.8  31.6  31.4  1103.5  1075.9  1080.4  1078.0  1108.0  1093.8  \n",
       "\n",
       "[5 rows x 102 columns]"
      ]
     },
     "execution_count": 8,
     "metadata": {},
     "output_type": "execute_result"
    }
   ],
   "source": [
    "test.head()"
   ]
  },
  {
   "cell_type": "markdown",
   "metadata": {},
   "source": [
    "## Task 3"
   ]
  },
  {
   "cell_type": "markdown",
   "metadata": {},
   "source": [
    "Before classification, discretize targets using pandas."
   ]
  },
  {
   "cell_type": "code",
   "execution_count": 9,
   "metadata": {},
   "outputs": [],
   "source": [
    "# call pd.qcut(column, 4, labels=False) for each column in column 96 ~ 101\n",
    "discrete = dataset.iloc[:, 96:102].apply(pd.qcut, args=(4,), labels=False)"
   ]
  },
  {
   "cell_type": "code",
   "execution_count": 10,
   "metadata": {},
   "outputs": [],
   "source": [
    "train_labels = discrete.loc[train.index, :]\n",
    "test_labels = discrete.loc[test.index, :]"
   ]
  },
  {
   "cell_type": "code",
   "execution_count": 11,
   "metadata": {},
   "outputs": [],
   "source": [
    "train_features = train.iloc[:, 0:96]\n",
    "test_features = test.iloc[:, 0:96]"
   ]
  },
  {
   "cell_type": "markdown",
   "metadata": {},
   "source": [
    "Try different classification algorithms using scikit-learn."
   ]
  },
  {
   "cell_type": "markdown",
   "metadata": {},
   "source": [
    "### k-nearest neighbors"
   ]
  },
  {
   "cell_type": "code",
   "execution_count": 12,
   "metadata": {},
   "outputs": [
    {
     "name": "stdout",
     "output_type": "stream",
     "text": [
      "CPU times: user 369 ms, sys: 6.14 ms, total: 375 ms\n",
      "Wall time: 377 ms\n"
     ]
    }
   ],
   "source": [
    "%%time\n",
    "from sklearn.neighbors import KNeighborsClassifier\n",
    "clf = KNeighborsClassifier()\n",
    "clf.fit(train_features, train_labels)\n",
    "test_preds = clf.predict(test_features)\n",
    "diff = np.equal(test_labels.values, test_preds)\n",
    "accuracy = np.sum(diff) / test_labels.size"
   ]
  },
  {
   "cell_type": "code",
   "execution_count": 13,
   "metadata": {},
   "outputs": [
    {
     "data": {
      "text/plain": [
       "KNeighborsClassifier(algorithm='auto', leaf_size=30, metric='minkowski',\n",
       "           metric_params=None, n_jobs=1, n_neighbors=5, p=2,\n",
       "           weights='uniform')"
      ]
     },
     "execution_count": 13,
     "metadata": {},
     "output_type": "execute_result"
    }
   ],
   "source": [
    "clf"
   ]
  },
  {
   "cell_type": "code",
   "execution_count": 14,
   "metadata": {},
   "outputs": [
    {
     "data": {
      "text/plain": [
       "0.76112326768781913"
      ]
     },
     "execution_count": 14,
     "metadata": {},
     "output_type": "execute_result"
    }
   ],
   "source": [
    "accuracy"
   ]
  },
  {
   "cell_type": "markdown",
   "metadata": {},
   "source": [
    "### Multinomial naive Bayes"
   ]
  },
  {
   "cell_type": "code",
   "execution_count": 15,
   "metadata": {},
   "outputs": [
    {
     "name": "stdout",
     "output_type": "stream",
     "text": [
      "CPU times: user 22.9 ms, sys: 2.73 ms, total: 25.6 ms\n",
      "Wall time: 23.3 ms\n"
     ]
    }
   ],
   "source": [
    "%%time\n",
    "from sklearn.multioutput import MultiOutputClassifier\n",
    "from sklearn.naive_bayes import MultinomialNB\n",
    "clf = MultinomialNB()\n",
    "clfs = MultiOutputClassifier(clf)\n",
    "clfs.fit(train_features, train_labels)\n",
    "test_preds = clfs.predict(test_features)\n",
    "diff = np.equal(test_labels.values, test_preds)\n",
    "accuracy = np.sum(diff) / test_labels.size"
   ]
  },
  {
   "cell_type": "code",
   "execution_count": 16,
   "metadata": {},
   "outputs": [
    {
     "data": {
      "text/plain": [
       "MultinomialNB(alpha=1.0, class_prior=None, fit_prior=True)"
      ]
     },
     "execution_count": 16,
     "metadata": {},
     "output_type": "execute_result"
    }
   ],
   "source": [
    "clf"
   ]
  },
  {
   "cell_type": "code",
   "execution_count": 17,
   "metadata": {},
   "outputs": [
    {
     "data": {
      "text/plain": [
       "0.4987843423292001"
      ]
     },
     "execution_count": 17,
     "metadata": {},
     "output_type": "execute_result"
    }
   ],
   "source": [
    "accuracy"
   ]
  },
  {
   "cell_type": "markdown",
   "metadata": {},
   "source": [
    "### Random forest"
   ]
  },
  {
   "cell_type": "code",
   "execution_count": 18,
   "metadata": {},
   "outputs": [
    {
     "name": "stdout",
     "output_type": "stream",
     "text": [
      "CPU times: user 297 ms, sys: 10.9 ms, total: 308 ms\n",
      "Wall time: 308 ms\n"
     ]
    }
   ],
   "source": [
    "%%time\n",
    "from sklearn.ensemble import RandomForestClassifier\n",
    "clf = RandomForestClassifier(random_state=seed)\n",
    "clf.fit(train_features, train_labels)\n",
    "test_preds = clf.predict(test_features)\n",
    "diff = np.equal(test_labels.values, test_preds)\n",
    "accuracy = np.sum(diff) / test_labels.size"
   ]
  },
  {
   "cell_type": "code",
   "execution_count": 19,
   "metadata": {},
   "outputs": [
    {
     "data": {
      "text/plain": [
       "RandomForestClassifier(bootstrap=True, class_weight=None, criterion='gini',\n",
       "            max_depth=None, max_features='auto', max_leaf_nodes=None,\n",
       "            min_impurity_decrease=0.0, min_impurity_split=None,\n",
       "            min_samples_leaf=1, min_samples_split=2,\n",
       "            min_weight_fraction_leaf=0.0, n_estimators=10, n_jobs=1,\n",
       "            oob_score=False, random_state=666, verbose=0, warm_start=False)"
      ]
     },
     "execution_count": 19,
     "metadata": {},
     "output_type": "execute_result"
    }
   ],
   "source": [
    "clf"
   ]
  },
  {
   "cell_type": "code",
   "execution_count": 20,
   "metadata": {},
   "outputs": [
    {
     "data": {
      "text/plain": [
       "0.76428397763189881"
      ]
     },
     "execution_count": 20,
     "metadata": {},
     "output_type": "execute_result"
    }
   ],
   "source": [
    "accuracy"
   ]
  },
  {
   "cell_type": "markdown",
   "metadata": {},
   "source": [
    "### Support vector machine"
   ]
  },
  {
   "cell_type": "code",
   "execution_count": 21,
   "metadata": {},
   "outputs": [
    {
     "name": "stdout",
     "output_type": "stream",
     "text": [
      "CPU times: user 17.7 s, sys: 50.6 ms, total: 17.8 s\n",
      "Wall time: 17.8 s\n"
     ]
    }
   ],
   "source": [
    "%%time\n",
    "from sklearn.multioutput import MultiOutputClassifier\n",
    "from sklearn.svm import SVC\n",
    "clf = SVC()\n",
    "clfs = MultiOutputClassifier(clf)\n",
    "clfs.fit(train_features, train_labels)\n",
    "test_preds = clfs.predict(test_features)\n",
    "diff = np.equal(test_labels.values, test_preds)\n",
    "accuracy = np.sum(diff) / test_labels.size"
   ]
  },
  {
   "cell_type": "code",
   "execution_count": 22,
   "metadata": {},
   "outputs": [
    {
     "data": {
      "text/plain": [
       "SVC(C=1.0, cache_size=200, class_weight=None, coef0=0.0,\n",
       "  decision_function_shape='ovr', degree=3, gamma='auto', kernel='rbf',\n",
       "  max_iter=-1, probability=False, random_state=None, shrinking=True,\n",
       "  tol=0.001, verbose=False)"
      ]
     },
     "execution_count": 22,
     "metadata": {},
     "output_type": "execute_result"
    }
   ],
   "source": [
    "clf"
   ]
  },
  {
   "cell_type": "code",
   "execution_count": 23,
   "metadata": {},
   "outputs": [
    {
     "data": {
      "text/plain": [
       "0.81108679795769512"
      ]
     },
     "execution_count": 23,
     "metadata": {},
     "output_type": "execute_result"
    }
   ],
   "source": [
    "accuracy"
   ]
  },
  {
   "cell_type": "markdown",
   "metadata": {},
   "source": [
    "### Gaussian process"
   ]
  },
  {
   "cell_type": "code",
   "execution_count": 24,
   "metadata": {},
   "outputs": [
    {
     "name": "stdout",
     "output_type": "stream",
     "text": [
      "CPU times: user 36min 30s, sys: 13.7 s, total: 36min 44s\n",
      "Wall time: 11min 12s\n"
     ]
    }
   ],
   "source": [
    "%%time\n",
    "from sklearn.multioutput import MultiOutputClassifier\n",
    "from sklearn.gaussian_process import GaussianProcessClassifier\n",
    "clf = GaussianProcessClassifier(random_state=seed)\n",
    "clfs = MultiOutputClassifier(clf)\n",
    "clfs.fit(train_features, train_labels)\n",
    "test_preds = clfs.predict(test_features)\n",
    "diff = np.equal(test_labels.values, test_preds)\n",
    "accuracy = np.sum(diff) / test_labels.size"
   ]
  },
  {
   "cell_type": "code",
   "execution_count": 25,
   "metadata": {},
   "outputs": [
    {
     "data": {
      "text/plain": [
       "GaussianProcessClassifier(copy_X_train=True, kernel=None,\n",
       "             max_iter_predict=100, multi_class='one_vs_rest', n_jobs=1,\n",
       "             n_restarts_optimizer=0, optimizer='fmin_l_bfgs_b',\n",
       "             random_state=666, warm_start=False)"
      ]
     },
     "execution_count": 25,
     "metadata": {},
     "output_type": "execute_result"
    }
   ],
   "source": [
    "clf"
   ]
  },
  {
   "cell_type": "code",
   "execution_count": 26,
   "metadata": {},
   "outputs": [
    {
     "data": {
      "text/plain": [
       "0.67456844152686601"
      ]
     },
     "execution_count": 26,
     "metadata": {},
     "output_type": "execute_result"
    }
   ],
   "source": [
    "accuracy"
   ]
  },
  {
   "cell_type": "markdown",
   "metadata": {},
   "source": [
    "### Decision tree"
   ]
  },
  {
   "cell_type": "code",
   "execution_count": 27,
   "metadata": {},
   "outputs": [
    {
     "name": "stdout",
     "output_type": "stream",
     "text": [
      "CPU times: user 372 ms, sys: 3.03 ms, total: 375 ms\n",
      "Wall time: 374 ms\n"
     ]
    }
   ],
   "source": [
    "%%time\n",
    "from sklearn.tree import DecisionTreeClassifier\n",
    "clf = DecisionTreeClassifier(random_state=seed)\n",
    "clf.fit(train_features, train_labels)\n",
    "test_preds = clf.predict(test_features)\n",
    "diff = np.equal(test_labels.values, test_preds)\n",
    "accuracy = np.sum(diff) / test_labels.size"
   ]
  },
  {
   "cell_type": "code",
   "execution_count": 28,
   "metadata": {},
   "outputs": [
    {
     "data": {
      "text/plain": [
       "DecisionTreeClassifier(class_weight=None, criterion='gini', max_depth=None,\n",
       "            max_features=None, max_leaf_nodes=None,\n",
       "            min_impurity_decrease=0.0, min_impurity_split=None,\n",
       "            min_samples_leaf=1, min_samples_split=2,\n",
       "            min_weight_fraction_leaf=0.0, presort=False, random_state=666,\n",
       "            splitter='best')"
      ]
     },
     "execution_count": 28,
     "metadata": {},
     "output_type": "execute_result"
    }
   ],
   "source": [
    "clf"
   ]
  },
  {
   "cell_type": "code",
   "execution_count": 29,
   "metadata": {},
   "outputs": [
    {
     "data": {
      "text/plain": [
       "0.67213712618526622"
      ]
     },
     "execution_count": 29,
     "metadata": {},
     "output_type": "execute_result"
    }
   ],
   "source": [
    "accuracy"
   ]
  },
  {
   "cell_type": "markdown",
   "metadata": {},
   "source": [
    "### Multilayer perceptron"
   ]
  },
  {
   "cell_type": "code",
   "execution_count": 30,
   "metadata": {},
   "outputs": [
    {
     "name": "stdout",
     "output_type": "stream",
     "text": [
      "CPU times: user 2.65 s, sys: 409 ms, total: 3.06 s\n",
      "Wall time: 2.77 s\n"
     ]
    }
   ],
   "source": [
    "%%time\n",
    "from sklearn.multioutput import MultiOutputClassifier\n",
    "from sklearn.neural_network import MLPClassifier\n",
    "clf = MLPClassifier(random_state=seed)\n",
    "clfs = MultiOutputClassifier(clf)\n",
    "clfs.fit(train_features, train_labels)\n",
    "test_preds = clfs.predict(test_features)\n",
    "diff = np.equal(test_labels.values, test_preds)\n",
    "accuracy = np.sum(diff) / test_labels.size"
   ]
  },
  {
   "cell_type": "code",
   "execution_count": 31,
   "metadata": {},
   "outputs": [
    {
     "data": {
      "text/plain": [
       "MLPClassifier(activation='relu', alpha=0.0001, batch_size='auto', beta_1=0.9,\n",
       "       beta_2=0.999, early_stopping=False, epsilon=1e-08,\n",
       "       hidden_layer_sizes=(100,), learning_rate='constant',\n",
       "       learning_rate_init=0.001, max_iter=200, momentum=0.9,\n",
       "       nesterovs_momentum=True, power_t=0.5, random_state=666,\n",
       "       shuffle=True, solver='adam', tol=0.0001, validation_fraction=0.1,\n",
       "       verbose=False, warm_start=False)"
      ]
     },
     "execution_count": 31,
     "metadata": {},
     "output_type": "execute_result"
    }
   ],
   "source": [
    "clf"
   ]
  },
  {
   "cell_type": "code",
   "execution_count": 32,
   "metadata": {},
   "outputs": [
    {
     "data": {
      "text/plain": [
       "0.46498905908096277"
      ]
     },
     "execution_count": 32,
     "metadata": {},
     "output_type": "execute_result"
    }
   ],
   "source": [
    "accuracy"
   ]
  },
  {
   "cell_type": "code",
   "execution_count": null,
   "metadata": {},
   "outputs": [],
   "source": []
  }
 ],
 "metadata": {
  "kernelspec": {
   "display_name": "Python 3",
   "language": "python",
   "name": "python3"
  },
  "language_info": {
   "codemirror_mode": {
    "name": "ipython",
    "version": 3
   },
   "file_extension": ".py",
   "mimetype": "text/x-python",
   "name": "python",
   "nbconvert_exporter": "python",
   "pygments_lexer": "ipython3",
   "version": "3.6.3"
  }
 },
 "nbformat": 4,
 "nbformat_minor": 2
}
